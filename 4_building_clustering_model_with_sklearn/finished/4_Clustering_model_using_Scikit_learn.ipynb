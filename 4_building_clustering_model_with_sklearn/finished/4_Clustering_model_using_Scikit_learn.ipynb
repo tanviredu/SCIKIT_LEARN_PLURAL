{
  "nbformat": 4,
  "nbformat_minor": 0,
  "metadata": {
    "colab": {
      "name": "4_Clustering_model_using_Scikit_learn.ipynb",
      "provenance": []
    },
    "kernelspec": {
      "name": "python3",
      "display_name": "Python 3"
    }
  },
  "cells": [
    {
      "cell_type": "code",
      "metadata": {
        "id": "-MJHnDweUg9U",
        "colab_type": "code",
        "colab": {}
      },
      "source": [
        "### applying the clustering in the artificial data\n",
        "### using k means clustering"
      ],
      "execution_count": 161,
      "outputs": []
    },
    {
      "cell_type": "code",
      "metadata": {
        "id": "B8fJyPmx2qC3",
        "colab_type": "code",
        "colab": {}
      },
      "source": [
        "import random\n",
        "import numpy as np\n",
        "import pandas as pd\n",
        "import matplotlib.pyplot as plt\n",
        "import sklearn\n",
        "from sklearn import metrics\n",
        "from sklearn.cluster import KMeans"
      ],
      "execution_count": 162,
      "outputs": []
    },
    {
      "cell_type": "code",
      "metadata": {
        "id": "HLau7ULs3LBR",
        "colab_type": "code",
        "colab": {}
      },
      "source": [
        "## turn of the warning\n",
        "import warnings\n",
        "warnings.filterwarnings(\"ignore\")\n"
      ],
      "execution_count": 163,
      "outputs": []
    },
    {
      "cell_type": "code",
      "metadata": {
        "id": "mxy00MSP3YXn",
        "colab_type": "code",
        "colab": {
          "base_uri": "https://localhost:8080/",
          "height": 35
        },
        "outputId": "f031facb-e2d3-4de1-d311-821404fb6b96"
      },
      "source": [
        "## lets make some data between 1 and 400 (x and y) co-ordinate\n",
        "[random.randint(1,400) for i in range(2)]\n",
        "## it will give you two random numbe x and y from range(1,400)\n",
        "## we need 50 of that "
      ],
      "execution_count": 164,
      "outputs": [
        {
          "output_type": "execute_result",
          "data": {
            "text/plain": [
              "[259, 64]"
            ]
          },
          "metadata": {
            "tags": []
          },
          "execution_count": 164
        }
      ]
    },
    {
      "cell_type": "code",
      "metadata": {
        "id": "EaGW7yYc31ug",
        "colab_type": "code",
        "colab": {
          "base_uri": "https://localhost:8080/",
          "height": 922
        },
        "outputId": "195425c0-a395-46b5-ad9c-b0481e2a7b63"
      },
      "source": [
        "[[random.randint(1,400) for i in range(2)] for j in range(50)]"
      ],
      "execution_count": 165,
      "outputs": [
        {
          "output_type": "execute_result",
          "data": {
            "text/plain": [
              "[[351, 33],\n",
              " [340, 225],\n",
              " [326, 241],\n",
              " [29, 350],\n",
              " [210, 98],\n",
              " [209, 179],\n",
              " [58, 48],\n",
              " [398, 106],\n",
              " [207, 93],\n",
              " [171, 252],\n",
              " [327, 293],\n",
              " [333, 316],\n",
              " [220, 383],\n",
              " [164, 267],\n",
              " [50, 247],\n",
              " [208, 62],\n",
              " [268, 242],\n",
              " [247, 299],\n",
              " [167, 61],\n",
              " [305, 313],\n",
              " [42, 153],\n",
              " [372, 233],\n",
              " [39, 355],\n",
              " [6, 182],\n",
              " [320, 71],\n",
              " [8, 134],\n",
              " [158, 280],\n",
              " [387, 6],\n",
              " [154, 378],\n",
              " [250, 342],\n",
              " [274, 128],\n",
              " [48, 133],\n",
              " [82, 4],\n",
              " [250, 33],\n",
              " [308, 275],\n",
              " [42, 139],\n",
              " [299, 27],\n",
              " [243, 183],\n",
              " [319, 13],\n",
              " [273, 185],\n",
              " [77, 139],\n",
              " [365, 235],\n",
              " [154, 181],\n",
              " [45, 327],\n",
              " [310, 208],\n",
              " [248, 205],\n",
              " [253, 177],\n",
              " [85, 234],\n",
              " [305, 372],\n",
              " [361, 328]]"
            ]
          },
          "metadata": {
            "tags": []
          },
          "execution_count": 165
        }
      ]
    },
    {
      "cell_type": "code",
      "metadata": {
        "id": "7YoRr-yh4Dp5",
        "colab_type": "code",
        "colab": {
          "base_uri": "https://localhost:8080/",
          "height": 922
        },
        "outputId": "4df14cea-99ce-44bf-e51c-096fc032779a"
      },
      "source": [
        "np.array([[random.randint(1,400) for i in range(2)] for j in range(50)],dtype=np.float64)"
      ],
      "execution_count": 166,
      "outputs": [
        {
          "output_type": "execute_result",
          "data": {
            "text/plain": [
              "array([[173.,  28.],\n",
              "       [244., 317.],\n",
              "       [169., 278.],\n",
              "       [397., 199.],\n",
              "       [383.,  30.],\n",
              "       [ 56., 206.],\n",
              "       [387., 238.],\n",
              "       [  6., 220.],\n",
              "       [203., 192.],\n",
              "       [388., 299.],\n",
              "       [290., 389.],\n",
              "       [104., 385.],\n",
              "       [206.,  78.],\n",
              "       [ 38., 368.],\n",
              "       [272., 140.],\n",
              "       [ 85., 146.],\n",
              "       [297., 271.],\n",
              "       [ 44., 171.],\n",
              "       [325., 276.],\n",
              "       [191., 287.],\n",
              "       [345., 348.],\n",
              "       [117., 292.],\n",
              "       [368., 158.],\n",
              "       [105.,  42.],\n",
              "       [318., 197.],\n",
              "       [ 98., 291.],\n",
              "       [ 16., 171.],\n",
              "       [ 70., 214.],\n",
              "       [ 55., 264.],\n",
              "       [111.,  27.],\n",
              "       [240.,  55.],\n",
              "       [ 85., 282.],\n",
              "       [ 45., 138.],\n",
              "       [294., 389.],\n",
              "       [342.,  86.],\n",
              "       [262., 151.],\n",
              "       [116.,  83.],\n",
              "       [351., 241.],\n",
              "       [393., 316.],\n",
              "       [221.,  81.],\n",
              "       [127., 153.],\n",
              "       [294., 296.],\n",
              "       [115., 111.],\n",
              "       [101., 267.],\n",
              "       [198., 134.],\n",
              "       [332., 186.],\n",
              "       [137., 383.],\n",
              "       [232., 128.],\n",
              "       [  7., 232.],\n",
              "       [376., 341.]])"
            ]
          },
          "metadata": {
            "tags": []
          },
          "execution_count": 166
        }
      ]
    },
    {
      "cell_type": "code",
      "metadata": {
        "id": "-cuzdVCg4K48",
        "colab_type": "code",
        "colab": {}
      },
      "source": [
        "## now make three cluster in three different range\n",
        "data1 = np.array([[random.randint(1,400) for i in range(2)] for j in range(50)],dtype=np.float64)\n",
        "data2 = np.array([[random.randint(300,700) for i in range(2)] for j in range(50)],dtype=np.float64)\n",
        "data3 = np.array([[random.randint(600 ,900) for i in range(2)] for j in range(50)],dtype=np.float64)\n",
        "\n",
        "## remember there are some overlapping in the data"
      ],
      "execution_count": 167,
      "outputs": []
    },
    {
      "cell_type": "code",
      "metadata": {
        "id": "9BdVLkFR7pl_",
        "colab_type": "code",
        "colab": {}
      },
      "source": [
        "## conat all the data list in  a list\n",
        "data = np.append(np.append(data1,data2,axis=0),data3,axis=0)"
      ],
      "execution_count": 168,
      "outputs": []
    },
    {
      "cell_type": "code",
      "metadata": {
        "id": "eERMQgar72s7",
        "colab_type": "code",
        "colab": {
          "base_uri": "https://localhost:8080/",
          "height": 35
        },
        "outputId": "a627fee2-931e-49fb-aa33-ea5db321fe65"
      },
      "source": [
        "len(data) "
      ],
      "execution_count": 169,
      "outputs": [
        {
          "output_type": "execute_result",
          "data": {
            "text/plain": [
              "150"
            ]
          },
          "metadata": {
            "tags": []
          },
          "execution_count": 169
        }
      ]
    },
    {
      "cell_type": "code",
      "metadata": {
        "id": "gkR5FznH73Zc",
        "colab_type": "code",
        "colab": {
          "base_uri": "https://localhost:8080/",
          "height": 270
        },
        "outputId": "82a78d44-48f6-4194-e03d-155faaefd302"
      },
      "source": [
        "data[:,0] ## its all the x axis data"
      ],
      "execution_count": 170,
      "outputs": [
        {
          "output_type": "execute_result",
          "data": {
            "text/plain": [
              "array([321., 255.,  46., 308., 223., 119., 176., 298., 163.,  30., 227.,\n",
              "       198., 372.,   1., 109., 140., 262., 285., 373., 118.,  95., 339.,\n",
              "       287., 130., 316.,  48., 226., 178., 108., 323., 320., 278., 400.,\n",
              "       365., 277., 224., 250.,  42.,  47., 303., 208., 371.,   9., 177.,\n",
              "       314., 179.,  92., 136.,  46., 136., 429., 653., 579., 568., 401.,\n",
              "       485., 548., 374., 361., 477., 653., 373., 365., 618., 341., 598.,\n",
              "       473., 587., 471., 451., 528., 408., 662., 432., 414., 486., 331.,\n",
              "       668., 619., 537., 563., 435., 340., 366., 515., 471., 452., 430.,\n",
              "       475., 642., 343., 548., 438., 527., 624., 492., 668., 496., 498.,\n",
              "       305., 664., 802., 840., 869., 643., 739., 804., 794., 900., 676.,\n",
              "       693., 790., 666., 785., 672., 822., 684., 719., 869., 631., 863.,\n",
              "       827., 674., 701., 832., 661., 729., 740., 892., 634., 805., 789.,\n",
              "       787., 785., 867., 633., 700., 771., 855., 848., 716., 885., 753.,\n",
              "       722., 733., 716., 753., 670., 889., 628.])"
            ]
          },
          "metadata": {
            "tags": []
          },
          "execution_count": 170
        }
      ]
    },
    {
      "cell_type": "code",
      "metadata": {
        "id": "KgdyVcaL8JqI",
        "colab_type": "code",
        "colab": {
          "base_uri": "https://localhost:8080/",
          "height": 270
        },
        "outputId": "fc0f1b66-bfc9-47e0-f2be-ce4136c52028"
      },
      "source": [
        "data[:,1] ## this is all the y axis data"
      ],
      "execution_count": 171,
      "outputs": [
        {
          "output_type": "execute_result",
          "data": {
            "text/plain": [
              "array([211.,  42.,  39., 155., 380.,  97., 246., 279.,  59., 149.,  76.,\n",
              "        78.,  14., 175., 387., 363., 309.,  20., 371., 337., 227., 207.,\n",
              "       165., 383.,  31., 399., 202., 366., 245., 259.,  12., 335., 352.,\n",
              "       315., 137., 261., 379.,  30., 177., 206.,  81.,  93., 252., 397.,\n",
              "       243., 140., 128., 320., 383.,  44., 436., 536., 449., 561., 602.,\n",
              "       564., 632., 398., 536., 371., 359., 655., 457., 572., 476., 327.,\n",
              "       503., 493., 522., 349., 332., 348., 641., 428., 365., 471., 437.,\n",
              "       454., 431., 639., 572., 505., 650., 465., 557., 360., 388., 620.,\n",
              "       494., 581., 344., 637., 489., 377., 525., 346., 523., 496., 638.,\n",
              "       627., 703., 653., 719., 802., 866., 886., 782., 778., 892., 878.,\n",
              "       657., 834., 854., 764., 862., 618., 796., 733., 841., 831., 748.,\n",
              "       627., 774., 781., 700., 673., 764., 802., 646., 791., 834., 897.,\n",
              "       683., 879., 864., 713., 666., 832., 600., 785., 763., 608., 868.,\n",
              "       857., 637., 615., 700., 684., 824., 781.])"
            ]
          },
          "metadata": {
            "tags": []
          },
          "execution_count": 171
        }
      ]
    },
    {
      "cell_type": "code",
      "metadata": {
        "id": "nKauxu8z8W5d",
        "colab_type": "code",
        "colab": {
          "base_uri": "https://localhost:8080/",
          "height": 283
        },
        "outputId": "d4efa812-cabf-4a25-90e2-896c4537f929"
      },
      "source": [
        "plt.scatter(data[:,0],data[:,1],s=200)"
      ],
      "execution_count": 172,
      "outputs": [
        {
          "output_type": "execute_result",
          "data": {
            "text/plain": [
              "<matplotlib.collections.PathCollection at 0x7ff75d196c50>"
            ]
          },
          "metadata": {
            "tags": []
          },
          "execution_count": 172
        },
        {
          "output_type": "display_data",
          "data": {
            "image/png": "[encoded data removed]",
            "text/plain": [
              "<Figure size 432x288 with 1 Axes>"
            ]
          },
          "metadata": {
            "tags": [],
            "needs_background": "light"
          }
        }
      ]
    },
    {
      "cell_type": "code",
      "metadata": {
        "id": "p7uTAVjf8nBd",
        "colab_type": "code",
        "colab": {}
      },
      "source": [
        "## adding some kind of label to the data\n",
        "## so we can name them\n",
        "label1 = np.array([0 for i in range(50)])\n",
        "label2 = np.array([1 for i in range(50)])\n",
        "label3 = np.array([2 for i in range(50)])"
      ],
      "execution_count": 173,
      "outputs": []
    },
    {
      "cell_type": "code",
      "metadata": {
        "id": "pyj-0MDZ9Owg",
        "colab_type": "code",
        "colab": {}
      },
      "source": [
        "label = np.append(np.append(label1,label2,axis=0),label3,axis=0)"
      ],
      "execution_count": 174,
      "outputs": []
    },
    {
      "cell_type": "code",
      "metadata": {
        "id": "u4p5Bs_N9U1i",
        "colab_type": "code",
        "colab": {
          "base_uri": "https://localhost:8080/",
          "height": 144
        },
        "outputId": "87ce866f-1750-4a37-8e10-8a2ba86d2433"
      },
      "source": [
        "label"
      ],
      "execution_count": 175,
      "outputs": [
        {
          "output_type": "execute_result",
          "data": {
            "text/plain": [
              "array([0, 0, 0, 0, 0, 0, 0, 0, 0, 0, 0, 0, 0, 0, 0, 0, 0, 0, 0, 0, 0, 0,\n",
              "       0, 0, 0, 0, 0, 0, 0, 0, 0, 0, 0, 0, 0, 0, 0, 0, 0, 0, 0, 0, 0, 0,\n",
              "       0, 0, 0, 0, 0, 0, 1, 1, 1, 1, 1, 1, 1, 1, 1, 1, 1, 1, 1, 1, 1, 1,\n",
              "       1, 1, 1, 1, 1, 1, 1, 1, 1, 1, 1, 1, 1, 1, 1, 1, 1, 1, 1, 1, 1, 1,\n",
              "       1, 1, 1, 1, 1, 1, 1, 1, 1, 1, 1, 1, 2, 2, 2, 2, 2, 2, 2, 2, 2, 2,\n",
              "       2, 2, 2, 2, 2, 2, 2, 2, 2, 2, 2, 2, 2, 2, 2, 2, 2, 2, 2, 2, 2, 2,\n",
              "       2, 2, 2, 2, 2, 2, 2, 2, 2, 2, 2, 2, 2, 2, 2, 2, 2, 2])"
            ]
          },
          "metadata": {
            "tags": []
          },
          "execution_count": 175
        }
      ]
    },
    {
      "cell_type": "code",
      "metadata": {
        "id": "d90OVxjM9Ydg",
        "colab_type": "code",
        "colab": {}
      },
      "source": [
        "##create the data frame to work efficiently with the data\n",
        "df = pd.DataFrame({'data_x':data[:,0],'data_y':data[:,1],'labels':label})"
      ],
      "execution_count": 176,
      "outputs": []
    },
    {
      "cell_type": "code",
      "metadata": {
        "id": "zEr7UYZr-1pQ",
        "colab_type": "code",
        "colab": {
          "base_uri": "https://localhost:8080/",
          "height": 206
        },
        "outputId": "6b35022a-fcaa-44a2-ee6e-c0e5d3554e0d"
      },
      "source": [
        "df.head()"
      ],
      "execution_count": 177,
      "outputs": [
        {
          "output_type": "execute_result",
          "data": {
            "text/html": [
              "<div>\n",
              "<style scoped>\n",
              "    .dataframe tbody tr th:only-of-type {\n",
              "        vertical-align: middle;\n",
              "    }\n",
              "\n",
              "    .dataframe tbody tr th {\n",
              "        vertical-align: top;\n",
              "    }\n",
              "\n",
              "    .dataframe thead th {\n",
              "        text-align: right;\n",
              "    }\n",
              "</style>\n",
              "<table border=\"1\" class=\"dataframe\">\n",
              "  <thead>\n",
              "    <tr style=\"text-align: right;\">\n",
              "      <th></th>\n",
              "      <th>data_x</th>\n",
              "      <th>data_y</th>\n",
              "      <th>labels</th>\n",
              "    </tr>\n",
              "  </thead>\n",
              "  <tbody>\n",
              "    <tr>\n",
              "      <th>0</th>\n",
              "      <td>321.0</td>\n",
              "      <td>211.0</td>\n",
              "      <td>0</td>\n",
              "    </tr>\n",
              "    <tr>\n",
              "      <th>1</th>\n",
              "      <td>255.0</td>\n",
              "      <td>42.0</td>\n",
              "      <td>0</td>\n",
              "    </tr>\n",
              "    <tr>\n",
              "      <th>2</th>\n",
              "      <td>46.0</td>\n",
              "      <td>39.0</td>\n",
              "      <td>0</td>\n",
              "    </tr>\n",
              "    <tr>\n",
              "      <th>3</th>\n",
              "      <td>308.0</td>\n",
              "      <td>155.0</td>\n",
              "      <td>0</td>\n",
              "    </tr>\n",
              "    <tr>\n",
              "      <th>4</th>\n",
              "      <td>223.0</td>\n",
              "      <td>380.0</td>\n",
              "      <td>0</td>\n",
              "    </tr>\n",
              "  </tbody>\n",
              "</table>\n",
              "</div>"
            ],
            "text/plain": [
              "   data_x  data_y  labels\n",
              "0   321.0   211.0       0\n",
              "1   255.0    42.0       0\n",
              "2    46.0    39.0       0\n",
              "3   308.0   155.0       0\n",
              "4   223.0   380.0       0"
            ]
          },
          "metadata": {
            "tags": []
          },
          "execution_count": 177
        }
      ]
    },
    {
      "cell_type": "code",
      "metadata": {
        "id": "KWPpUsV_-6xx",
        "colab_type": "code",
        "colab": {
          "base_uri": "https://localhost:8080/",
          "height": 283
        },
        "outputId": "a0494127-3313-4ac2-ff28-32ab8d128a0a"
      },
      "source": [
        "color = ['green','blue','purple']\n",
        "plt.scatter(df['data_x'],df['data_y'],c=df['labels'],s=200)"
      ],
      "execution_count": 178,
      "outputs": [
        {
          "output_type": "execute_result",
          "data": {
            "text/plain": [
              "<matplotlib.collections.PathCollection at 0x7ff75c8f76a0>"
            ]
          },
          "metadata": {
            "tags": []
          },
          "execution_count": 178
        },
        {
          "output_type": "display_data",
          "data": {
            "image/png": "[encoded data removed]",
            "text/plain": [
              "<Figure size 432x288 with 1 Axes>"
            ]
          },
          "metadata": {
            "tags": [],
            "needs_background": "light"
          }
        }
      ]
    },
    {
      "cell_type": "code",
      "metadata": {
        "id": "NDj-1nuD_Nyy",
        "colab_type": "code",
        "colab": {}
      },
      "source": [
        "kmeans_model = KMeans(n_clusters=3,max_iter=10000).fit(data)"
      ],
      "execution_count": 179,
      "outputs": []
    },
    {
      "cell_type": "code",
      "metadata": {
        "id": "_ckVuJX3_dnU",
        "colab_type": "code",
        "colab": {
          "base_uri": "https://localhost:8080/",
          "height": 144
        },
        "outputId": "e552c94d-44a4-4985-f381-5459ee345b35"
      },
      "source": [
        "## see the predicted label\n",
        "kmeans_model.labels_"
      ],
      "execution_count": 180,
      "outputs": [
        {
          "output_type": "execute_result",
          "data": {
            "text/plain": [
              "array([1, 1, 1, 1, 1, 1, 1, 1, 1, 1, 1, 1, 1, 1, 1, 1, 1, 1, 2, 1, 1, 1,\n",
              "       1, 1, 1, 1, 1, 1, 1, 1, 1, 1, 2, 1, 1, 1, 1, 1, 1, 1, 1, 1, 1, 1,\n",
              "       1, 1, 1, 1, 1, 1, 2, 2, 2, 2, 2, 2, 2, 2, 2, 2, 2, 2, 2, 2, 2, 2,\n",
              "       2, 2, 2, 2, 2, 2, 0, 2, 2, 2, 2, 2, 2, 2, 2, 2, 2, 2, 2, 2, 2, 2,\n",
              "       2, 2, 1, 2, 2, 2, 2, 2, 2, 2, 2, 2, 0, 0, 0, 0, 0, 0, 0, 0, 0, 0,\n",
              "       0, 0, 0, 0, 0, 0, 0, 0, 0, 0, 0, 0, 0, 0, 0, 0, 0, 0, 0, 0, 0, 0,\n",
              "       0, 0, 0, 0, 0, 0, 0, 0, 0, 0, 0, 0, 0, 0, 0, 0, 0, 0], dtype=int32)"
            ]
          },
          "metadata": {
            "tags": []
          },
          "execution_count": 180
        }
      ]
    },
    {
      "cell_type": "code",
      "metadata": {
        "id": "sHQIR3rY_mgD",
        "colab_type": "code",
        "colab": {}
      },
      "source": [
        "## because we did the kmeans clustering there must be three centroids\n",
        "## three centroid of the three cluster\n",
        "centroids = kmeans_model.cluster_centers_"
      ],
      "execution_count": 181,
      "outputs": []
    },
    {
      "cell_type": "code",
      "metadata": {
        "id": "_Sj1FwHx_0ok",
        "colab_type": "code",
        "colab": {
          "base_uri": "https://localhost:8080/",
          "height": 71
        },
        "outputId": "2ea32ffc-e6b2-4e78-9789-4c2cb1901bb4"
      },
      "source": [
        "centroids"
      ],
      "execution_count": 182,
      "outputs": [
        {
          "output_type": "execute_result",
          "data": {
            "text/plain": [
              "array([[756.50980392, 760.50980392],\n",
              "       [200.36734694, 207.69387755],\n",
              "       [485.72      , 485.52      ]])"
            ]
          },
          "metadata": {
            "tags": []
          },
          "execution_count": 182
        }
      ]
    },
    {
      "cell_type": "code",
      "metadata": {
        "id": "AHeE96_0_1ha",
        "colab_type": "code",
        "colab": {
          "base_uri": "https://localhost:8080/",
          "height": 283
        },
        "outputId": "9066f26d-b2a7-4657-ea8d-74449aec6f69"
      },
      "source": [
        "plt.scatter(centroids[:,0],centroids[:,1])"
      ],
      "execution_count": 183,
      "outputs": [
        {
          "output_type": "execute_result",
          "data": {
            "text/plain": [
              "<matplotlib.collections.PathCollection at 0x7ff75c84b898>"
            ]
          },
          "metadata": {
            "tags": []
          },
          "execution_count": 183
        },
        {
          "output_type": "display_data",
          "data": {
            "image/png": "[encoded data removed]",
            "text/plain": [
              "<Figure size 432x288 with 1 Axes>"
            ]
          },
          "metadata": {
            "tags": [],
            "needs_background": "light"
          }
        }
      ]
    },
    {
      "cell_type": "code",
      "metadata": {
        "id": "HyIPHhIFAiXv",
        "colab_type": "code",
        "colab": {}
      },
      "source": [
        "### remember these label that are generated by the kmeasn are different than the label you had assigned"
      ],
      "execution_count": 184,
      "outputs": []
    },
    {
      "cell_type": "code",
      "metadata": {
        "id": "clqRbUg_BIKZ",
        "colab_type": "code",
        "colab": {
          "base_uri": "https://localhost:8080/",
          "height": 108
        },
        "outputId": "35342953-fdb0-4679-e036-f0ffb1bb3375"
      },
      "source": [
        "#### now to evaluate a cluster you do not need\n",
        "## to adjust the cluster generated label to your label\n",
        "## we habe nothing to do with the label value\n",
        "## we just worry are their in the same cluster\n",
        "print(\"Homogenity score\",metrics.homogeneity_score(label,kmeans_model.labels_))\n",
        "print(\"Completeness score\",metrics.completeness_score(label,kmeans_model.labels_))\n",
        "print(\"V-measure score\",metrics.v_measure_score(label,kmeans_model.labels_))\n",
        "print(\"Adjusted rand score\",metrics.adjusted_rand_score(label,kmeans_model.labels_))\n",
        "print(\"Siluate score\",metrics.silhouette_score(data,kmeans_model.labels_))\n"
      ],
      "execution_count": 185,
      "outputs": [
        {
          "output_type": "stream",
          "text": [
            "Homogenity score 0.8895533291964826\n",
            "Completeness score 0.889661310345643\n",
            "V-measure score 0.8896073164943562\n",
            "Adjusted rand score 0.9215523820796108\n",
            "Siluate score 0.5098543472830085\n"
          ],
          "name": "stdout"
        }
      ]
    },
    {
      "cell_type": "code",
      "metadata": {
        "id": "qpgpOoLAC3Ip",
        "colab_type": "code",
        "colab": {}
      },
      "source": [
        "### so you can see that the result does not on the label you assigned and the kmeans does\n",
        "### and the siluate score does not nees the original label"
      ],
      "execution_count": 186,
      "outputs": []
    },
    {
      "cell_type": "code",
      "metadata": {
        "id": "xDtzM5HrDv4U",
        "colab_type": "code",
        "colab": {
          "base_uri": "https://localhost:8080/",
          "height": 283
        },
        "outputId": "393d7ff4-7f0b-4d28-adbe-ba77285d8c0e"
      },
      "source": [
        "\n",
        "plt.scatter(centroids[:,0],centroids[:,1],s=500)\n",
        "plt.scatter(df['data_x'],df['data_y'],c=df['labels'])"
      ],
      "execution_count": 187,
      "outputs": [
        {
          "output_type": "execute_result",
          "data": {
            "text/plain": [
              "<matplotlib.collections.PathCollection at 0x7ff75c833358>"
            ]
          },
          "metadata": {
            "tags": []
          },
          "execution_count": 187
        },
        {
          "output_type": "display_data",
          "data": {
            "image/png": "[encoded data removed]",
            "text/plain": [
              "<Figure size 432x288 with 1 Axes>"
            ]
          },
          "metadata": {
            "tags": [],
            "needs_background": "light"
          }
        }
      ]
    },
    {
      "cell_type": "code",
      "metadata": {
        "id": "fMvd7gAqD2fi",
        "colab_type": "code",
        "colab": {}
      },
      "source": [
        "## lets done an inference\n",
        "test_data = np.array([[200,300],[234,345],[700,900]])"
      ],
      "execution_count": 188,
      "outputs": []
    },
    {
      "cell_type": "code",
      "metadata": {
        "id": "k5ox_dLEERl1",
        "colab_type": "code",
        "colab": {
          "base_uri": "https://localhost:8080/",
          "height": 35
        },
        "outputId": "487d7e6f-a546-4ad8-9933-94b251d00a78"
      },
      "source": [
        "kmeans_model.predict(test_data)"
      ],
      "execution_count": 189,
      "outputs": [
        {
          "output_type": "execute_result",
          "data": {
            "text/plain": [
              "array([1, 1, 0], dtype=int32)"
            ]
          },
          "metadata": {
            "tags": []
          },
          "execution_count": 189
        }
      ]
    },
    {
      "cell_type": "code",
      "metadata": {
        "id": "O8uGxxcCEZk1",
        "colab_type": "code",
        "colab": {
          "base_uri": "https://localhost:8080/",
          "height": 283
        },
        "outputId": "70966cea-2014-4ab2-90b4-d1596ee0f627"
      },
      "source": [
        "plt.scatter(test_data[:,0],test_data[:,1],s=900)\n",
        "plt.scatter(df['data_x'],df['data_y'],c=df['labels'])"
      ],
      "execution_count": 190,
      "outputs": [
        {
          "output_type": "execute_result",
          "data": {
            "text/plain": [
              "<matplotlib.collections.PathCollection at 0x7ff75c787ba8>"
            ]
          },
          "metadata": {
            "tags": []
          },
          "execution_count": 190
        },
        {
          "output_type": "display_data",
          "data": {
            "image/png": "[encoded data removed]",
            "text/plain": [
              "<Figure size 432x288 with 1 Axes>"
            ]
          },
          "metadata": {
            "tags": [],
            "needs_background": "light"
          }
        }
      ]
    },
    {
      "cell_type": "code",
      "metadata": {
        "id": "f6WN-Im6EffQ",
        "colab_type": "code",
        "colab": {}
      },
      "source": [
        "## exploring the iris data set\n",
        "import numpy as np\n",
        "import pandas as pd\n",
        "import matplotlib.pyplot as plt\n",
        "import sklearn\n",
        "from sklearn.datasets import load_iris"
      ],
      "execution_count": 191,
      "outputs": []
    },
    {
      "cell_type": "code",
      "metadata": {
        "id": "q2abhzSZFcWx",
        "colab_type": "code",
        "colab": {}
      },
      "source": [
        "df = load_iris()"
      ],
      "execution_count": 192,
      "outputs": []
    },
    {
      "cell_type": "code",
      "metadata": {
        "id": "NQJQHnQ0FeFV",
        "colab_type": "code",
        "colab": {
          "base_uri": "https://localhost:8080/",
          "height": 1000
        },
        "outputId": "03ac622e-ed80-47c2-d6fe-90fb0847e127"
      },
      "source": [
        "print(df.data)\n",
        "print(df.target_names)\n",
        "print(df.target)\n"
      ],
      "execution_count": 193,
      "outputs": [
        {
          "output_type": "stream",
          "text": [
            "[[5.1 3.5 1.4 0.2]\n",
            " [4.9 3.  1.4 0.2]\n",
            " [4.7 3.2 1.3 0.2]\n",
            " [4.6 3.1 1.5 0.2]\n",
            " [5.  3.6 1.4 0.2]\n",
            " [5.4 3.9 1.7 0.4]\n",
            " [4.6 3.4 1.4 0.3]\n",
            " [5.  3.4 1.5 0.2]\n",
            " [4.4 2.9 1.4 0.2]\n",
            " [4.9 3.1 1.5 0.1]\n",
            " [5.4 3.7 1.5 0.2]\n",
            " [4.8 3.4 1.6 0.2]\n",
            " [4.8 3.  1.4 0.1]\n",
            " [4.3 3.  1.1 0.1]\n",
            " [5.8 4.  1.2 0.2]\n",
            " [5.7 4.4 1.5 0.4]\n",
            " [5.4 3.9 1.3 0.4]\n",
            " [5.1 3.5 1.4 0.3]\n",
            " [5.7 3.8 1.7 0.3]\n",
            " [5.1 3.8 1.5 0.3]\n",
            " [5.4 3.4 1.7 0.2]\n",
            " [5.1 3.7 1.5 0.4]\n",
            " [4.6 3.6 1.  0.2]\n",
            " [5.1 3.3 1.7 0.5]\n",
            " [4.8 3.4 1.9 0.2]\n",
            " [5.  3.  1.6 0.2]\n",
            " [5.  3.4 1.6 0.4]\n",
            " [5.2 3.5 1.5 0.2]\n",
            " [5.2 3.4 1.4 0.2]\n",
            " [4.7 3.2 1.6 0.2]\n",
            " [4.8 3.1 1.6 0.2]\n",
            " [5.4 3.4 1.5 0.4]\n",
            " [5.2 4.1 1.5 0.1]\n",
            " [5.5 4.2 1.4 0.2]\n",
            " [4.9 3.1 1.5 0.2]\n",
            " [5.  3.2 1.2 0.2]\n",
            " [5.5 3.5 1.3 0.2]\n",
            " [4.9 3.6 1.4 0.1]\n",
            " [4.4 3.  1.3 0.2]\n",
            " [5.1 3.4 1.5 0.2]\n",
            " [5.  3.5 1.3 0.3]\n",
            " [4.5 2.3 1.3 0.3]\n",
            " [4.4 3.2 1.3 0.2]\n",
            " [5.  3.5 1.6 0.6]\n",
            " [5.1 3.8 1.9 0.4]\n",
            " [4.8 3.  1.4 0.3]\n",
            " [5.1 3.8 1.6 0.2]\n",
            " [4.6 3.2 1.4 0.2]\n",
            " [5.3 3.7 1.5 0.2]\n",
            " [5.  3.3 1.4 0.2]\n",
            " [7.  3.2 4.7 1.4]\n",
            " [6.4 3.2 4.5 1.5]\n",
            " [6.9 3.1 4.9 1.5]\n",
            " [5.5 2.3 4.  1.3]\n",
            " [6.5 2.8 4.6 1.5]\n",
            " [5.7 2.8 4.5 1.3]\n",
            " [6.3 3.3 4.7 1.6]\n",
            " [4.9 2.4 3.3 1. ]\n",
            " [6.6 2.9 4.6 1.3]\n",
            " [5.2 2.7 3.9 1.4]\n",
            " [5.  2.  3.5 1. ]\n",
            " [5.9 3.  4.2 1.5]\n",
            " [6.  2.2 4.  1. ]\n",
            " [6.1 2.9 4.7 1.4]\n",
            " [5.6 2.9 3.6 1.3]\n",
            " [6.7 3.1 4.4 1.4]\n",
            " [5.6 3.  4.5 1.5]\n",
            " [5.8 2.7 4.1 1. ]\n",
            " [6.2 2.2 4.5 1.5]\n",
            " [5.6 2.5 3.9 1.1]\n",
            " [5.9 3.2 4.8 1.8]\n",
            " [6.1 2.8 4.  1.3]\n",
            " [6.3 2.5 4.9 1.5]\n",
            " [6.1 2.8 4.7 1.2]\n",
            " [6.4 2.9 4.3 1.3]\n",
            " [6.6 3.  4.4 1.4]\n",
            " [6.8 2.8 4.8 1.4]\n",
            " [6.7 3.  5.  1.7]\n",
            " [6.  2.9 4.5 1.5]\n",
            " [5.7 2.6 3.5 1. ]\n",
            " [5.5 2.4 3.8 1.1]\n",
            " [5.5 2.4 3.7 1. ]\n",
            " [5.8 2.7 3.9 1.2]\n",
            " [6.  2.7 5.1 1.6]\n",
            " [5.4 3.  4.5 1.5]\n",
            " [6.  3.4 4.5 1.6]\n",
            " [6.7 3.1 4.7 1.5]\n",
            " [6.3 2.3 4.4 1.3]\n",
            " [5.6 3.  4.1 1.3]\n",
            " [5.5 2.5 4.  1.3]\n",
            " [5.5 2.6 4.4 1.2]\n",
            " [6.1 3.  4.6 1.4]\n",
            " [5.8 2.6 4.  1.2]\n",
            " [5.  2.3 3.3 1. ]\n",
            " [5.6 2.7 4.2 1.3]\n",
            " [5.7 3.  4.2 1.2]\n",
            " [5.7 2.9 4.2 1.3]\n",
            " [6.2 2.9 4.3 1.3]\n",
            " [5.1 2.5 3.  1.1]\n",
            " [5.7 2.8 4.1 1.3]\n",
            " [6.3 3.3 6.  2.5]\n",
            " [5.8 2.7 5.1 1.9]\n",
            " [7.1 3.  5.9 2.1]\n",
            " [6.3 2.9 5.6 1.8]\n",
            " [6.5 3.  5.8 2.2]\n",
            " [7.6 3.  6.6 2.1]\n",
            " [4.9 2.5 4.5 1.7]\n",
            " [7.3 2.9 6.3 1.8]\n",
            " [6.7 2.5 5.8 1.8]\n",
            " [7.2 3.6 6.1 2.5]\n",
            " [6.5 3.2 5.1 2. ]\n",
            " [6.4 2.7 5.3 1.9]\n",
            " [6.8 3.  5.5 2.1]\n",
            " [5.7 2.5 5.  2. ]\n",
            " [5.8 2.8 5.1 2.4]\n",
            " [6.4 3.2 5.3 2.3]\n",
            " [6.5 3.  5.5 1.8]\n",
            " [7.7 3.8 6.7 2.2]\n",
            " [7.7 2.6 6.9 2.3]\n",
            " [6.  2.2 5.  1.5]\n",
            " [6.9 3.2 5.7 2.3]\n",
            " [5.6 2.8 4.9 2. ]\n",
            " [7.7 2.8 6.7 2. ]\n",
            " [6.3 2.7 4.9 1.8]\n",
            " [6.7 3.3 5.7 2.1]\n",
            " [7.2 3.2 6.  1.8]\n",
            " [6.2 2.8 4.8 1.8]\n",
            " [6.1 3.  4.9 1.8]\n",
            " [6.4 2.8 5.6 2.1]\n",
            " [7.2 3.  5.8 1.6]\n",
            " [7.4 2.8 6.1 1.9]\n",
            " [7.9 3.8 6.4 2. ]\n",
            " [6.4 2.8 5.6 2.2]\n",
            " [6.3 2.8 5.1 1.5]\n",
            " [6.1 2.6 5.6 1.4]\n",
            " [7.7 3.  6.1 2.3]\n",
            " [6.3 3.4 5.6 2.4]\n",
            " [6.4 3.1 5.5 1.8]\n",
            " [6.  3.  4.8 1.8]\n",
            " [6.9 3.1 5.4 2.1]\n",
            " [6.7 3.1 5.6 2.4]\n",
            " [6.9 3.1 5.1 2.3]\n",
            " [5.8 2.7 5.1 1.9]\n",
            " [6.8 3.2 5.9 2.3]\n",
            " [6.7 3.3 5.7 2.5]\n",
            " [6.7 3.  5.2 2.3]\n",
            " [6.3 2.5 5.  1.9]\n",
            " [6.5 3.  5.2 2. ]\n",
            " [6.2 3.4 5.4 2.3]\n",
            " [5.9 3.  5.1 1.8]]\n",
            "['setosa' 'versicolor' 'virginica']\n",
            "[0 0 0 0 0 0 0 0 0 0 0 0 0 0 0 0 0 0 0 0 0 0 0 0 0 0 0 0 0 0 0 0 0 0 0 0 0\n",
            " 0 0 0 0 0 0 0 0 0 0 0 0 0 1 1 1 1 1 1 1 1 1 1 1 1 1 1 1 1 1 1 1 1 1 1 1 1\n",
            " 1 1 1 1 1 1 1 1 1 1 1 1 1 1 1 1 1 1 1 1 1 1 1 1 1 1 2 2 2 2 2 2 2 2 2 2 2\n",
            " 2 2 2 2 2 2 2 2 2 2 2 2 2 2 2 2 2 2 2 2 2 2 2 2 2 2 2 2 2 2 2 2 2 2 2 2 2\n",
            " 2 2]\n"
          ],
          "name": "stdout"
        }
      ]
    },
    {
      "cell_type": "code",
      "metadata": {
        "id": "zR4lYWfWFe5W",
        "colab_type": "code",
        "colab": {}
      },
      "source": [
        "## making a pandas dataframe from the numpy\n",
        "iris = pd.DataFrame(data=df.data,columns=df.feature_names)\n",
        "iris['target'] = np.array(df.target)"
      ],
      "execution_count": 194,
      "outputs": []
    },
    {
      "cell_type": "code",
      "metadata": {
        "id": "ANo5cpK6IO9Y",
        "colab_type": "code",
        "colab": {
          "base_uri": "https://localhost:8080/",
          "height": 424
        },
        "outputId": "a0de5aa5-686a-405c-9531-0cb6296d46ee"
      },
      "source": [
        "iris"
      ],
      "execution_count": 195,
      "outputs": [
        {
          "output_type": "execute_result",
          "data": {
            "text/html": [
              "<div>\n",
              "<style scoped>\n",
              "    .dataframe tbody tr th:only-of-type {\n",
              "        vertical-align: middle;\n",
              "    }\n",
              "\n",
              "    .dataframe tbody tr th {\n",
              "        vertical-align: top;\n",
              "    }\n",
              "\n",
              "    .dataframe thead th {\n",
              "        text-align: right;\n",
              "    }\n",
              "</style>\n",
              "<table border=\"1\" class=\"dataframe\">\n",
              "  <thead>\n",
              "    <tr style=\"text-align: right;\">\n",
              "      <th></th>\n",
              "      <th>sepal length (cm)</th>\n",
              "      <th>sepal width (cm)</th>\n",
              "      <th>petal length (cm)</th>\n",
              "      <th>petal width (cm)</th>\n",
              "      <th>target</th>\n",
              "    </tr>\n",
              "  </thead>\n",
              "  <tbody>\n",
              "    <tr>\n",
              "      <th>0</th>\n",
              "      <td>5.1</td>\n",
              "      <td>3.5</td>\n",
              "      <td>1.4</td>\n",
              "      <td>0.2</td>\n",
              "      <td>0</td>\n",
              "    </tr>\n",
              "    <tr>\n",
              "      <th>1</th>\n",
              "      <td>4.9</td>\n",
              "      <td>3.0</td>\n",
              "      <td>1.4</td>\n",
              "      <td>0.2</td>\n",
              "      <td>0</td>\n",
              "    </tr>\n",
              "    <tr>\n",
              "      <th>2</th>\n",
              "      <td>4.7</td>\n",
              "      <td>3.2</td>\n",
              "      <td>1.3</td>\n",
              "      <td>0.2</td>\n",
              "      <td>0</td>\n",
              "    </tr>\n",
              "    <tr>\n",
              "      <th>3</th>\n",
              "      <td>4.6</td>\n",
              "      <td>3.1</td>\n",
              "      <td>1.5</td>\n",
              "      <td>0.2</td>\n",
              "      <td>0</td>\n",
              "    </tr>\n",
              "    <tr>\n",
              "      <th>4</th>\n",
              "      <td>5.0</td>\n",
              "      <td>3.6</td>\n",
              "      <td>1.4</td>\n",
              "      <td>0.2</td>\n",
              "      <td>0</td>\n",
              "    </tr>\n",
              "    <tr>\n",
              "      <th>...</th>\n",
              "      <td>...</td>\n",
              "      <td>...</td>\n",
              "      <td>...</td>\n",
              "      <td>...</td>\n",
              "      <td>...</td>\n",
              "    </tr>\n",
              "    <tr>\n",
              "      <th>145</th>\n",
              "      <td>6.7</td>\n",
              "      <td>3.0</td>\n",
              "      <td>5.2</td>\n",
              "      <td>2.3</td>\n",
              "      <td>2</td>\n",
              "    </tr>\n",
              "    <tr>\n",
              "      <th>146</th>\n",
              "      <td>6.3</td>\n",
              "      <td>2.5</td>\n",
              "      <td>5.0</td>\n",
              "      <td>1.9</td>\n",
              "      <td>2</td>\n",
              "    </tr>\n",
              "    <tr>\n",
              "      <th>147</th>\n",
              "      <td>6.5</td>\n",
              "      <td>3.0</td>\n",
              "      <td>5.2</td>\n",
              "      <td>2.0</td>\n",
              "      <td>2</td>\n",
              "    </tr>\n",
              "    <tr>\n",
              "      <th>148</th>\n",
              "      <td>6.2</td>\n",
              "      <td>3.4</td>\n",
              "      <td>5.4</td>\n",
              "      <td>2.3</td>\n",
              "      <td>2</td>\n",
              "    </tr>\n",
              "    <tr>\n",
              "      <th>149</th>\n",
              "      <td>5.9</td>\n",
              "      <td>3.0</td>\n",
              "      <td>5.1</td>\n",
              "      <td>1.8</td>\n",
              "      <td>2</td>\n",
              "    </tr>\n",
              "  </tbody>\n",
              "</table>\n",
              "<p>150 rows × 5 columns</p>\n",
              "</div>"
            ],
            "text/plain": [
              "     sepal length (cm)  sepal width (cm)  ...  petal width (cm)  target\n",
              "0                  5.1               3.5  ...               0.2       0\n",
              "1                  4.9               3.0  ...               0.2       0\n",
              "2                  4.7               3.2  ...               0.2       0\n",
              "3                  4.6               3.1  ...               0.2       0\n",
              "4                  5.0               3.6  ...               0.2       0\n",
              "..                 ...               ...  ...               ...     ...\n",
              "145                6.7               3.0  ...               2.3       2\n",
              "146                6.3               2.5  ...               1.9       2\n",
              "147                6.5               3.0  ...               2.0       2\n",
              "148                6.2               3.4  ...               2.3       2\n",
              "149                5.9               3.0  ...               1.8       2\n",
              "\n",
              "[150 rows x 5 columns]"
            ]
          },
          "metadata": {
            "tags": []
          },
          "execution_count": 195
        }
      ]
    },
    {
      "cell_type": "code",
      "metadata": {
        "id": "G_adl6a_KtxE",
        "colab_type": "code",
        "colab": {
          "base_uri": "https://localhost:8080/",
          "height": 35
        },
        "outputId": "3e0f5cf7-5d21-4298-963f-35920f888ffa"
      },
      "source": [
        "### now we apply the clusterig algorithm  to the iris data\n",
        "iris.shape"
      ],
      "execution_count": 196,
      "outputs": [
        {
          "output_type": "execute_result",
          "data": {
            "text/plain": [
              "(150, 5)"
            ]
          },
          "metadata": {
            "tags": []
          },
          "execution_count": 196
        }
      ]
    },
    {
      "cell_type": "code",
      "metadata": {
        "id": "YYIUcbJaLoOa",
        "colab_type": "code",
        "colab": {
          "base_uri": "https://localhost:8080/",
          "height": 71
        },
        "outputId": "9d69fe80-dd99-484f-ca54-2773fe7d60b0"
      },
      "source": [
        "iris.columns"
      ],
      "execution_count": 197,
      "outputs": [
        {
          "output_type": "execute_result",
          "data": {
            "text/plain": [
              "Index(['sepal length (cm)', 'sepal width (cm)', 'petal length (cm)',\n",
              "       'petal width (cm)', 'target'],\n",
              "      dtype='object')"
            ]
          },
          "metadata": {
            "tags": []
          },
          "execution_count": 197
        }
      ]
    },
    {
      "cell_type": "code",
      "metadata": {
        "id": "z0-cymy-LUkA",
        "colab_type": "code",
        "colab": {
          "base_uri": "https://localhost:8080/",
          "height": 300
        },
        "outputId": "edb5c656-196f-4ac2-ebd6-52c0df1fb5f0"
      },
      "source": [
        "### plotting the sepal length and sepal width of the dataset of different species\n",
        "plt.scatter(iris['sepal length (cm)'],iris['sepal width (cm)'],s=200)\n",
        "plt.xlabel('sepal length')\n",
        "plt.ylabel('sepal width')"
      ],
      "execution_count": 198,
      "outputs": [
        {
          "output_type": "execute_result",
          "data": {
            "text/plain": [
              "Text(0, 0.5, 'sepal width')"
            ]
          },
          "metadata": {
            "tags": []
          },
          "execution_count": 198
        },
        {
          "output_type": "display_data",
          "data": {
            "image/png": "[encoded data removed]",
            "text/plain": [
              "<Figure size 432x288 with 1 Axes>"
            ]
          },
          "metadata": {
            "tags": [],
            "needs_background": "light"
          }
        }
      ]
    },
    {
      "cell_type": "code",
      "metadata": {
        "id": "E2eBClR5L651",
        "colab_type": "code",
        "colab": {
          "base_uri": "https://localhost:8080/",
          "height": 297
        },
        "outputId": "bc234b87-d5f4-4dc5-d291-91534a2c88a2"
      },
      "source": [
        "### plotting the sepal length and sepal width of the dataset of different species\n",
        "plt.scatter(iris['petal length (cm)'],iris['petal width (cm)'],s=200)\n",
        "plt.xlabel('petal length')\n",
        "plt.ylabel('petal width')"
      ],
      "execution_count": 199,
      "outputs": [
        {
          "output_type": "execute_result",
          "data": {
            "text/plain": [
              "Text(0, 0.5, 'petal width')"
            ]
          },
          "metadata": {
            "tags": []
          },
          "execution_count": 199
        },
        {
          "output_type": "display_data",
          "data": {
            "image/png": "[encoded data removed]",
            "text/plain": [
              "<Figure size 432x288 with 1 Axes>"
            ]
          },
          "metadata": {
            "tags": [],
            "needs_background": "light"
          }
        }
      ]
    },
    {
      "cell_type": "code",
      "metadata": {
        "id": "F7yPewAEMMXR",
        "colab_type": "code",
        "colab": {}
      },
      "source": [
        "## so based on the petal width there are a obvious cluster \n",
        "## there are two different cluster one with small petal width \n",
        "## and on the high petal width"
      ],
      "execution_count": 200,
      "outputs": []
    },
    {
      "cell_type": "code",
      "metadata": {
        "id": "F6wc0sdWMpwB",
        "colab_type": "code",
        "colab": {
          "base_uri": "https://localhost:8080/",
          "height": 297
        },
        "outputId": "e2478d1b-983d-4a5e-a3f6-5b83c28f53bc"
      },
      "source": [
        "plt.scatter(iris['sepal length (cm)'],iris['petal length (cm)'])\n",
        "plt.xlabel('sepal length')\n",
        "plt.ylabel('petal length')"
      ],
      "execution_count": 201,
      "outputs": [
        {
          "output_type": "execute_result",
          "data": {
            "text/plain": [
              "Text(0, 0.5, 'petal length')"
            ]
          },
          "metadata": {
            "tags": []
          },
          "execution_count": 201
        },
        {
          "output_type": "display_data",
          "data": {
            "image/png": "[encoded data removed]",
            "text/plain": [
              "<Figure size 432x288 with 1 Axes>"
            ]
          },
          "metadata": {
            "tags": [],
            "needs_background": "light"
          }
        }
      ]
    },
    {
      "cell_type": "code",
      "metadata": {
        "id": "1ivCb8nsM0w4",
        "colab_type": "code",
        "colab": {}
      },
      "source": [
        "## there are almost three cluster inth is point of view\n",
        "## so lets use this data and apply k means clustering in this data\n",
        "iris_2D = iris[['sepal length (cm)','petal length (cm)']]"
      ],
      "execution_count": 202,
      "outputs": []
    },
    {
      "cell_type": "code",
      "metadata": {
        "id": "Bfv-F8EPM7wc",
        "colab_type": "code",
        "colab": {
          "base_uri": "https://localhost:8080/",
          "height": 206
        },
        "outputId": "c2cbed1b-6343-4904-fa18-63095b424b9f"
      },
      "source": [
        "iris_2D.head()"
      ],
      "execution_count": 203,
      "outputs": [
        {
          "output_type": "execute_result",
          "data": {
            "text/html": [
              "<div>\n",
              "<style scoped>\n",
              "    .dataframe tbody tr th:only-of-type {\n",
              "        vertical-align: middle;\n",
              "    }\n",
              "\n",
              "    .dataframe tbody tr th {\n",
              "        vertical-align: top;\n",
              "    }\n",
              "\n",
              "    .dataframe thead th {\n",
              "        text-align: right;\n",
              "    }\n",
              "</style>\n",
              "<table border=\"1\" class=\"dataframe\">\n",
              "  <thead>\n",
              "    <tr style=\"text-align: right;\">\n",
              "      <th></th>\n",
              "      <th>sepal length (cm)</th>\n",
              "      <th>petal length (cm)</th>\n",
              "    </tr>\n",
              "  </thead>\n",
              "  <tbody>\n",
              "    <tr>\n",
              "      <th>0</th>\n",
              "      <td>5.1</td>\n",
              "      <td>1.4</td>\n",
              "    </tr>\n",
              "    <tr>\n",
              "      <th>1</th>\n",
              "      <td>4.9</td>\n",
              "      <td>1.4</td>\n",
              "    </tr>\n",
              "    <tr>\n",
              "      <th>2</th>\n",
              "      <td>4.7</td>\n",
              "      <td>1.3</td>\n",
              "    </tr>\n",
              "    <tr>\n",
              "      <th>3</th>\n",
              "      <td>4.6</td>\n",
              "      <td>1.5</td>\n",
              "    </tr>\n",
              "    <tr>\n",
              "      <th>4</th>\n",
              "      <td>5.0</td>\n",
              "      <td>1.4</td>\n",
              "    </tr>\n",
              "  </tbody>\n",
              "</table>\n",
              "</div>"
            ],
            "text/plain": [
              "   sepal length (cm)  petal length (cm)\n",
              "0                5.1                1.4\n",
              "1                4.9                1.4\n",
              "2                4.7                1.3\n",
              "3                4.6                1.5\n",
              "4                5.0                1.4"
            ]
          },
          "metadata": {
            "tags": []
          },
          "execution_count": 203
        }
      ]
    },
    {
      "cell_type": "code",
      "metadata": {
        "id": "8a3uYAqPNWfL",
        "colab_type": "code",
        "colab": {}
      },
      "source": [
        "iris_2D = np.array(iris_2D)"
      ],
      "execution_count": 204,
      "outputs": []
    },
    {
      "cell_type": "code",
      "metadata": {
        "id": "4scJ8M9BNg3r",
        "colab_type": "code",
        "colab": {}
      },
      "source": [
        "kmeans_one = KMeans(n_clusters=3,max_iter=10000).fit(iris_2D)"
      ],
      "execution_count": 205,
      "outputs": []
    },
    {
      "cell_type": "code",
      "metadata": {
        "id": "2APZS224NsbM",
        "colab_type": "code",
        "colab": {
          "base_uri": "https://localhost:8080/",
          "height": 144
        },
        "outputId": "0317adb6-9615-4b26-915c-96a4d594a763"
      },
      "source": [
        "kmeans_one.labels_"
      ],
      "execution_count": 206,
      "outputs": [
        {
          "output_type": "execute_result",
          "data": {
            "text/plain": [
              "array([1, 1, 1, 1, 1, 1, 1, 1, 1, 1, 1, 1, 1, 1, 1, 1, 1, 1, 1, 1, 1, 1,\n",
              "       1, 1, 1, 1, 1, 1, 1, 1, 1, 1, 1, 1, 1, 1, 1, 1, 1, 1, 1, 1, 1, 1,\n",
              "       1, 1, 1, 1, 1, 1, 0, 2, 0, 2, 2, 2, 2, 2, 2, 2, 2, 2, 2, 2, 2, 2,\n",
              "       2, 2, 2, 2, 2, 2, 2, 2, 2, 2, 0, 0, 2, 2, 2, 2, 2, 2, 2, 2, 2, 2,\n",
              "       2, 2, 2, 2, 2, 2, 2, 2, 2, 2, 1, 2, 0, 2, 0, 0, 0, 0, 2, 0, 0, 0,\n",
              "       0, 0, 0, 2, 2, 0, 0, 0, 0, 2, 0, 2, 0, 2, 0, 0, 2, 2, 0, 0, 0, 0,\n",
              "       0, 0, 0, 0, 0, 0, 2, 0, 0, 0, 2, 0, 0, 0, 2, 0, 0, 2], dtype=int32)"
            ]
          },
          "metadata": {
            "tags": []
          },
          "execution_count": 206
        }
      ]
    },
    {
      "cell_type": "code",
      "metadata": {
        "id": "uqkBkJ8WNvus",
        "colab_type": "code",
        "colab": {}
      },
      "source": [
        "centroids = kmeans_one.cluster_centers_"
      ],
      "execution_count": 207,
      "outputs": []
    },
    {
      "cell_type": "code",
      "metadata": {
        "id": "LtKD71DNN3YF",
        "colab_type": "code",
        "colab": {
          "base_uri": "https://localhost:8080/",
          "height": 297
        },
        "outputId": "61f8ab17-4c7e-40a9-9282-56c64b27ed16"
      },
      "source": [
        "plt.scatter(centroids[:,0],centroids[:,1],s=500,marker='s')\n",
        "plt.scatter(iris['sepal length (cm)'],iris['petal length (cm)'])\n",
        "plt.xlabel('sepal length')\n",
        "plt.ylabel('petal length')"
      ],
      "execution_count": 208,
      "outputs": [
        {
          "output_type": "execute_result",
          "data": {
            "text/plain": [
              "Text(0, 0.5, 'petal length')"
            ]
          },
          "metadata": {
            "tags": []
          },
          "execution_count": 208
        },
        {
          "output_type": "display_data",
          "data": {
            "image/png": "[encoded data removed]",
            "text/plain": [
              "<Figure size 432x288 with 1 Axes>"
            ]
          },
          "metadata": {
            "tags": [],
            "needs_background": "light"
          }
        }
      ]
    },
    {
      "cell_type": "code",
      "metadata": {
        "id": "PjdNkpPpN8hI",
        "colab_type": "code",
        "colab": {
          "base_uri": "https://localhost:8080/",
          "height": 108
        },
        "outputId": "28afb015-40da-4a68-db83-5bf26ed74027"
      },
      "source": [
        "print(\"Homogenity score    : \",metrics.homogeneity_score(iris.target,kmeans_one.labels_))\n",
        "print(\"Completeness score  : \",metrics.completeness_score(iris.target,kmeans_one.labels_))\n",
        "print(\"V-measure score     : \",metrics.v_measure_score(iris.target,kmeans_one.labels_))\n",
        "print(\"Adjusted rand score : \",metrics.adjusted_rand_score(iris.target,kmeans_one.labels_))\n",
        "print(\"Siluate score       : \",metrics.silhouette_score(iris,kmeans_one.labels_))"
      ],
      "execution_count": 209,
      "outputs": [
        {
          "output_type": "stream",
          "text": [
            "Homogenity score    :  0.7033177646052958\n",
            "Completeness score  :  0.7096993707802843\n",
            "V-measure score     :  0.706494157075837\n",
            "Adjusted rand score :  0.6988627672348092\n",
            "Siluate score       :  0.5388007800309613\n"
          ],
          "name": "stdout"
        }
      ]
    },
    {
      "cell_type": "code",
      "metadata": {
        "id": "3IO7H9ZIO08D",
        "colab_type": "code",
        "colab": {}
      },
      "source": [
        "## now we will do clustering using 4 features\n",
        "iris_ = iris.drop('target',axis=1)\n",
        "kmeans_one = KMeans(n_clusters=3,max_iter=10000).fit(iris_)"
      ],
      "execution_count": 210,
      "outputs": []
    },
    {
      "cell_type": "code",
      "metadata": {
        "id": "pmYSJY7dPW7s",
        "colab_type": "code",
        "colab": {}
      },
      "source": [
        "centroids = kmeans_one.cluster_centers_"
      ],
      "execution_count": 211,
      "outputs": []
    },
    {
      "cell_type": "code",
      "metadata": {
        "id": "tWH1yIIyPaH2",
        "colab_type": "code",
        "colab": {
          "base_uri": "https://localhost:8080/",
          "height": 297
        },
        "outputId": "28497289-741c-4773-cdc8-44b3186f5089"
      },
      "source": [
        "plt.scatter(centroids[:,0],centroids[:,1],s=500,marker='s')\n",
        "plt.scatter(iris['sepal length (cm)'],iris['petal length (cm)'])\n",
        "plt.xlabel('sepal length')\n",
        "plt.ylabel('petal length')"
      ],
      "execution_count": 212,
      "outputs": [
        {
          "output_type": "execute_result",
          "data": {
            "text/plain": [
              "Text(0, 0.5, 'petal length')"
            ]
          },
          "metadata": {
            "tags": []
          },
          "execution_count": 212
        },
        {
          "output_type": "display_data",
          "data": {
            "image/png": "[encoded data removed]",
            "text/plain": [
              "<Figure size 432x288 with 1 Axes>"
            ]
          },
          "metadata": {
            "tags": [],
            "needs_background": "light"
          }
        }
      ]
    },
    {
      "cell_type": "code",
      "metadata": {
        "id": "OzLQ4psrPcQA",
        "colab_type": "code",
        "colab": {
          "base_uri": "https://localhost:8080/",
          "height": 108
        },
        "outputId": "4f88f0ae-cf55-4792-c80e-9e363bad5eb2"
      },
      "source": [
        "print(\"Homogenity score    : \",metrics.homogeneity_score(iris.target,kmeans_one.labels_))\n",
        "print(\"Completeness score  : \",metrics.completeness_score(iris.target,kmeans_one.labels_))\n",
        "print(\"V-measure score     : \",metrics.v_measure_score(iris.target,kmeans_one.labels_))\n",
        "print(\"Adjusted rand score : \",metrics.adjusted_rand_score(iris.target,kmeans_one.labels_))\n",
        "print(\"Siluate score       : \",metrics.silhouette_score(iris,kmeans_one.labels_))"
      ],
      "execution_count": 213,
      "outputs": [
        {
          "output_type": "stream",
          "text": [
            "Homogenity score    :  0.7514854021988339\n",
            "Completeness score  :  0.7649861514489816\n",
            "V-measure score     :  0.7581756800057786\n",
            "Adjusted rand score :  0.7302382722834697\n",
            "Siluate score       :  0.553540214427476\n"
          ],
          "name": "stdout"
        }
      ]
    },
    {
      "cell_type": "code",
      "metadata": {
        "id": "BLN19DklPgKN",
        "colab_type": "code",
        "colab": {}
      },
      "source": [
        "## using clustering with other method\n",
        "#  centroids based (k means clustering)\n",
        "#  hierarchical clustering (points are callculated by one another no centroid) \n",
        "#  these algorithm name is   (agglomerative clustering) (BIRCH clustering)\n",
        "#  Distributon based clustering (by sampling a perticular portion from the data)\n",
        "## the algo name is gausian mixtr models\n",
        "## density based  that is based on density figh density make a cluster\n",
        "### DB SCAN and mean shift clustering\n"
      ],
      "execution_count": 214,
      "outputs": []
    },
    {
      "cell_type": "code",
      "metadata": {
        "id": "ZzBGAEcxRjoS",
        "colab_type": "code",
        "colab": {}
      },
      "source": [
        "### multiple clustering"
      ],
      "execution_count": 215,
      "outputs": []
    },
    {
      "cell_type": "code",
      "metadata": {
        "id": "HMcAHO9kR7Yg",
        "colab_type": "code",
        "colab": {
          "base_uri": "https://localhost:8080/",
          "height": 206
        },
        "outputId": "cd9857ed-ee55-41f8-b857-e352b37fdc47"
      },
      "source": [
        "iris.head()"
      ],
      "execution_count": 216,
      "outputs": [
        {
          "output_type": "execute_result",
          "data": {
            "text/html": [
              "<div>\n",
              "<style scoped>\n",
              "    .dataframe tbody tr th:only-of-type {\n",
              "        vertical-align: middle;\n",
              "    }\n",
              "\n",
              "    .dataframe tbody tr th {\n",
              "        vertical-align: top;\n",
              "    }\n",
              "\n",
              "    .dataframe thead th {\n",
              "        text-align: right;\n",
              "    }\n",
              "</style>\n",
              "<table border=\"1\" class=\"dataframe\">\n",
              "  <thead>\n",
              "    <tr style=\"text-align: right;\">\n",
              "      <th></th>\n",
              "      <th>sepal length (cm)</th>\n",
              "      <th>sepal width (cm)</th>\n",
              "      <th>petal length (cm)</th>\n",
              "      <th>petal width (cm)</th>\n",
              "      <th>target</th>\n",
              "    </tr>\n",
              "  </thead>\n",
              "  <tbody>\n",
              "    <tr>\n",
              "      <th>0</th>\n",
              "      <td>5.1</td>\n",
              "      <td>3.5</td>\n",
              "      <td>1.4</td>\n",
              "      <td>0.2</td>\n",
              "      <td>0</td>\n",
              "    </tr>\n",
              "    <tr>\n",
              "      <th>1</th>\n",
              "      <td>4.9</td>\n",
              "      <td>3.0</td>\n",
              "      <td>1.4</td>\n",
              "      <td>0.2</td>\n",
              "      <td>0</td>\n",
              "    </tr>\n",
              "    <tr>\n",
              "      <th>2</th>\n",
              "      <td>4.7</td>\n",
              "      <td>3.2</td>\n",
              "      <td>1.3</td>\n",
              "      <td>0.2</td>\n",
              "      <td>0</td>\n",
              "    </tr>\n",
              "    <tr>\n",
              "      <th>3</th>\n",
              "      <td>4.6</td>\n",
              "      <td>3.1</td>\n",
              "      <td>1.5</td>\n",
              "      <td>0.2</td>\n",
              "      <td>0</td>\n",
              "    </tr>\n",
              "    <tr>\n",
              "      <th>4</th>\n",
              "      <td>5.0</td>\n",
              "      <td>3.6</td>\n",
              "      <td>1.4</td>\n",
              "      <td>0.2</td>\n",
              "      <td>0</td>\n",
              "    </tr>\n",
              "  </tbody>\n",
              "</table>\n",
              "</div>"
            ],
            "text/plain": [
              "   sepal length (cm)  sepal width (cm)  ...  petal width (cm)  target\n",
              "0                5.1               3.5  ...               0.2       0\n",
              "1                4.9               3.0  ...               0.2       0\n",
              "2                4.7               3.2  ...               0.2       0\n",
              "3                4.6               3.1  ...               0.2       0\n",
              "4                5.0               3.6  ...               0.2       0\n",
              "\n",
              "[5 rows x 5 columns]"
            ]
          },
          "metadata": {
            "tags": []
          },
          "execution_count": 216
        }
      ]
    },
    {
      "cell_type": "code",
      "metadata": {
        "id": "IP0Wb_0aR9PS",
        "colab_type": "code",
        "colab": {
          "base_uri": "https://localhost:8080/",
          "height": 424
        },
        "outputId": "c0ea2b4e-384f-4e71-9fe8-7b4ba2c4507d"
      },
      "source": [
        "iris_labels = iris['target']\n",
        "iris_"
      ],
      "execution_count": 217,
      "outputs": [
        {
          "output_type": "execute_result",
          "data": {
            "text/html": [
              "<div>\n",
              "<style scoped>\n",
              "    .dataframe tbody tr th:only-of-type {\n",
              "        vertical-align: middle;\n",
              "    }\n",
              "\n",
              "    .dataframe tbody tr th {\n",
              "        vertical-align: top;\n",
              "    }\n",
              "\n",
              "    .dataframe thead th {\n",
              "        text-align: right;\n",
              "    }\n",
              "</style>\n",
              "<table border=\"1\" class=\"dataframe\">\n",
              "  <thead>\n",
              "    <tr style=\"text-align: right;\">\n",
              "      <th></th>\n",
              "      <th>sepal length (cm)</th>\n",
              "      <th>sepal width (cm)</th>\n",
              "      <th>petal length (cm)</th>\n",
              "      <th>petal width (cm)</th>\n",
              "    </tr>\n",
              "  </thead>\n",
              "  <tbody>\n",
              "    <tr>\n",
              "      <th>0</th>\n",
              "      <td>5.1</td>\n",
              "      <td>3.5</td>\n",
              "      <td>1.4</td>\n",
              "      <td>0.2</td>\n",
              "    </tr>\n",
              "    <tr>\n",
              "      <th>1</th>\n",
              "      <td>4.9</td>\n",
              "      <td>3.0</td>\n",
              "      <td>1.4</td>\n",
              "      <td>0.2</td>\n",
              "    </tr>\n",
              "    <tr>\n",
              "      <th>2</th>\n",
              "      <td>4.7</td>\n",
              "      <td>3.2</td>\n",
              "      <td>1.3</td>\n",
              "      <td>0.2</td>\n",
              "    </tr>\n",
              "    <tr>\n",
              "      <th>3</th>\n",
              "      <td>4.6</td>\n",
              "      <td>3.1</td>\n",
              "      <td>1.5</td>\n",
              "      <td>0.2</td>\n",
              "    </tr>\n",
              "    <tr>\n",
              "      <th>4</th>\n",
              "      <td>5.0</td>\n",
              "      <td>3.6</td>\n",
              "      <td>1.4</td>\n",
              "      <td>0.2</td>\n",
              "    </tr>\n",
              "    <tr>\n",
              "      <th>...</th>\n",
              "      <td>...</td>\n",
              "      <td>...</td>\n",
              "      <td>...</td>\n",
              "      <td>...</td>\n",
              "    </tr>\n",
              "    <tr>\n",
              "      <th>145</th>\n",
              "      <td>6.7</td>\n",
              "      <td>3.0</td>\n",
              "      <td>5.2</td>\n",
              "      <td>2.3</td>\n",
              "    </tr>\n",
              "    <tr>\n",
              "      <th>146</th>\n",
              "      <td>6.3</td>\n",
              "      <td>2.5</td>\n",
              "      <td>5.0</td>\n",
              "      <td>1.9</td>\n",
              "    </tr>\n",
              "    <tr>\n",
              "      <th>147</th>\n",
              "      <td>6.5</td>\n",
              "      <td>3.0</td>\n",
              "      <td>5.2</td>\n",
              "      <td>2.0</td>\n",
              "    </tr>\n",
              "    <tr>\n",
              "      <th>148</th>\n",
              "      <td>6.2</td>\n",
              "      <td>3.4</td>\n",
              "      <td>5.4</td>\n",
              "      <td>2.3</td>\n",
              "    </tr>\n",
              "    <tr>\n",
              "      <th>149</th>\n",
              "      <td>5.9</td>\n",
              "      <td>3.0</td>\n",
              "      <td>5.1</td>\n",
              "      <td>1.8</td>\n",
              "    </tr>\n",
              "  </tbody>\n",
              "</table>\n",
              "<p>150 rows × 4 columns</p>\n",
              "</div>"
            ],
            "text/plain": [
              "     sepal length (cm)  sepal width (cm)  petal length (cm)  petal width (cm)\n",
              "0                  5.1               3.5                1.4               0.2\n",
              "1                  4.9               3.0                1.4               0.2\n",
              "2                  4.7               3.2                1.3               0.2\n",
              "3                  4.6               3.1                1.5               0.2\n",
              "4                  5.0               3.6                1.4               0.2\n",
              "..                 ...               ...                ...               ...\n",
              "145                6.7               3.0                5.2               2.3\n",
              "146                6.3               2.5                5.0               1.9\n",
              "147                6.5               3.0                5.2               2.0\n",
              "148                6.2               3.4                5.4               2.3\n",
              "149                5.9               3.0                5.1               1.8\n",
              "\n",
              "[150 rows x 4 columns]"
            ]
          },
          "metadata": {
            "tags": []
          },
          "execution_count": 217
        }
      ]
    },
    {
      "cell_type": "code",
      "metadata": {
        "id": "4AVl_SDlSDaj",
        "colab_type": "code",
        "colab": {}
      },
      "source": [
        "def build_model(clustering_model,data,labels):\n",
        "  model = clustering_model\n",
        "  print(\"Homogenity score    : \",metrics.homogeneity_score(label,model.labels_))\n",
        "  print(\"Completeness score  : \",metrics.completeness_score(label,model.labels_))\n",
        "  print(\"V-measure score     : \",metrics.v_measure_score(label,model.labels_))\n",
        "  print(\"Adjusted rand score : \",metrics.adjusted_rand_score(label,model.labels_))\n",
        "  print(\"Siluate score       : \",metrics.silhouette_score(data,model.labels_))\n"
      ],
      "execution_count": 218,
      "outputs": []
    },
    {
      "cell_type": "code",
      "metadata": {
        "id": "WFmUwMvJSg8q",
        "colab_type": "code",
        "colab": {}
      },
      "source": [
        "### import all the clustering algorithm available\n",
        "from sklearn.cluster import *"
      ],
      "execution_count": 219,
      "outputs": []
    },
    {
      "cell_type": "code",
      "metadata": {
        "id": "dCnynIfEV0gK",
        "colab_type": "code",
        "colab": {}
      },
      "source": [
        "def k_means(data,n,max_iter=1000):\n",
        "  model = KMeans(n_clusters=n,max_iter=max_iter).fit(data)\n",
        "  return model"
      ],
      "execution_count": 220,
      "outputs": []
    },
    {
      "cell_type": "code",
      "metadata": {
        "id": "xjgP-uv1WMlh",
        "colab_type": "code",
        "colab": {
          "base_uri": "https://localhost:8080/",
          "height": 108
        },
        "outputId": "28ddc247-8f2a-4240-d717-30f83eab041b"
      },
      "source": [
        "build_model(k_means(iris_,3),iris_,iris_labels)"
      ],
      "execution_count": 221,
      "outputs": [
        {
          "output_type": "stream",
          "text": [
            "Homogenity score    :  0.7514854021988338\n",
            "Completeness score  :  0.7649861514489815\n",
            "V-measure score     :  0.7581756800057784\n",
            "Adjusted rand score :  0.7302382722834697\n",
            "Siluate score       :  0.5528190123564091\n"
          ],
          "name": "stdout"
        }
      ]
    },
    {
      "cell_type": "code",
      "metadata": {
        "id": "owuiJoLpWfOJ",
        "colab_type": "code",
        "colab": {}
      },
      "source": [
        "## choosing algorithm\n",
        "\n",
        "## if the dataset is large and a lot of cluster use  \"Birch,aggoloromative algorithm\"\n",
        "## this is created using a tree beased data\n",
        "## for large dataset, it create a branch in  atree and all the leaf in  a branch is in  a same cluster\n",
        "\n",
        "## aggloromative can bo the same thig with the bottom up approach\n",
        "\n",
        "\n",
        "## id the data set is small but cluster is many so you use meanshift,affinity propagation agorithm\n",
        "## mean shift use pair wise distance\n",
        "## affinity porpagationn use graph algorithm to find the closest point\n",
        "## you dont need to set the cluster number in affinity propagatopn\n",
        "\n",
        "## if the dataset is large but you want small claster\n",
        "## then use the kmeans and DBSCAN\n",
        "## use k means when you want even type cluster\n",
        "## like if the cluster size is close\n",
        "## if not use the dbscan\n",
        "\n",
        "\n",
        "## few cluster and mediam data\n",
        "## use the Spectral algorithm\n",
        "## use distance based like knn to create the groups"
      ],
      "execution_count": 222,
      "outputs": []
    },
    {
      "cell_type": "code",
      "metadata": {
        "id": "ljc_Y2TMZha_",
        "colab_type": "code",
        "colab": {}
      },
      "source": [
        "## hierrarchical clustering\n",
        "## connectiviti based clustering\n",
        "### implement the aggloromative clustering"
      ],
      "execution_count": 223,
      "outputs": []
    },
    {
      "cell_type": "code",
      "metadata": {
        "id": "8TK62FyBbu7h",
        "colab_type": "code",
        "colab": {}
      },
      "source": [
        "def aggloromative_cluster_model(data,n):\n",
        "  model = AgglomerativeClustering(n_clusters=n).fit(data)\n",
        "  return model"
      ],
      "execution_count": 224,
      "outputs": []
    },
    {
      "cell_type": "code",
      "metadata": {
        "id": "MjU-I0huciZB",
        "colab_type": "code",
        "colab": {
          "base_uri": "https://localhost:8080/",
          "height": 108
        },
        "outputId": "afe876f8-3597-4dcd-d030-483060393c0e"
      },
      "source": [
        "build_model(aggloromative_cluster_model(iris_,3),iris_,iris_labels)"
      ],
      "execution_count": 225,
      "outputs": [
        {
          "output_type": "stream",
          "text": [
            "Homogenity score    :  0.7608008469718723\n",
            "Completeness score  :  0.7795958005591144\n",
            "V-measure score     :  0.7700836616487869\n",
            "Adjusted rand score :  0.7311985567707745\n",
            "Siluate score       :  0.5543236611296415\n"
          ],
          "name": "stdout"
        }
      ]
    },
    {
      "cell_type": "code",
      "metadata": {
        "id": "CWGD-P6ncnvl",
        "colab_type": "code",
        "colab": {}
      },
      "source": [
        "#### using the DBscan clustering\n",
        "##eps         = the minimum distance to consider them as neighbors. if you choose to small mst of them cant create cluster.\n",
        "                ## setting too much data will creae one giant cluseter which is useless\n",
        "##min_samples = the minimum number of elements that forms a dense area. for noisy data use large number\n",
        "\n",
        "def DBscan_model(data,eps=.45,min_samples=4):\n",
        "  model = DBSCAN(eps=eps,min_samples=min_samples).fit(data)\n",
        "  return model"
      ],
      "execution_count": 226,
      "outputs": []
    },
    {
      "cell_type": "code",
      "metadata": {
        "id": "kY-9idjleFag",
        "colab_type": "code",
        "colab": {
          "base_uri": "https://localhost:8080/",
          "height": 108
        },
        "outputId": "9aeae742-5e48-473f-bfa0-c1a720c0df5b"
      },
      "source": [
        "build_model(DBscan_model(iris_),iris_,iris_labels)"
      ],
      "execution_count": 227,
      "outputs": [
        {
          "output_type": "stream",
          "text": [
            "Homogenity score    :  0.5773205947971476\n",
            "Completeness score  :  0.6093983666695363\n",
            "V-measure score     :  0.5929259393972258\n",
            "Adjusted rand score :  0.5084974632998323\n",
            "Siluate score       :  0.3724439898969612\n"
          ],
          "name": "stdout"
        }
      ]
    },
    {
      "cell_type": "code",
      "metadata": {
        "id": "jFcqMp45eMtm",
        "colab_type": "code",
        "colab": {}
      },
      "source": [
        "## mean shift algorith\n",
        "### the std is the only hyper parameter is the meanshift\n",
        "### if you want to use the smaller neighborhood then use the small value\n",
        "### and if it is not then use hugr\n",
        "## Mean shift algorithm dont need to specfy the cluster number"
      ],
      "execution_count": 228,
      "outputs": []
    },
    {
      "cell_type": "code",
      "metadata": {
        "id": "CoIMlNzi4MOZ",
        "colab_type": "code",
        "colab": {}
      },
      "source": [
        "def mean_shidt_fn(data,bandwidth=0.85):\n",
        "  model = MeanShift(bandwidth=bandwidth).fit(data)\n",
        "  return model"
      ],
      "execution_count": 230,
      "outputs": []
    },
    {
      "cell_type": "code",
      "metadata": {
        "id": "4rpK7c6Z4Xa2",
        "colab_type": "code",
        "colab": {
          "base_uri": "https://localhost:8080/",
          "height": 108
        },
        "outputId": "3854eb87-af90-491f-a7e3-ac8bef4652da"
      },
      "source": [
        "build_model(mean_shidt_fn(iris_),iris_,iris_labels)"
      ],
      "execution_count": 231,
      "outputs": [
        {
          "output_type": "stream",
          "text": [
            "Homogenity score    :  0.7603645798041669\n",
            "Completeness score  :  0.7717917344958113\n",
            "V-measure score     :  0.7660355440487252\n",
            "Adjusted rand score :  0.7436826319432357\n",
            "Siluate score       :  0.5511573791952854\n"
          ],
          "name": "stdout"
        }
      ]
    },
    {
      "cell_type": "code",
      "metadata": {
        "id": "SMxySLnD4cAQ",
        "colab_type": "code",
        "colab": {}
      },
      "source": [
        "## applying mean shift with another value\n",
        "def mean_shidt_fn(data,bandwidth=1):\n",
        "  model = MeanShift(bandwidth=bandwidth).fit(data)\n",
        "  return model"
      ],
      "execution_count": 232,
      "outputs": []
    },
    {
      "cell_type": "code",
      "metadata": {
        "id": "CpXh1QXi4l22",
        "colab_type": "code",
        "colab": {
          "base_uri": "https://localhost:8080/",
          "height": 108
        },
        "outputId": "646d64c6-57f6-4668-b4d9-985be27981ed"
      },
      "source": [
        "build_model(mean_shidt_fn(iris_),iris_,iris_labels)"
      ],
      "execution_count": 233,
      "outputs": [
        {
          "output_type": "stream",
          "text": [
            "Homogenity score    :  0.5537492887432671\n",
            "Completeness score  :  0.9490204434010504\n",
            "V-measure score     :  0.6994010915914346\n",
            "Adjusted rand score :  0.5583714437541352\n",
            "Siluate score       :  0.685788171261719\n"
          ],
          "name": "stdout"
        }
      ]
    },
    {
      "cell_type": "code",
      "metadata": {
        "id": "38yLQYtD4n3f",
        "colab_type": "code",
        "colab": {}
      },
      "source": [
        "## you use birch algorithm only use when dataset is high and cluster is also\n",
        "## a lot\n",
        "## remember birch is an online algorithm so it can take stream of data\n",
        "## and update the cluster\n",
        "## birch clustering algorithm can detect and remove outliers from the cluster\n",
        "\n",
        "# BIRCH stands for \"Balanced Iterative Reducing and Clustering using Hierarchies\"\n",
        "# remember birch can incrementally change the cluster"
      ],
      "execution_count": 234,
      "outputs": []
    },
    {
      "cell_type": "code",
      "metadata": {
        "id": "OJbj7IN950n_",
        "colab_type": "code",
        "colab": {}
      },
      "source": [
        "def birch_fn(data,n=3):\n",
        "  model = Birch(n_clusters=n).fit(data)\n",
        "  return model"
      ],
      "execution_count": 235,
      "outputs": []
    },
    {
      "cell_type": "code",
      "metadata": {
        "id": "WFY7SDvX5-Fv",
        "colab_type": "code",
        "colab": {
          "base_uri": "https://localhost:8080/",
          "height": 108
        },
        "outputId": "a6bfa352-0449-4fcd-f358-57610911df03"
      },
      "source": [
        "build_model(birch_fn(iris_),iris_,iris_labels)"
      ],
      "execution_count": 236,
      "outputs": [
        {
          "output_type": "stream",
          "text": [
            "Homogenity score    :  0.6747055693979638\n",
            "Completeness score  :  0.7383596460504097\n",
            "V-measure score     :  0.7050989012575005\n",
            "Adjusted rand score :  0.6096252514698314\n",
            "Siluate score       :  0.5019524848046075\n"
          ],
          "name": "stdout"
        }
      ]
    },
    {
      "cell_type": "code",
      "metadata": {
        "id": "3eQti9pW6EhN",
        "colab_type": "code",
        "colab": {}
      },
      "source": [
        "\n",
        "## affinity propagation is used in a small dataset but the cluster number is high\n",
        "## number of cluster is not needed to tell\n",
        "## its actually used the nearest neighbor algorithm to find\n",
        "def afinity_fn(data,damping=0.6,max_iter=1000):\n",
        "  model  = AffinityPropagation(damping=damping).fit(data)\n",
        "  return model"
      ],
      "execution_count": 243,
      "outputs": []
    },
    {
      "cell_type": "code",
      "metadata": {
        "id": "LsjB1b-V6Suq",
        "colab_type": "code",
        "colab": {
          "base_uri": "https://localhost:8080/",
          "height": 108
        },
        "outputId": "140356d3-2002-4ec4-c722-2d1dcbfa9283"
      },
      "source": [
        "build_model(afinity_fn(iris_),iris_,iris_labels)"
      ],
      "execution_count": 244,
      "outputs": [
        {
          "output_type": "stream",
          "text": [
            "Homogenity score    :  0.843993810083683\n",
            "Completeness score  :  0.4870126988159714\n",
            "V-measure score     :  0.6176313947144149\n",
            "Adjusted rand score :  0.4383215937355036\n",
            "Siluate score       :  0.3422191157214031\n"
          ],
          "name": "stdout"
        }
      ]
    },
    {
      "cell_type": "code",
      "metadata": {
        "id": "d3PDy6KD6WGZ",
        "colab_type": "code",
        "colab": {}
      },
      "source": [
        "#### mini batch k means clustering\n",
        "#### k means and db scan use large dataset but small number of cluster\n",
        "#### k means calculate the centroid\n",
        "#### to do that\n",
        "#### use the mini batch clustering used ramdom sub sample data\n",
        "#### thats why called mini batch"
      ],
      "execution_count": 245,
      "outputs": []
    },
    {
      "cell_type": "code",
      "metadata": {
        "id": "UKYS2nwg-Y7W",
        "colab_type": "code",
        "colab": {}
      },
      "source": [
        "def mini_batch_fn(data,n=3,max_iter=10000):\n",
        "  model = MiniBatchKMeans(n_clusters=n,max_iter=max_iter).fit(data)\n",
        "  return model"
      ],
      "execution_count": 247,
      "outputs": []
    },
    {
      "cell_type": "code",
      "metadata": {
        "id": "J8JOB-9R-pd0",
        "colab_type": "code",
        "colab": {
          "base_uri": "https://localhost:8080/",
          "height": 108
        },
        "outputId": "7f20b285-df16-4064-f9aa-7460a3d31556"
      },
      "source": [
        "build_model(mini_batch_fn(iris_),iris_,iris_labels)"
      ],
      "execution_count": 248,
      "outputs": [
        {
          "output_type": "stream",
          "text": [
            "Homogenity score    :  0.7514854021988338\n",
            "Completeness score  :  0.7649861514489815\n",
            "V-measure score     :  0.7581756800057784\n",
            "Adjusted rand score :  0.7302382722834697\n",
            "Siluate score       :  0.5528190123564091\n"
          ],
          "name": "stdout"
        }
      ]
    },
    {
      "cell_type": "code",
      "metadata": {
        "id": "feeX8IS1-vS9",
        "colab_type": "code",
        "colab": {}
      },
      "source": [
        "### hyper parameter tuning in clustering\n",
        "### hyper parameter tuning in k means and DBSCAN algorithm\n",
        "### we use the sihloute score to evaluate\n",
        "### because we dont need the label data for that\n",
        "### s = (b(i)-a(i))/(max(a(i),b(i)))\n",
        "### silhoute shore is 1 means very good\n",
        "### -1 means very bad \n",
        "### 0 mans over lapping"
      ],
      "execution_count": 249,
      "outputs": []
    },
    {
      "cell_type": "code",
      "metadata": {
        "id": "lullJZksAbRe",
        "colab_type": "code",
        "colab": {}
      },
      "source": [
        "## setting hypr parameter\n",
        "## the most important hyper parameter classter number is the most imporant\n",
        "## for iris its 3\n",
        "## for mnist its 10\n",
        "## use elbow method for finding k means clustering\n",
        "## its use the brute force and try to find the distance from the \n",
        "## point to the centroid\n",
        "## when the avg distance fall its the number of cluster\n",
        "## you can also find the sihluate score for each number of cluster\n",
        "## and by comparing the score of the evaluation \n",
        "## you can find which one is the best number of cluster for the work\n"
      ],
      "execution_count": 250,
      "outputs": []
    },
    {
      "cell_type": "code",
      "metadata": {
        "id": "k3pwio5xBmBc",
        "colab_type": "code",
        "colab": {}
      },
      "source": [
        "## your initial value is also a hyper parameter\n",
        "## if you can do it smartly your algorithm will converge fast\n",
        "## distance measure you can use distance or cosine or angle distance"
      ],
      "execution_count": 251,
      "outputs": []
    },
    {
      "cell_type": "code",
      "metadata": {
        "id": "2ARy1oJVCOAR",
        "colab_type": "code",
        "colab": {}
      },
      "source": [
        "import numpy as np\n",
        "import pandas as pd\n",
        "import matplotlib.pyplot as plt \n",
        "## you may think about gridsearchcv\n",
        "## but you cant \n",
        "## because you dont know the output\n",
        "## so import this\n",
        "from sklearn.model_selection import ParameterGrid\n",
        "from sklearn.cluster import KMeans,DBSCAN,MeanShift\n",
        "from sklearn.metrics import silhouette_score\n"
      ],
      "execution_count": 252,
      "outputs": []
    },
    {
      "cell_type": "code",
      "metadata": {
        "id": "kbeEd3y5C9Jx",
        "colab_type": "code",
        "colab": {}
      },
      "source": [
        "## we use this to find the best for iris_2d data\n",
        "## define  a set of cluster\n",
        "parameters = {'n_clusters':[2,3,4,5,6,7,8,9,10,11]}"
      ],
      "execution_count": 261,
      "outputs": []
    },
    {
      "cell_type": "code",
      "metadata": {
        "id": "sHP1QByRDSWZ",
        "colab_type": "code",
        "colab": {}
      },
      "source": [
        "parameter_grid = ParameterGrid(parameters)"
      ],
      "execution_count": 262,
      "outputs": []
    },
    {
      "cell_type": "code",
      "metadata": {
        "id": "XhgJR46UDqJk",
        "colab_type": "code",
        "colab": {
          "base_uri": "https://localhost:8080/",
          "height": 198
        },
        "outputId": "504c4888-4133-4bd6-e37d-b0bc0e8295de"
      },
      "source": [
        "list(parameter_grid)"
      ],
      "execution_count": 263,
      "outputs": [
        {
          "output_type": "execute_result",
          "data": {
            "text/plain": [
              "[{'n_clusters': 2},\n",
              " {'n_clusters': 3},\n",
              " {'n_clusters': 4},\n",
              " {'n_clusters': 5},\n",
              " {'n_clusters': 6},\n",
              " {'n_clusters': 7},\n",
              " {'n_clusters': 8},\n",
              " {'n_clusters': 9},\n",
              " {'n_clusters': 10},\n",
              " {'n_clusters': 11}]"
            ]
          },
          "metadata": {
            "tags": []
          },
          "execution_count": 263
        }
      ]
    },
    {
      "cell_type": "code",
      "metadata": {
        "id": "vNjIMJVIDrQ-",
        "colab_type": "code",
        "colab": {
          "base_uri": "https://localhost:8080/",
          "height": 55
        },
        "outputId": "d698f76a-c675-48ed-db90-d4edeb801aa5"
      },
      "source": [
        "## so we made 8 models\n",
        "model = KMeans()\n",
        "score = []\n",
        "for param in parameter_grid:\n",
        "  model.set_params(**param).fit(iris_2D)\n",
        "  score.append(silhouette_score(iris_2D,model.labels_))\n",
        "\n",
        "print(score)"
      ],
      "execution_count": 264,
      "outputs": [
        {
          "output_type": "stream",
          "text": [
            "[0.7097529826994816, 0.5890584158017611, 0.5645593160995663, 0.5577931215347036, 0.4159480581366429, 0.40980502883342224, 0.40357610859350646, 0.4189298199651592, 0.40943877781228166, 0.4204618212819906]\n"
          ],
          "name": "stdout"
        }
      ]
    },
    {
      "cell_type": "code",
      "metadata": {
        "id": "PBRNnupCEj7e",
        "colab_type": "code",
        "colab": {
          "base_uri": "https://localhost:8080/",
          "height": 283
        },
        "outputId": "5075f131-c044-4a05-e319-4bbbdac5b73a"
      },
      "source": [
        "plt.plot(score)"
      ],
      "execution_count": 271,
      "outputs": [
        {
          "output_type": "execute_result",
          "data": {
            "text/plain": [
              "[<matplotlib.lines.Line2D at 0x7ff75c335c18>]"
            ]
          },
          "metadata": {
            "tags": []
          },
          "execution_count": 271
        },
        {
          "output_type": "display_data",
          "data": {
            "image/png": "[encoded data removed]",
            "text/plain": [
              "<Figure size 432x288 with 1 Axes>"
            ]
          },
          "metadata": {
            "tags": [],
            "needs_background": "light"
          }
        }
      ]
    },
    {
      "cell_type": "code",
      "metadata": {
        "id": "fZ_5sv9CEvD9",
        "colab_type": "code",
        "colab": {
          "base_uri": "https://localhost:8080/",
          "height": 297
        },
        "outputId": "331a7055-7f7a-44bb-c182-d5896e6aaa96"
      },
      "source": [
        "## remember based on the 2D there are two cluster\n",
        "plt.scatter(iris['sepal length (cm)'],iris['petal length (cm)'])\n",
        "plt.xlabel('sepal length')\n",
        "plt.ylabel('petal length')"
      ],
      "execution_count": 276,
      "outputs": [
        {
          "output_type": "execute_result",
          "data": {
            "text/plain": [
              "Text(0, 0.5, 'petal length')"
            ]
          },
          "metadata": {
            "tags": []
          },
          "execution_count": 276
        },
        {
          "output_type": "display_data",
          "data": {
            "image/png": "[encoded data removed]",
            "text/plain": [
              "<Figure size 432x288 with 1 Axes>"
            ]
          },
          "metadata": {
            "tags": [],
            "needs_background": "light"
          }
        }
      ]
    },
    {
      "cell_type": "code",
      "metadata": {
        "id": "8bE86N9UFbWg",
        "colab_type": "code",
        "colab": {
          "base_uri": "https://localhost:8080/",
          "height": 297
        },
        "outputId": "5f5ed23b-528f-499d-c64a-67e9614727e8"
      },
      "source": [
        "### doing it from dbscan"
      ],
      "execution_count": 275,
      "outputs": [
        {
          "output_type": "execute_result",
          "data": {
            "text/plain": [
              "Text(0, 0.5, 'petal length')"
            ]
          },
          "metadata": {
            "tags": []
          },
          "execution_count": 275
        },
        {
          "output_type": "display_data",
          "data": {
            "image/png": "[encoded data removed]",
            "text/plain": [
              "<Figure size 432x288 with 1 Axes>"
            ]
          },
          "metadata": {
            "tags": [],
            "needs_background": "light"
          }
        }
      ]
    },
    {
      "cell_type": "code",
      "metadata": {
        "id": "OeJhvfTSFeoQ",
        "colab_type": "code",
        "colab": {}
      },
      "source": [
        "## you can see there are two cluster\n",
        "## in eps = minimum distance to consider as neighbors\n",
        "## and the min_sample =  this is the minimum number od data item to consider as a cluster"
      ],
      "execution_count": 277,
      "outputs": []
    },
    {
      "cell_type": "code",
      "metadata": {
        "id": "XzpHHOa1Gutg",
        "colab_type": "code",
        "colab": {
          "base_uri": "https://localhost:8080/",
          "height": 451
        },
        "outputId": "ae7b7516-93a8-4d91-9e22-72b01db59453"
      },
      "source": [
        "parameters = {\n",
        "    'eps': [0.9,.5,.10,.12,.14,.20],\n",
        "    'min_samples': [2,3,4,5]\n",
        "}\n",
        "parameter_grid = ParameterGrid(parameters)\n",
        "list(parameter_grid)"
      ],
      "execution_count": 289,
      "outputs": [
        {
          "output_type": "execute_result",
          "data": {
            "text/plain": [
              "[{'eps': 0.9, 'min_samples': 2},\n",
              " {'eps': 0.9, 'min_samples': 3},\n",
              " {'eps': 0.9, 'min_samples': 4},\n",
              " {'eps': 0.9, 'min_samples': 5},\n",
              " {'eps': 0.5, 'min_samples': 2},\n",
              " {'eps': 0.5, 'min_samples': 3},\n",
              " {'eps': 0.5, 'min_samples': 4},\n",
              " {'eps': 0.5, 'min_samples': 5},\n",
              " {'eps': 0.1, 'min_samples': 2},\n",
              " {'eps': 0.1, 'min_samples': 3},\n",
              " {'eps': 0.1, 'min_samples': 4},\n",
              " {'eps': 0.1, 'min_samples': 5},\n",
              " {'eps': 0.12, 'min_samples': 2},\n",
              " {'eps': 0.12, 'min_samples': 3},\n",
              " {'eps': 0.12, 'min_samples': 4},\n",
              " {'eps': 0.12, 'min_samples': 5},\n",
              " {'eps': 0.14, 'min_samples': 2},\n",
              " {'eps': 0.14, 'min_samples': 3},\n",
              " {'eps': 0.14, 'min_samples': 4},\n",
              " {'eps': 0.14, 'min_samples': 5},\n",
              " {'eps': 0.2, 'min_samples': 2},\n",
              " {'eps': 0.2, 'min_samples': 3},\n",
              " {'eps': 0.2, 'min_samples': 4},\n",
              " {'eps': 0.2, 'min_samples': 5}]"
            ]
          },
          "metadata": {
            "tags": []
          },
          "execution_count": 289
        }
      ]
    },
    {
      "cell_type": "code",
      "metadata": {
        "id": "u08pHbXAG5HH",
        "colab_type": "code",
        "colab": {
          "base_uri": "https://localhost:8080/",
          "height": 1000
        },
        "outputId": "4cf56a6d-ad04-406d-8c92-db129f9a1f4c"
      },
      "source": [
        "score = []\n",
        "for param in parameter_grid:\n",
        "  model.set_params(**param).fit(iris_2D)\n",
        "  score.append(silhouette_score(iris_2D,model.labels_))\n",
        "  print(\"------------------------------\")\n",
        "  print(\"parameter : {} \".format(param))\n",
        "  print(\"score     : {} \".format(silhouette_score(iris_2D,model.labels_)))\n",
        "  print(\"------------------------------\")\n",
        "\n",
        "\n",
        "plt.plot(score)\n",
        "\n"
      ],
      "execution_count": 293,
      "outputs": [
        {
          "output_type": "stream",
          "text": [
            "------------------------------\n",
            "parameter : {'eps': 0.9, 'min_samples': 2} \n",
            "score     : 0.7116091684163499 \n",
            "------------------------------\n",
            "------------------------------\n",
            "parameter : {'eps': 0.9, 'min_samples': 3} \n",
            "score     : 0.7116091684163499 \n",
            "------------------------------\n",
            "------------------------------\n",
            "parameter : {'eps': 0.9, 'min_samples': 4} \n",
            "score     : 0.7116091684163499 \n",
            "------------------------------\n",
            "------------------------------\n",
            "parameter : {'eps': 0.9, 'min_samples': 5} \n",
            "score     : 0.7116091684163499 \n",
            "------------------------------\n",
            "------------------------------\n",
            "parameter : {'eps': 0.5, 'min_samples': 2} \n",
            "score     : 0.7116091684163499 \n",
            "------------------------------\n",
            "------------------------------\n",
            "parameter : {'eps': 0.5, 'min_samples': 3} \n",
            "score     : 0.7116091684163499 \n",
            "------------------------------\n",
            "------------------------------\n",
            "parameter : {'eps': 0.5, 'min_samples': 4} \n",
            "score     : 0.7116091684163499 \n",
            "------------------------------\n",
            "------------------------------\n",
            "parameter : {'eps': 0.5, 'min_samples': 5} \n",
            "score     : 0.5011646245429676 \n",
            "------------------------------\n",
            "------------------------------\n",
            "parameter : {'eps': 0.1, 'min_samples': 2} \n",
            "score     : -0.02827630123254199 \n",
            "------------------------------\n",
            "------------------------------\n",
            "parameter : {'eps': 0.1, 'min_samples': 3} \n",
            "score     : -0.31002899256696853 \n",
            "------------------------------\n",
            "------------------------------\n",
            "parameter : {'eps': 0.1, 'min_samples': 4} \n",
            "score     : -0.41230679308111085 \n",
            "------------------------------\n",
            "------------------------------\n",
            "parameter : {'eps': 0.1, 'min_samples': 5} \n",
            "score     : 0.1530373308343924 \n",
            "------------------------------\n",
            "------------------------------\n",
            "parameter : {'eps': 0.12, 'min_samples': 2} \n",
            "score     : 0.03638730233925176 \n",
            "------------------------------\n",
            "------------------------------\n",
            "parameter : {'eps': 0.12, 'min_samples': 3} \n",
            "score     : -0.15507789748328496 \n",
            "------------------------------\n",
            "------------------------------\n",
            "parameter : {'eps': 0.12, 'min_samples': 4} \n",
            "score     : -0.20729681476855796 \n",
            "------------------------------\n",
            "------------------------------\n",
            "parameter : {'eps': 0.12, 'min_samples': 5} \n",
            "score     : -0.26776980854004706 \n",
            "------------------------------\n",
            "------------------------------\n",
            "parameter : {'eps': 0.14, 'min_samples': 2} \n",
            "score     : 0.03638730233925176 \n",
            "------------------------------\n",
            "------------------------------\n",
            "parameter : {'eps': 0.14, 'min_samples': 3} \n",
            "score     : -0.15507789748328496 \n",
            "------------------------------\n",
            "------------------------------\n",
            "parameter : {'eps': 0.14, 'min_samples': 4} \n",
            "score     : -0.20729681476855796 \n",
            "------------------------------\n",
            "------------------------------\n",
            "parameter : {'eps': 0.14, 'min_samples': 5} \n",
            "score     : -0.26776980854004706 \n",
            "------------------------------\n",
            "------------------------------\n",
            "parameter : {'eps': 0.2, 'min_samples': 2} \n",
            "score     : 0.15952202062284007 \n",
            "------------------------------\n",
            "------------------------------\n",
            "parameter : {'eps': 0.2, 'min_samples': 3} \n",
            "score     : 0.27236336372598724 \n",
            "------------------------------\n",
            "------------------------------\n",
            "parameter : {'eps': 0.2, 'min_samples': 4} \n",
            "score     : 0.20955481926452246 \n",
            "------------------------------\n",
            "------------------------------\n",
            "parameter : {'eps': 0.2, 'min_samples': 5} \n",
            "score     : 0.15329585814833271 \n",
            "------------------------------\n"
          ],
          "name": "stdout"
        },
        {
          "output_type": "execute_result",
          "data": {
            "text/plain": [
              "[<matplotlib.lines.Line2D at 0x7ff75c21dc88>]"
            ]
          },
          "metadata": {
            "tags": []
          },
          "execution_count": 293
        },
        {
          "output_type": "display_data",
          "data": {
            "image/png": "[encoded data removed]",
            "text/plain": [
              "<Figure size 432x288 with 1 Axes>"
            ]
          },
          "metadata": {
            "tags": [],
            "needs_background": "light"
          }
        }
      ]
    },
    {
      "cell_type": "code",
      "metadata": {
        "id": "nbslPk1dG-Ds",
        "colab_type": "code",
        "colab": {}
      },
      "source": [
        "## apply clustering using image data\n",
        "from sklearn.datasets import fetch_openml"
      ],
      "execution_count": 295,
      "outputs": []
    },
    {
      "cell_type": "code",
      "metadata": {
        "id": "LrhjAc0yK1y8",
        "colab_type": "code",
        "colab": {}
      },
      "source": [
        "# Load data from https://www.openml.org/d/554\n",
        "mnist = fetch_openml('mnist_784', version=1)\n"
      ],
      "execution_count": 305,
      "outputs": []
    },
    {
      "cell_type": "code",
      "metadata": {
        "id": "WpRdgSPQLxn3",
        "colab_type": "code",
        "colab": {}
      },
      "source": [
        "df = pd.DataFrame(data=mnist.data,columns=mnist.feature_names)"
      ],
      "execution_count": 307,
      "outputs": []
    },
    {
      "cell_type": "code",
      "metadata": {
        "id": "Ny68Ze88MFjf",
        "colab_type": "code",
        "colab": {
          "base_uri": "https://localhost:8080/",
          "height": 255
        },
        "outputId": "197c064e-8117-4191-e386-5456f59cd214"
      },
      "source": [
        "df.head()"
      ],
      "execution_count": 308,
      "outputs": [
        {
          "output_type": "execute_result",
          "data": {
            "text/html": [
              "<div>\n",
              "<style scoped>\n",
              "    .dataframe tbody tr th:only-of-type {\n",
              "        vertical-align: middle;\n",
              "    }\n",
              "\n",
              "    .dataframe tbody tr th {\n",
              "        vertical-align: top;\n",
              "    }\n",
              "\n",
              "    .dataframe thead th {\n",
              "        text-align: right;\n",
              "    }\n",
              "</style>\n",
              "<table border=\"1\" class=\"dataframe\">\n",
              "  <thead>\n",
              "    <tr style=\"text-align: right;\">\n",
              "      <th></th>\n",
              "      <th>pixel1</th>\n",
              "      <th>pixel2</th>\n",
              "      <th>pixel3</th>\n",
              "      <th>pixel4</th>\n",
              "      <th>pixel5</th>\n",
              "      <th>pixel6</th>\n",
              "      <th>pixel7</th>\n",
              "      <th>pixel8</th>\n",
              "      <th>pixel9</th>\n",
              "      <th>pixel10</th>\n",
              "      <th>pixel11</th>\n",
              "      <th>pixel12</th>\n",
              "      <th>pixel13</th>\n",
              "      <th>pixel14</th>\n",
              "      <th>pixel15</th>\n",
              "      <th>pixel16</th>\n",
              "      <th>pixel17</th>\n",
              "      <th>pixel18</th>\n",
              "      <th>pixel19</th>\n",
              "      <th>pixel20</th>\n",
              "      <th>pixel21</th>\n",
              "      <th>pixel22</th>\n",
              "      <th>pixel23</th>\n",
              "      <th>pixel24</th>\n",
              "      <th>pixel25</th>\n",
              "      <th>pixel26</th>\n",
              "      <th>pixel27</th>\n",
              "      <th>pixel28</th>\n",
              "      <th>pixel29</th>\n",
              "      <th>pixel30</th>\n",
              "      <th>pixel31</th>\n",
              "      <th>pixel32</th>\n",
              "      <th>pixel33</th>\n",
              "      <th>pixel34</th>\n",
              "      <th>pixel35</th>\n",
              "      <th>pixel36</th>\n",
              "      <th>pixel37</th>\n",
              "      <th>pixel38</th>\n",
              "      <th>pixel39</th>\n",
              "      <th>pixel40</th>\n",
              "      <th>...</th>\n",
              "      <th>pixel745</th>\n",
              "      <th>pixel746</th>\n",
              "      <th>pixel747</th>\n",
              "      <th>pixel748</th>\n",
              "      <th>pixel749</th>\n",
              "      <th>pixel750</th>\n",
              "      <th>pixel751</th>\n",
              "      <th>pixel752</th>\n",
              "      <th>pixel753</th>\n",
              "      <th>pixel754</th>\n",
              "      <th>pixel755</th>\n",
              "      <th>pixel756</th>\n",
              "      <th>pixel757</th>\n",
              "      <th>pixel758</th>\n",
              "      <th>pixel759</th>\n",
              "      <th>pixel760</th>\n",
              "      <th>pixel761</th>\n",
              "      <th>pixel762</th>\n",
              "      <th>pixel763</th>\n",
              "      <th>pixel764</th>\n",
              "      <th>pixel765</th>\n",
              "      <th>pixel766</th>\n",
              "      <th>pixel767</th>\n",
              "      <th>pixel768</th>\n",
              "      <th>pixel769</th>\n",
              "      <th>pixel770</th>\n",
              "      <th>pixel771</th>\n",
              "      <th>pixel772</th>\n",
              "      <th>pixel773</th>\n",
              "      <th>pixel774</th>\n",
              "      <th>pixel775</th>\n",
              "      <th>pixel776</th>\n",
              "      <th>pixel777</th>\n",
              "      <th>pixel778</th>\n",
              "      <th>pixel779</th>\n",
              "      <th>pixel780</th>\n",
              "      <th>pixel781</th>\n",
              "      <th>pixel782</th>\n",
              "      <th>pixel783</th>\n",
              "      <th>pixel784</th>\n",
              "    </tr>\n",
              "  </thead>\n",
              "  <tbody>\n",
              "    <tr>\n",
              "      <th>0</th>\n",
              "      <td>0.0</td>\n",
              "      <td>0.0</td>\n",
              "      <td>0.0</td>\n",
              "      <td>0.0</td>\n",
              "      <td>0.0</td>\n",
              "      <td>0.0</td>\n",
              "      <td>0.0</td>\n",
              "      <td>0.0</td>\n",
              "      <td>0.0</td>\n",
              "      <td>0.0</td>\n",
              "      <td>0.0</td>\n",
              "      <td>0.0</td>\n",
              "      <td>0.0</td>\n",
              "      <td>0.0</td>\n",
              "      <td>0.0</td>\n",
              "      <td>0.0</td>\n",
              "      <td>0.0</td>\n",
              "      <td>0.0</td>\n",
              "      <td>0.0</td>\n",
              "      <td>0.0</td>\n",
              "      <td>0.0</td>\n",
              "      <td>0.0</td>\n",
              "      <td>0.0</td>\n",
              "      <td>0.0</td>\n",
              "      <td>0.0</td>\n",
              "      <td>0.0</td>\n",
              "      <td>0.0</td>\n",
              "      <td>0.0</td>\n",
              "      <td>0.0</td>\n",
              "      <td>0.0</td>\n",
              "      <td>0.0</td>\n",
              "      <td>0.0</td>\n",
              "      <td>0.0</td>\n",
              "      <td>0.0</td>\n",
              "      <td>0.0</td>\n",
              "      <td>0.0</td>\n",
              "      <td>0.0</td>\n",
              "      <td>0.0</td>\n",
              "      <td>0.0</td>\n",
              "      <td>0.0</td>\n",
              "      <td>...</td>\n",
              "      <td>0.0</td>\n",
              "      <td>0.0</td>\n",
              "      <td>0.0</td>\n",
              "      <td>0.0</td>\n",
              "      <td>0.0</td>\n",
              "      <td>0.0</td>\n",
              "      <td>0.0</td>\n",
              "      <td>0.0</td>\n",
              "      <td>0.0</td>\n",
              "      <td>0.0</td>\n",
              "      <td>0.0</td>\n",
              "      <td>0.0</td>\n",
              "      <td>0.0</td>\n",
              "      <td>0.0</td>\n",
              "      <td>0.0</td>\n",
              "      <td>0.0</td>\n",
              "      <td>0.0</td>\n",
              "      <td>0.0</td>\n",
              "      <td>0.0</td>\n",
              "      <td>0.0</td>\n",
              "      <td>0.0</td>\n",
              "      <td>0.0</td>\n",
              "      <td>0.0</td>\n",
              "      <td>0.0</td>\n",
              "      <td>0.0</td>\n",
              "      <td>0.0</td>\n",
              "      <td>0.0</td>\n",
              "      <td>0.0</td>\n",
              "      <td>0.0</td>\n",
              "      <td>0.0</td>\n",
              "      <td>0.0</td>\n",
              "      <td>0.0</td>\n",
              "      <td>0.0</td>\n",
              "      <td>0.0</td>\n",
              "      <td>0.0</td>\n",
              "      <td>0.0</td>\n",
              "      <td>0.0</td>\n",
              "      <td>0.0</td>\n",
              "      <td>0.0</td>\n",
              "      <td>0.0</td>\n",
              "    </tr>\n",
              "    <tr>\n",
              "      <th>1</th>\n",
              "      <td>0.0</td>\n",
              "      <td>0.0</td>\n",
              "      <td>0.0</td>\n",
              "      <td>0.0</td>\n",
              "      <td>0.0</td>\n",
              "      <td>0.0</td>\n",
              "      <td>0.0</td>\n",
              "      <td>0.0</td>\n",
              "      <td>0.0</td>\n",
              "      <td>0.0</td>\n",
              "      <td>0.0</td>\n",
              "      <td>0.0</td>\n",
              "      <td>0.0</td>\n",
              "      <td>0.0</td>\n",
              "      <td>0.0</td>\n",
              "      <td>0.0</td>\n",
              "      <td>0.0</td>\n",
              "      <td>0.0</td>\n",
              "      <td>0.0</td>\n",
              "      <td>0.0</td>\n",
              "      <td>0.0</td>\n",
              "      <td>0.0</td>\n",
              "      <td>0.0</td>\n",
              "      <td>0.0</td>\n",
              "      <td>0.0</td>\n",
              "      <td>0.0</td>\n",
              "      <td>0.0</td>\n",
              "      <td>0.0</td>\n",
              "      <td>0.0</td>\n",
              "      <td>0.0</td>\n",
              "      <td>0.0</td>\n",
              "      <td>0.0</td>\n",
              "      <td>0.0</td>\n",
              "      <td>0.0</td>\n",
              "      <td>0.0</td>\n",
              "      <td>0.0</td>\n",
              "      <td>0.0</td>\n",
              "      <td>0.0</td>\n",
              "      <td>0.0</td>\n",
              "      <td>0.0</td>\n",
              "      <td>...</td>\n",
              "      <td>0.0</td>\n",
              "      <td>0.0</td>\n",
              "      <td>0.0</td>\n",
              "      <td>0.0</td>\n",
              "      <td>0.0</td>\n",
              "      <td>0.0</td>\n",
              "      <td>0.0</td>\n",
              "      <td>0.0</td>\n",
              "      <td>0.0</td>\n",
              "      <td>0.0</td>\n",
              "      <td>0.0</td>\n",
              "      <td>0.0</td>\n",
              "      <td>0.0</td>\n",
              "      <td>0.0</td>\n",
              "      <td>0.0</td>\n",
              "      <td>0.0</td>\n",
              "      <td>0.0</td>\n",
              "      <td>0.0</td>\n",
              "      <td>0.0</td>\n",
              "      <td>0.0</td>\n",
              "      <td>0.0</td>\n",
              "      <td>0.0</td>\n",
              "      <td>0.0</td>\n",
              "      <td>0.0</td>\n",
              "      <td>0.0</td>\n",
              "      <td>0.0</td>\n",
              "      <td>0.0</td>\n",
              "      <td>0.0</td>\n",
              "      <td>0.0</td>\n",
              "      <td>0.0</td>\n",
              "      <td>0.0</td>\n",
              "      <td>0.0</td>\n",
              "      <td>0.0</td>\n",
              "      <td>0.0</td>\n",
              "      <td>0.0</td>\n",
              "      <td>0.0</td>\n",
              "      <td>0.0</td>\n",
              "      <td>0.0</td>\n",
              "      <td>0.0</td>\n",
              "      <td>0.0</td>\n",
              "    </tr>\n",
              "    <tr>\n",
              "      <th>2</th>\n",
              "      <td>0.0</td>\n",
              "      <td>0.0</td>\n",
              "      <td>0.0</td>\n",
              "      <td>0.0</td>\n",
              "      <td>0.0</td>\n",
              "      <td>0.0</td>\n",
              "      <td>0.0</td>\n",
              "      <td>0.0</td>\n",
              "      <td>0.0</td>\n",
              "      <td>0.0</td>\n",
              "      <td>0.0</td>\n",
              "      <td>0.0</td>\n",
              "      <td>0.0</td>\n",
              "      <td>0.0</td>\n",
              "      <td>0.0</td>\n",
              "      <td>0.0</td>\n",
              "      <td>0.0</td>\n",
              "      <td>0.0</td>\n",
              "      <td>0.0</td>\n",
              "      <td>0.0</td>\n",
              "      <td>0.0</td>\n",
              "      <td>0.0</td>\n",
              "      <td>0.0</td>\n",
              "      <td>0.0</td>\n",
              "      <td>0.0</td>\n",
              "      <td>0.0</td>\n",
              "      <td>0.0</td>\n",
              "      <td>0.0</td>\n",
              "      <td>0.0</td>\n",
              "      <td>0.0</td>\n",
              "      <td>0.0</td>\n",
              "      <td>0.0</td>\n",
              "      <td>0.0</td>\n",
              "      <td>0.0</td>\n",
              "      <td>0.0</td>\n",
              "      <td>0.0</td>\n",
              "      <td>0.0</td>\n",
              "      <td>0.0</td>\n",
              "      <td>0.0</td>\n",
              "      <td>0.0</td>\n",
              "      <td>...</td>\n",
              "      <td>0.0</td>\n",
              "      <td>0.0</td>\n",
              "      <td>0.0</td>\n",
              "      <td>0.0</td>\n",
              "      <td>0.0</td>\n",
              "      <td>0.0</td>\n",
              "      <td>0.0</td>\n",
              "      <td>0.0</td>\n",
              "      <td>0.0</td>\n",
              "      <td>0.0</td>\n",
              "      <td>0.0</td>\n",
              "      <td>0.0</td>\n",
              "      <td>0.0</td>\n",
              "      <td>0.0</td>\n",
              "      <td>0.0</td>\n",
              "      <td>0.0</td>\n",
              "      <td>0.0</td>\n",
              "      <td>0.0</td>\n",
              "      <td>0.0</td>\n",
              "      <td>0.0</td>\n",
              "      <td>0.0</td>\n",
              "      <td>0.0</td>\n",
              "      <td>0.0</td>\n",
              "      <td>0.0</td>\n",
              "      <td>0.0</td>\n",
              "      <td>0.0</td>\n",
              "      <td>0.0</td>\n",
              "      <td>0.0</td>\n",
              "      <td>0.0</td>\n",
              "      <td>0.0</td>\n",
              "      <td>0.0</td>\n",
              "      <td>0.0</td>\n",
              "      <td>0.0</td>\n",
              "      <td>0.0</td>\n",
              "      <td>0.0</td>\n",
              "      <td>0.0</td>\n",
              "      <td>0.0</td>\n",
              "      <td>0.0</td>\n",
              "      <td>0.0</td>\n",
              "      <td>0.0</td>\n",
              "    </tr>\n",
              "    <tr>\n",
              "      <th>3</th>\n",
              "      <td>0.0</td>\n",
              "      <td>0.0</td>\n",
              "      <td>0.0</td>\n",
              "      <td>0.0</td>\n",
              "      <td>0.0</td>\n",
              "      <td>0.0</td>\n",
              "      <td>0.0</td>\n",
              "      <td>0.0</td>\n",
              "      <td>0.0</td>\n",
              "      <td>0.0</td>\n",
              "      <td>0.0</td>\n",
              "      <td>0.0</td>\n",
              "      <td>0.0</td>\n",
              "      <td>0.0</td>\n",
              "      <td>0.0</td>\n",
              "      <td>0.0</td>\n",
              "      <td>0.0</td>\n",
              "      <td>0.0</td>\n",
              "      <td>0.0</td>\n",
              "      <td>0.0</td>\n",
              "      <td>0.0</td>\n",
              "      <td>0.0</td>\n",
              "      <td>0.0</td>\n",
              "      <td>0.0</td>\n",
              "      <td>0.0</td>\n",
              "      <td>0.0</td>\n",
              "      <td>0.0</td>\n",
              "      <td>0.0</td>\n",
              "      <td>0.0</td>\n",
              "      <td>0.0</td>\n",
              "      <td>0.0</td>\n",
              "      <td>0.0</td>\n",
              "      <td>0.0</td>\n",
              "      <td>0.0</td>\n",
              "      <td>0.0</td>\n",
              "      <td>0.0</td>\n",
              "      <td>0.0</td>\n",
              "      <td>0.0</td>\n",
              "      <td>0.0</td>\n",
              "      <td>0.0</td>\n",
              "      <td>...</td>\n",
              "      <td>0.0</td>\n",
              "      <td>0.0</td>\n",
              "      <td>0.0</td>\n",
              "      <td>0.0</td>\n",
              "      <td>0.0</td>\n",
              "      <td>0.0</td>\n",
              "      <td>0.0</td>\n",
              "      <td>0.0</td>\n",
              "      <td>0.0</td>\n",
              "      <td>0.0</td>\n",
              "      <td>0.0</td>\n",
              "      <td>0.0</td>\n",
              "      <td>0.0</td>\n",
              "      <td>0.0</td>\n",
              "      <td>0.0</td>\n",
              "      <td>0.0</td>\n",
              "      <td>0.0</td>\n",
              "      <td>0.0</td>\n",
              "      <td>0.0</td>\n",
              "      <td>0.0</td>\n",
              "      <td>0.0</td>\n",
              "      <td>0.0</td>\n",
              "      <td>0.0</td>\n",
              "      <td>0.0</td>\n",
              "      <td>0.0</td>\n",
              "      <td>0.0</td>\n",
              "      <td>0.0</td>\n",
              "      <td>0.0</td>\n",
              "      <td>0.0</td>\n",
              "      <td>0.0</td>\n",
              "      <td>0.0</td>\n",
              "      <td>0.0</td>\n",
              "      <td>0.0</td>\n",
              "      <td>0.0</td>\n",
              "      <td>0.0</td>\n",
              "      <td>0.0</td>\n",
              "      <td>0.0</td>\n",
              "      <td>0.0</td>\n",
              "      <td>0.0</td>\n",
              "      <td>0.0</td>\n",
              "    </tr>\n",
              "    <tr>\n",
              "      <th>4</th>\n",
              "      <td>0.0</td>\n",
              "      <td>0.0</td>\n",
              "      <td>0.0</td>\n",
              "      <td>0.0</td>\n",
              "      <td>0.0</td>\n",
              "      <td>0.0</td>\n",
              "      <td>0.0</td>\n",
              "      <td>0.0</td>\n",
              "      <td>0.0</td>\n",
              "      <td>0.0</td>\n",
              "      <td>0.0</td>\n",
              "      <td>0.0</td>\n",
              "      <td>0.0</td>\n",
              "      <td>0.0</td>\n",
              "      <td>0.0</td>\n",
              "      <td>0.0</td>\n",
              "      <td>0.0</td>\n",
              "      <td>0.0</td>\n",
              "      <td>0.0</td>\n",
              "      <td>0.0</td>\n",
              "      <td>0.0</td>\n",
              "      <td>0.0</td>\n",
              "      <td>0.0</td>\n",
              "      <td>0.0</td>\n",
              "      <td>0.0</td>\n",
              "      <td>0.0</td>\n",
              "      <td>0.0</td>\n",
              "      <td>0.0</td>\n",
              "      <td>0.0</td>\n",
              "      <td>0.0</td>\n",
              "      <td>0.0</td>\n",
              "      <td>0.0</td>\n",
              "      <td>0.0</td>\n",
              "      <td>0.0</td>\n",
              "      <td>0.0</td>\n",
              "      <td>0.0</td>\n",
              "      <td>0.0</td>\n",
              "      <td>0.0</td>\n",
              "      <td>0.0</td>\n",
              "      <td>0.0</td>\n",
              "      <td>...</td>\n",
              "      <td>147.0</td>\n",
              "      <td>252.0</td>\n",
              "      <td>42.0</td>\n",
              "      <td>0.0</td>\n",
              "      <td>0.0</td>\n",
              "      <td>0.0</td>\n",
              "      <td>0.0</td>\n",
              "      <td>0.0</td>\n",
              "      <td>0.0</td>\n",
              "      <td>0.0</td>\n",
              "      <td>0.0</td>\n",
              "      <td>0.0</td>\n",
              "      <td>0.0</td>\n",
              "      <td>0.0</td>\n",
              "      <td>0.0</td>\n",
              "      <td>0.0</td>\n",
              "      <td>0.0</td>\n",
              "      <td>0.0</td>\n",
              "      <td>0.0</td>\n",
              "      <td>0.0</td>\n",
              "      <td>0.0</td>\n",
              "      <td>0.0</td>\n",
              "      <td>0.0</td>\n",
              "      <td>0.0</td>\n",
              "      <td>0.0</td>\n",
              "      <td>0.0</td>\n",
              "      <td>0.0</td>\n",
              "      <td>0.0</td>\n",
              "      <td>0.0</td>\n",
              "      <td>0.0</td>\n",
              "      <td>0.0</td>\n",
              "      <td>0.0</td>\n",
              "      <td>0.0</td>\n",
              "      <td>0.0</td>\n",
              "      <td>0.0</td>\n",
              "      <td>0.0</td>\n",
              "      <td>0.0</td>\n",
              "      <td>0.0</td>\n",
              "      <td>0.0</td>\n",
              "      <td>0.0</td>\n",
              "    </tr>\n",
              "  </tbody>\n",
              "</table>\n",
              "<p>5 rows × 784 columns</p>\n",
              "</div>"
            ],
            "text/plain": [
              "   pixel1  pixel2  pixel3  pixel4  ...  pixel781  pixel782  pixel783  pixel784\n",
              "0     0.0     0.0     0.0     0.0  ...       0.0       0.0       0.0       0.0\n",
              "1     0.0     0.0     0.0     0.0  ...       0.0       0.0       0.0       0.0\n",
              "2     0.0     0.0     0.0     0.0  ...       0.0       0.0       0.0       0.0\n",
              "3     0.0     0.0     0.0     0.0  ...       0.0       0.0       0.0       0.0\n",
              "4     0.0     0.0     0.0     0.0  ...       0.0       0.0       0.0       0.0\n",
              "\n",
              "[5 rows x 784 columns]"
            ]
          },
          "metadata": {
            "tags": []
          },
          "execution_count": 308
        }
      ]
    },
    {
      "cell_type": "code",
      "metadata": {
        "id": "b77E1PvpMz1G",
        "colab_type": "code",
        "colab": {}
      },
      "source": [
        "## ok we have the label too but we dont add it becayse we dont need it\n",
        "## it will be added later\n"
      ],
      "execution_count": 309,
      "outputs": []
    },
    {
      "cell_type": "code",
      "metadata": {
        "id": "-8UnyY8TM8J5",
        "colab_type": "code",
        "colab": {}
      },
      "source": [
        "def display(index):\n",
        "  plt.imshow(df.loc[index].values.reshape(28,28))"
      ],
      "execution_count": 312,
      "outputs": []
    },
    {
      "cell_type": "code",
      "metadata": {
        "id": "irIw0GOXNIFn",
        "colab_type": "code",
        "colab": {
          "base_uri": "https://localhost:8080/",
          "height": 265
        },
        "outputId": "b2ec957d-90c2-4455-c235-513c18e5f330"
      },
      "source": [
        "display(1)"
      ],
      "execution_count": 313,
      "outputs": [
        {
          "output_type": "display_data",
          "data": {
            "image/png": "[encoded data removed]",
            "text/plain": [
              "<Figure size 432x288 with 1 Axes>"
            ]
          },
          "metadata": {
            "tags": [],
            "needs_background": "light"
          }
        }
      ]
    },
    {
      "cell_type": "code",
      "metadata": {
        "id": "nc0AiCPqNJ2U",
        "colab_type": "code",
        "colab": {
          "base_uri": "https://localhost:8080/",
          "height": 265
        },
        "outputId": "94df074e-212f-47c6-82ef-9e16bd74f55d"
      },
      "source": [
        "display(2)"
      ],
      "execution_count": 315,
      "outputs": [
        {
          "output_type": "display_data",
          "data": {
            "image/png": "[encoded data removed]",
            "text/plain": [
              "<Figure size 432x288 with 1 Axes>"
            ]
          },
          "metadata": {
            "tags": [],
            "needs_background": "light"
          }
        }
      ]
    },
    {
      "cell_type": "code",
      "metadata": {
        "id": "s4ADJTsbNPay",
        "colab_type": "code",
        "colab": {}
      },
      "source": [
        "moden = KMeans(n_clusters=10,max_iter=1000).fit(df)"
      ],
      "execution_count": 316,
      "outputs": []
    },
    {
      "cell_type": "code",
      "metadata": {
        "id": "jLTiclioNkLt",
        "colab_type": "code",
        "colab": {}
      },
      "source": [
        "kmeans_centroid = moden.cluster_centers_"
      ],
      "execution_count": 318,
      "outputs": []
    },
    {
      "cell_type": "code",
      "metadata": {
        "id": "9iPLQ8ZWOOGN",
        "colab_type": "code",
        "colab": {
          "base_uri": "https://localhost:8080/",
          "height": 35
        },
        "outputId": "d275df05-f098-40b0-e340-9f544a4652af"
      },
      "source": [
        "silhouette_score(df,moden.labels_)\n",
        "  "
      ],
      "execution_count": 323,
      "outputs": [
        {
          "output_type": "execute_result",
          "data": {
            "text/plain": [
              "0.05877299856360276"
            ]
          },
          "metadata": {
            "tags": []
          },
          "execution_count": 323
        }
      ]
    },
    {
      "cell_type": "code",
      "metadata": {
        "id": "O7I2YK-jOsar",
        "colab_type": "code",
        "colab": {}
      },
      "source": [
        "df['label'] = np.array(mnist.target)"
      ],
      "execution_count": 327,
      "outputs": []
    },
    {
      "cell_type": "code",
      "metadata": {
        "id": "aOLL0abdQryQ",
        "colab_type": "code",
        "colab": {}
      },
      "source": [
        "mnist_test = df.sample(10)"
      ],
      "execution_count": 328,
      "outputs": []
    },
    {
      "cell_type": "code",
      "metadata": {
        "id": "2gnWLkClRCCw",
        "colab_type": "code",
        "colab": {}
      },
      "source": [
        "mnist_test_feature  = mnist_test.drop('label',axis=1)"
      ],
      "execution_count": 329,
      "outputs": []
    },
    {
      "cell_type": "code",
      "metadata": {
        "id": "Gf4-CLiERHgH",
        "colab_type": "code",
        "colab": {}
      },
      "source": [
        "mnist_test_label = mnist_test['label']"
      ],
      "execution_count": 330,
      "outputs": []
    },
    {
      "cell_type": "code",
      "metadata": {
        "id": "o5nVnC0cRMzw",
        "colab_type": "code",
        "colab": {}
      },
      "source": [
        "pred_cluster = moden.predict(mnist_test_feature)"
      ],
      "execution_count": 331,
      "outputs": []
    },
    {
      "cell_type": "code",
      "metadata": {
        "id": "_vaTfaxDRXLU",
        "colab_type": "code",
        "colab": {}
      },
      "source": [
        "pred_result = pd.DataFrame({'actual_digit':mnist_test_label,'cluster':pred_cluster})"
      ],
      "execution_count": 333,
      "outputs": []
    },
    {
      "cell_type": "code",
      "metadata": {
        "id": "QAAuZt2jRY2p",
        "colab_type": "code",
        "colab": {
          "base_uri": "https://localhost:8080/",
          "height": 363
        },
        "outputId": "25ad2861-1260-43b9-8626-094591fc7739"
      },
      "source": [
        "pred_result"
      ],
      "execution_count": 334,
      "outputs": [
        {
          "output_type": "execute_result",
          "data": {
            "text/html": [
              "<div>\n",
              "<style scoped>\n",
              "    .dataframe tbody tr th:only-of-type {\n",
              "        vertical-align: middle;\n",
              "    }\n",
              "\n",
              "    .dataframe tbody tr th {\n",
              "        vertical-align: top;\n",
              "    }\n",
              "\n",
              "    .dataframe thead th {\n",
              "        text-align: right;\n",
              "    }\n",
              "</style>\n",
              "<table border=\"1\" class=\"dataframe\">\n",
              "  <thead>\n",
              "    <tr style=\"text-align: right;\">\n",
              "      <th></th>\n",
              "      <th>actual_digit</th>\n",
              "      <th>cluster</th>\n",
              "    </tr>\n",
              "  </thead>\n",
              "  <tbody>\n",
              "    <tr>\n",
              "      <th>43640</th>\n",
              "      <td>6</td>\n",
              "      <td>5</td>\n",
              "    </tr>\n",
              "    <tr>\n",
              "      <th>30051</th>\n",
              "      <td>0</td>\n",
              "      <td>2</td>\n",
              "    </tr>\n",
              "    <tr>\n",
              "      <th>26632</th>\n",
              "      <td>2</td>\n",
              "      <td>9</td>\n",
              "    </tr>\n",
              "    <tr>\n",
              "      <th>23354</th>\n",
              "      <td>6</td>\n",
              "      <td>6</td>\n",
              "    </tr>\n",
              "    <tr>\n",
              "      <th>47872</th>\n",
              "      <td>3</td>\n",
              "      <td>8</td>\n",
              "    </tr>\n",
              "    <tr>\n",
              "      <th>41981</th>\n",
              "      <td>4</td>\n",
              "      <td>1</td>\n",
              "    </tr>\n",
              "    <tr>\n",
              "      <th>18277</th>\n",
              "      <td>9</td>\n",
              "      <td>1</td>\n",
              "    </tr>\n",
              "    <tr>\n",
              "      <th>29446</th>\n",
              "      <td>0</td>\n",
              "      <td>2</td>\n",
              "    </tr>\n",
              "    <tr>\n",
              "      <th>44259</th>\n",
              "      <td>8</td>\n",
              "      <td>9</td>\n",
              "    </tr>\n",
              "    <tr>\n",
              "      <th>29310</th>\n",
              "      <td>5</td>\n",
              "      <td>9</td>\n",
              "    </tr>\n",
              "  </tbody>\n",
              "</table>\n",
              "</div>"
            ],
            "text/plain": [
              "      actual_digit  cluster\n",
              "43640            6        5\n",
              "30051            0        2\n",
              "26632            2        9\n",
              "23354            6        6\n",
              "47872            3        8\n",
              "41981            4        1\n",
              "18277            9        1\n",
              "29446            0        2\n",
              "44259            8        9\n",
              "29310            5        9"
            ]
          },
          "metadata": {
            "tags": []
          },
          "execution_count": 334
        }
      ]
    },
    {
      "cell_type": "code",
      "metadata": {
        "id": "d38j8o-hRmg4",
        "colab_type": "code",
        "colab": {}
      },
      "source": [
        "## just see that if the unique every digit goes to the unique cluster\n",
        "## this are just computer generated cluster number\n",
        "## so if every unique digit take unique cluster \n",
        "## you done  a preety good job\n",
        "## here 4 and 9 comes to same cluster cause in english they have almost same structure\n",
        "## and also 8 and 5 so 2 mismatch so we have done a modarately good job"
      ],
      "execution_count": 335,
      "outputs": []
    },
    {
      "cell_type": "code",
      "metadata": {
        "id": "EG_f5BtwSPx0",
        "colab_type": "code",
        "colab": {}
      },
      "source": [
        ""
      ],
      "execution_count": null,
      "outputs": []
    }
  ]
}