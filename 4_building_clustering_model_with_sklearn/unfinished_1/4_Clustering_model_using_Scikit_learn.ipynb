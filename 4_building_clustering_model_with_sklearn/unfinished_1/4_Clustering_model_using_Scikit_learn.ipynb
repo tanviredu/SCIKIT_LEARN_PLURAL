{
  "nbformat": 4,
  "nbformat_minor": 0,
  "metadata": {
    "colab": {
      "name": "4_Clustering_model_using_Scikit_learn.ipynb",
      "provenance": []
    },
    "kernelspec": {
      "name": "python3",
      "display_name": "Python 3"
    }
  },
  "cells": [
    {
      "cell_type": "code",
      "metadata": {
        "id": "-MJHnDweUg9U",
        "colab_type": "code",
        "colab": {}
      },
      "source": [
        "### applying the clustering in the artificial data\n",
        "### using k means clustering"
      ],
      "execution_count": 50,
      "outputs": []
    },
    {
      "cell_type": "code",
      "metadata": {
        "id": "B8fJyPmx2qC3",
        "colab_type": "code",
        "colab": {}
      },
      "source": [
        "import random\n",
        "import numpy as np\n",
        "import pandas as pd\n",
        "import matplotlib.pyplot as plt\n",
        "import sklearn\n",
        "from sklearn import metrics\n",
        "from sklearn.cluster import KMeans"
      ],
      "execution_count": 51,
      "outputs": []
    },
    {
      "cell_type": "code",
      "metadata": {
        "id": "HLau7ULs3LBR",
        "colab_type": "code",
        "colab": {}
      },
      "source": [
        "## turn of the warning\n",
        "import warnings\n",
        "warnings.filterwarnings(\"ignore\")\n"
      ],
      "execution_count": 52,
      "outputs": []
    },
    {
      "cell_type": "code",
      "metadata": {
        "id": "mxy00MSP3YXn",
        "colab_type": "code",
        "colab": {
          "base_uri": "https://localhost:8080/",
          "height": 35
        },
        "outputId": "376ba771-cde0-4a59-b7d7-5181d13c98ea"
      },
      "source": [
        "## lets make some data between 1 and 400 (x and y) co-ordinate\n",
        "[random.randint(1,400) for i in range(2)]\n",
        "## it will give you two random numbe x and y from range(1,400)\n",
        "## we need 50 of that "
      ],
      "execution_count": 53,
      "outputs": [
        {
          "output_type": "execute_result",
          "data": {
            "text/plain": [
              "[41, 203]"
            ]
          },
          "metadata": {
            "tags": []
          },
          "execution_count": 53
        }
      ]
    },
    {
      "cell_type": "code",
      "metadata": {
        "id": "EaGW7yYc31ug",
        "colab_type": "code",
        "colab": {
          "base_uri": "https://localhost:8080/",
          "height": 922
        },
        "outputId": "425ca4ff-df96-46c6-cd63-e87cc451803c"
      },
      "source": [
        "[[random.randint(1,400) for i in range(2)] for j in range(50)]"
      ],
      "execution_count": 54,
      "outputs": [
        {
          "output_type": "execute_result",
          "data": {
            "text/plain": [
              "[[11, 39],\n",
              " [125, 330],\n",
              " [153, 73],\n",
              " [82, 238],\n",
              " [381, 133],\n",
              " [327, 395],\n",
              " [109, 166],\n",
              " [86, 64],\n",
              " [188, 338],\n",
              " [157, 125],\n",
              " [51, 3],\n",
              " [370, 185],\n",
              " [246, 99],\n",
              " [254, 126],\n",
              " [141, 344],\n",
              " [224, 391],\n",
              " [257, 356],\n",
              " [65, 299],\n",
              " [298, 150],\n",
              " [230, 247],\n",
              " [161, 251],\n",
              " [302, 389],\n",
              " [322, 54],\n",
              " [223, 148],\n",
              " [73, 305],\n",
              " [318, 155],\n",
              " [212, 259],\n",
              " [20, 343],\n",
              " [310, 126],\n",
              " [323, 211],\n",
              " [21, 161],\n",
              " [396, 231],\n",
              " [287, 121],\n",
              " [13, 220],\n",
              " [334, 258],\n",
              " [169, 197],\n",
              " [375, 307],\n",
              " [327, 374],\n",
              " [360, 144],\n",
              " [341, 330],\n",
              " [371, 374],\n",
              " [190, 71],\n",
              " [192, 62],\n",
              " [244, 101],\n",
              " [220, 353],\n",
              " [265, 169],\n",
              " [370, 96],\n",
              " [159, 214],\n",
              " [158, 251],\n",
              " [58, 308]]"
            ]
          },
          "metadata": {
            "tags": []
          },
          "execution_count": 54
        }
      ]
    },
    {
      "cell_type": "code",
      "metadata": {
        "id": "7YoRr-yh4Dp5",
        "colab_type": "code",
        "colab": {
          "base_uri": "https://localhost:8080/",
          "height": 922
        },
        "outputId": "39dfe972-9c9c-4c6b-84b1-ce654cad7f5a"
      },
      "source": [
        "np.array([[random.randint(1,400) for i in range(2)] for j in range(50)],dtype=np.float64)"
      ],
      "execution_count": 55,
      "outputs": [
        {
          "output_type": "execute_result",
          "data": {
            "text/plain": [
              "array([[ 47., 277.],\n",
              "       [ 96., 367.],\n",
              "       [ 49., 267.],\n",
              "       [281., 110.],\n",
              "       [310., 162.],\n",
              "       [135.,  90.],\n",
              "       [ 42., 323.],\n",
              "       [246.,  18.],\n",
              "       [ 94., 297.],\n",
              "       [ 13., 316.],\n",
              "       [376., 288.],\n",
              "       [ 55., 154.],\n",
              "       [340., 244.],\n",
              "       [118., 215.],\n",
              "       [ 60., 146.],\n",
              "       [125., 185.],\n",
              "       [  6.,  42.],\n",
              "       [195., 269.],\n",
              "       [397., 174.],\n",
              "       [197., 242.],\n",
              "       [112., 282.],\n",
              "       [ 11., 147.],\n",
              "       [269.,  19.],\n",
              "       [ 47., 354.],\n",
              "       [339., 359.],\n",
              "       [377., 181.],\n",
              "       [ 97., 176.],\n",
              "       [310., 267.],\n",
              "       [200.,  63.],\n",
              "       [ 63.,  99.],\n",
              "       [263.,  24.],\n",
              "       [386.,  84.],\n",
              "       [368., 214.],\n",
              "       [  1., 265.],\n",
              "       [ 97., 344.],\n",
              "       [ 99., 399.],\n",
              "       [282., 337.],\n",
              "       [ 49., 283.],\n",
              "       [  5., 235.],\n",
              "       [ 83.,  18.],\n",
              "       [ 58., 324.],\n",
              "       [177., 337.],\n",
              "       [106., 256.],\n",
              "       [150., 334.],\n",
              "       [ 85.,  72.],\n",
              "       [280., 191.],\n",
              "       [164., 289.],\n",
              "       [234., 188.],\n",
              "       [ 90., 231.],\n",
              "       [266., 373.]])"
            ]
          },
          "metadata": {
            "tags": []
          },
          "execution_count": 55
        }
      ]
    },
    {
      "cell_type": "code",
      "metadata": {
        "id": "-cuzdVCg4K48",
        "colab_type": "code",
        "colab": {}
      },
      "source": [
        "## now make three cluster in three different range\n",
        "data1 = np.array([[random.randint(1,400) for i in range(2)] for j in range(50)],dtype=np.float64)\n",
        "data2 = np.array([[random.randint(300,700) for i in range(2)] for j in range(50)],dtype=np.float64)\n",
        "data3 = np.array([[random.randint(600 ,900) for i in range(2)] for j in range(50)],dtype=np.float64)\n",
        "\n",
        "## remember there are some overlapping in the data"
      ],
      "execution_count": 56,
      "outputs": []
    },
    {
      "cell_type": "code",
      "metadata": {
        "id": "9BdVLkFR7pl_",
        "colab_type": "code",
        "colab": {}
      },
      "source": [
        "## conat all the data list in  a list\n",
        "data = np.append(np.append(data1,data2,axis=0),data3,axis=0)"
      ],
      "execution_count": 57,
      "outputs": []
    },
    {
      "cell_type": "code",
      "metadata": {
        "id": "eERMQgar72s7",
        "colab_type": "code",
        "colab": {
          "base_uri": "https://localhost:8080/",
          "height": 35
        },
        "outputId": "1360aca3-1831-4ccf-b49c-06ce38a505e5"
      },
      "source": [
        "len(data) "
      ],
      "execution_count": 58,
      "outputs": [
        {
          "output_type": "execute_result",
          "data": {
            "text/plain": [
              "150"
            ]
          },
          "metadata": {
            "tags": []
          },
          "execution_count": 58
        }
      ]
    },
    {
      "cell_type": "code",
      "metadata": {
        "id": "gkR5FznH73Zc",
        "colab_type": "code",
        "colab": {
          "base_uri": "https://localhost:8080/",
          "height": 270
        },
        "outputId": "1cdb8cea-15c3-48f7-e77d-d950b4b63808"
      },
      "source": [
        "data[:,0] ## its all the x axis data"
      ],
      "execution_count": 59,
      "outputs": [
        {
          "output_type": "execute_result",
          "data": {
            "text/plain": [
              "array([310., 247., 207., 393., 371.,  23., 350., 253., 262., 283., 205.,\n",
              "       147., 223., 258., 144., 294., 323.,  61., 337., 300., 294., 381.,\n",
              "       197.,  50., 372., 393.,  71., 373., 369., 386.,  63., 104., 188.,\n",
              "        52.,  51.,  37., 117., 359., 182., 102., 324., 215.,  18.,  26.,\n",
              "         7., 227.,  55., 397., 278., 252., 425., 560., 324., 700., 414.,\n",
              "       328., 360., 695., 469., 546., 572., 378., 423., 325., 428., 496.,\n",
              "       437., 500., 438., 499., 579., 324., 575., 422., 604., 671., 416.,\n",
              "       462., 499., 362., 411., 632., 670., 538., 574., 676., 626., 603.,\n",
              "       684., 595., 639., 471., 305., 397., 411., 358., 432., 693., 455.,\n",
              "       514., 767., 745., 851., 766., 780., 600., 663., 773., 836., 777.,\n",
              "       677., 642., 717., 662., 863., 773., 829., 824., 609., 687., 895.,\n",
              "       847., 711., 624., 678., 771., 750., 739., 747., 682., 771., 693.,\n",
              "       706., 765., 778., 708., 852., 768., 610., 817., 643., 610., 729.,\n",
              "       855., 742., 614., 688., 729., 683., 702.])"
            ]
          },
          "metadata": {
            "tags": []
          },
          "execution_count": 59
        }
      ]
    },
    {
      "cell_type": "code",
      "metadata": {
        "id": "KgdyVcaL8JqI",
        "colab_type": "code",
        "colab": {
          "base_uri": "https://localhost:8080/",
          "height": 270
        },
        "outputId": "dec38558-e362-4862-be7b-e4f6207181ae"
      },
      "source": [
        "data[:,1] ## this is all the y axis data"
      ],
      "execution_count": 60,
      "outputs": [
        {
          "output_type": "execute_result",
          "data": {
            "text/plain": [
              "array([368.,  32., 224., 387.,  31., 361., 388., 193.,  70., 386.,  35.,\n",
              "       323.,  32., 279.,  16., 289., 100., 372., 244.,  63., 287.,  27.,\n",
              "       318.,  94., 310., 314., 193., 334., 238.,  99., 192., 311.,  48.,\n",
              "       312., 299., 279.,  87., 293.,   4., 305., 124., 339., 204., 185.,\n",
              "        50.,  11., 176., 357.,  79., 302., 441., 619., 408., 363., 521.,\n",
              "       618., 570., 670., 618., 459., 389., 657., 403., 424., 547., 346.,\n",
              "       370., 456., 570., 563., 357., 468., 416., 388., 531., 562., 486.,\n",
              "       541., 482., 582., 367., 484., 524., 301., 467., 597., 440., 343.,\n",
              "       329., 508., 538., 398., 480., 392., 348., 674., 383., 378., 588.,\n",
              "       431., 827., 659., 852., 891., 897., 717., 608., 735., 814., 813.,\n",
              "       734., 768., 638., 756., 879., 841., 894., 641., 758., 803., 869.,\n",
              "       756., 686., 852., 670., 695., 696., 800., 647., 676., 600., 798.,\n",
              "       900., 879., 655., 645., 803., 704., 752., 785., 821., 735., 695.,\n",
              "       801., 887., 608., 670., 655., 606., 664.])"
            ]
          },
          "metadata": {
            "tags": []
          },
          "execution_count": 60
        }
      ]
    },
    {
      "cell_type": "code",
      "metadata": {
        "id": "nKauxu8z8W5d",
        "colab_type": "code",
        "colab": {
          "base_uri": "https://localhost:8080/",
          "height": 283
        },
        "outputId": "a6235546-29bf-402e-f1d5-3d10b763fa0d"
      },
      "source": [
        "plt.scatter(data[:,0],data[:,1],s=200)"
      ],
      "execution_count": 61,
      "outputs": [
        {
          "output_type": "execute_result",
          "data": {
            "text/plain": [
              "<matplotlib.collections.PathCollection at 0x7ff760e38ac8>"
            ]
          },
          "metadata": {
            "tags": []
          },
          "execution_count": 61
        },
        {
          "output_type": "display_data",
          "data": {
            "image/png": "[encoded data removed]",
            "text/plain": [
              "<Figure size 432x288 with 1 Axes>"
            ]
          },
          "metadata": {
            "tags": [],
            "needs_background": "light"
          }
        }
      ]
    },
    {
      "cell_type": "code",
      "metadata": {
        "id": "p7uTAVjf8nBd",
        "colab_type": "code",
        "colab": {}
      },
      "source": [
        "## adding some kind of label to the data\n",
        "## so we can name them\n",
        "label1 = np.array([0 for i in range(50)])\n",
        "label2 = np.array([1 for i in range(50)])\n",
        "label3 = np.array([2 for i in range(50)])"
      ],
      "execution_count": 62,
      "outputs": []
    },
    {
      "cell_type": "code",
      "metadata": {
        "id": "pyj-0MDZ9Owg",
        "colab_type": "code",
        "colab": {}
      },
      "source": [
        "label = np.append(np.append(label1,label2,axis=0),label3,axis=0)"
      ],
      "execution_count": 63,
      "outputs": []
    },
    {
      "cell_type": "code",
      "metadata": {
        "id": "u4p5Bs_N9U1i",
        "colab_type": "code",
        "colab": {
          "base_uri": "https://localhost:8080/",
          "height": 144
        },
        "outputId": "27c6bb2e-863c-411b-a48c-2b61bd5aac7e"
      },
      "source": [
        "label"
      ],
      "execution_count": 64,
      "outputs": [
        {
          "output_type": "execute_result",
          "data": {
            "text/plain": [
              "array([0, 0, 0, 0, 0, 0, 0, 0, 0, 0, 0, 0, 0, 0, 0, 0, 0, 0, 0, 0, 0, 0,\n",
              "       0, 0, 0, 0, 0, 0, 0, 0, 0, 0, 0, 0, 0, 0, 0, 0, 0, 0, 0, 0, 0, 0,\n",
              "       0, 0, 0, 0, 0, 0, 1, 1, 1, 1, 1, 1, 1, 1, 1, 1, 1, 1, 1, 1, 1, 1,\n",
              "       1, 1, 1, 1, 1, 1, 1, 1, 1, 1, 1, 1, 1, 1, 1, 1, 1, 1, 1, 1, 1, 1,\n",
              "       1, 1, 1, 1, 1, 1, 1, 1, 1, 1, 1, 1, 2, 2, 2, 2, 2, 2, 2, 2, 2, 2,\n",
              "       2, 2, 2, 2, 2, 2, 2, 2, 2, 2, 2, 2, 2, 2, 2, 2, 2, 2, 2, 2, 2, 2,\n",
              "       2, 2, 2, 2, 2, 2, 2, 2, 2, 2, 2, 2, 2, 2, 2, 2, 2, 2])"
            ]
          },
          "metadata": {
            "tags": []
          },
          "execution_count": 64
        }
      ]
    },
    {
      "cell_type": "code",
      "metadata": {
        "id": "d90OVxjM9Ydg",
        "colab_type": "code",
        "colab": {}
      },
      "source": [
        "##create the data frame to work efficiently with the data\n",
        "df = pd.DataFrame({'data_x':data[:,0],'data_y':data[:,1],'labels':label})"
      ],
      "execution_count": 65,
      "outputs": []
    },
    {
      "cell_type": "code",
      "metadata": {
        "id": "zEr7UYZr-1pQ",
        "colab_type": "code",
        "colab": {
          "base_uri": "https://localhost:8080/",
          "height": 206
        },
        "outputId": "5a8e5b29-2414-4b69-ddf5-c5f8c2564bd2"
      },
      "source": [
        "df.head()"
      ],
      "execution_count": 66,
      "outputs": [
        {
          "output_type": "execute_result",
          "data": {
            "text/html": [
              "<div>\n",
              "<style scoped>\n",
              "    .dataframe tbody tr th:only-of-type {\n",
              "        vertical-align: middle;\n",
              "    }\n",
              "\n",
              "    .dataframe tbody tr th {\n",
              "        vertical-align: top;\n",
              "    }\n",
              "\n",
              "    .dataframe thead th {\n",
              "        text-align: right;\n",
              "    }\n",
              "</style>\n",
              "<table border=\"1\" class=\"dataframe\">\n",
              "  <thead>\n",
              "    <tr style=\"text-align: right;\">\n",
              "      <th></th>\n",
              "      <th>data_x</th>\n",
              "      <th>data_y</th>\n",
              "      <th>labels</th>\n",
              "    </tr>\n",
              "  </thead>\n",
              "  <tbody>\n",
              "    <tr>\n",
              "      <th>0</th>\n",
              "      <td>310.0</td>\n",
              "      <td>368.0</td>\n",
              "      <td>0</td>\n",
              "    </tr>\n",
              "    <tr>\n",
              "      <th>1</th>\n",
              "      <td>247.0</td>\n",
              "      <td>32.0</td>\n",
              "      <td>0</td>\n",
              "    </tr>\n",
              "    <tr>\n",
              "      <th>2</th>\n",
              "      <td>207.0</td>\n",
              "      <td>224.0</td>\n",
              "      <td>0</td>\n",
              "    </tr>\n",
              "    <tr>\n",
              "      <th>3</th>\n",
              "      <td>393.0</td>\n",
              "      <td>387.0</td>\n",
              "      <td>0</td>\n",
              "    </tr>\n",
              "    <tr>\n",
              "      <th>4</th>\n",
              "      <td>371.0</td>\n",
              "      <td>31.0</td>\n",
              "      <td>0</td>\n",
              "    </tr>\n",
              "  </tbody>\n",
              "</table>\n",
              "</div>"
            ],
            "text/plain": [
              "   data_x  data_y  labels\n",
              "0   310.0   368.0       0\n",
              "1   247.0    32.0       0\n",
              "2   207.0   224.0       0\n",
              "3   393.0   387.0       0\n",
              "4   371.0    31.0       0"
            ]
          },
          "metadata": {
            "tags": []
          },
          "execution_count": 66
        }
      ]
    },
    {
      "cell_type": "code",
      "metadata": {
        "id": "KWPpUsV_-6xx",
        "colab_type": "code",
        "colab": {
          "base_uri": "https://localhost:8080/",
          "height": 283
        },
        "outputId": "b7b464b9-2e7e-4646-8a49-3a891137efae"
      },
      "source": [
        "color = ['green','blue','purple']\n",
        "plt.scatter(df['data_x'],df['data_y'],c=df['labels'],s=200)"
      ],
      "execution_count": 67,
      "outputs": [
        {
          "output_type": "execute_result",
          "data": {
            "text/plain": [
              "<matplotlib.collections.PathCollection at 0x7ff760e1f080>"
            ]
          },
          "metadata": {
            "tags": []
          },
          "execution_count": 67
        },
        {
          "output_type": "display_data",
          "data": {
            "image/png": "[encoded data removed]",
            "text/plain": [
              "<Figure size 432x288 with 1 Axes>"
            ]
          },
          "metadata": {
            "tags": [],
            "needs_background": "light"
          }
        }
      ]
    },
    {
      "cell_type": "code",
      "metadata": {
        "id": "NDj-1nuD_Nyy",
        "colab_type": "code",
        "colab": {}
      },
      "source": [
        "kmeans_model = KMeans(n_clusters=3,max_iter=10000).fit(data)"
      ],
      "execution_count": 68,
      "outputs": []
    },
    {
      "cell_type": "code",
      "metadata": {
        "id": "_ckVuJX3_dnU",
        "colab_type": "code",
        "colab": {
          "base_uri": "https://localhost:8080/",
          "height": 144
        },
        "outputId": "e33f16ad-6e29-4e3f-aa8e-7d62dfafb998"
      },
      "source": [
        "## see the predicted label\n",
        "kmeans_model.labels_"
      ],
      "execution_count": 69,
      "outputs": [
        {
          "output_type": "execute_result",
          "data": {
            "text/plain": [
              "array([2, 1, 1, 2, 1, 1, 2, 1, 1, 2, 1, 1, 1, 1, 1, 1, 1, 1, 1, 1, 1, 1,\n",
              "       1, 1, 2, 2, 1, 2, 1, 1, 1, 1, 1, 1, 1, 1, 1, 2, 1, 1, 1, 1, 1, 1,\n",
              "       1, 1, 1, 2, 1, 1, 2, 2, 2, 2, 2, 2, 2, 0, 2, 2, 2, 2, 2, 2, 2, 2,\n",
              "       2, 2, 2, 2, 2, 2, 2, 2, 2, 0, 2, 2, 2, 2, 2, 2, 2, 2, 2, 0, 2, 2,\n",
              "       2, 2, 2, 2, 2, 2, 2, 2, 2, 2, 2, 2, 0, 0, 0, 0, 0, 0, 0, 0, 0, 0,\n",
              "       0, 0, 0, 0, 0, 0, 0, 0, 0, 0, 0, 0, 0, 0, 0, 0, 0, 0, 0, 0, 0, 0,\n",
              "       0, 0, 0, 0, 0, 0, 0, 0, 0, 0, 0, 0, 0, 0, 0, 0, 0, 0], dtype=int32)"
            ]
          },
          "metadata": {
            "tags": []
          },
          "execution_count": 69
        }
      ]
    },
    {
      "cell_type": "code",
      "metadata": {
        "id": "sHQIR3rY_mgD",
        "colab_type": "code",
        "colab": {}
      },
      "source": [
        "## because we did the kmeans clustering there must be three centroids\n",
        "## three centroid of the three cluster\n",
        "centroids = kmeans_model.cluster_centers_"
      ],
      "execution_count": 70,
      "outputs": []
    },
    {
      "cell_type": "code",
      "metadata": {
        "id": "_Sj1FwHx_0ok",
        "colab_type": "code",
        "colab": {
          "base_uri": "https://localhost:8080/",
          "height": 71
        },
        "outputId": "f4e10ecc-bd0c-4d4c-8b7f-4cdd1017422b"
      },
      "source": [
        "centroids"
      ],
      "execution_count": 71,
      "outputs": [
        {
          "output_type": "execute_result",
          "data": {
            "text/plain": [
              "array([[731.88679245, 742.71698113],\n",
              "       [187.82926829, 176.26829268],\n",
              "       [466.125     , 448.26785714]])"
            ]
          },
          "metadata": {
            "tags": []
          },
          "execution_count": 71
        }
      ]
    },
    {
      "cell_type": "code",
      "metadata": {
        "id": "AHeE96_0_1ha",
        "colab_type": "code",
        "colab": {
          "base_uri": "https://localhost:8080/",
          "height": 283
        },
        "outputId": "0b83a4af-a656-43d9-f93e-b5ad5e75b63c"
      },
      "source": [
        "plt.scatter(centroids[:,0],centroids[:,1])"
      ],
      "execution_count": 72,
      "outputs": [
        {
          "output_type": "execute_result",
          "data": {
            "text/plain": [
              "<matplotlib.collections.PathCollection at 0x7ff760df3208>"
            ]
          },
          "metadata": {
            "tags": []
          },
          "execution_count": 72
        },
        {
          "output_type": "display_data",
          "data": {
            "image/png": "[encoded data removed]",
            "text/plain": [
              "<Figure size 432x288 with 1 Axes>"
            ]
          },
          "metadata": {
            "tags": [],
            "needs_background": "light"
          }
        }
      ]
    },
    {
      "cell_type": "code",
      "metadata": {
        "id": "HyIPHhIFAiXv",
        "colab_type": "code",
        "colab": {}
      },
      "source": [
        "### remember these label that are generated by the kmeasn are different than the label you had assigned"
      ],
      "execution_count": 73,
      "outputs": []
    },
    {
      "cell_type": "code",
      "metadata": {
        "id": "clqRbUg_BIKZ",
        "colab_type": "code",
        "colab": {
          "base_uri": "https://localhost:8080/",
          "height": 108
        },
        "outputId": "ee02dbfa-281b-45eb-b71e-d2ab9068b043"
      },
      "source": [
        "#### now to evaluate a cluster you do not need\n",
        "## to adjust the cluster generated label to your label\n",
        "## we habe nothing to do with the label value\n",
        "## we just worry are their in the same cluster\n",
        "print(\"Homogenity score\",metrics.homogeneity_score(label,kmeans_model.labels_))\n",
        "print(\"Completeness score\",metrics.completeness_score(label,kmeans_model.labels_))\n",
        "print(\"V-measure score\",metrics.v_measure_score(label,kmeans_model.labels_))\n",
        "print(\"Adjusted rand score\",metrics.adjusted_rand_score(label,kmeans_model.labels_))\n",
        "print(\"Siluate score\",metrics.silhouette_score(data,kmeans_model.labels_))\n"
      ],
      "execution_count": 76,
      "outputs": [
        {
          "output_type": "stream",
          "text": [
            "Homogenity score 0.7802305031588119\n",
            "Completeness score 0.786425677734293\n",
            "V-measure score 0.7833158413683918\n",
            "Adjusted rand score 0.781408617837941\n",
            "Siluate score 0.5020913844967619\n"
          ],
          "name": "stdout"
        }
      ]
    },
    {
      "cell_type": "code",
      "metadata": {
        "id": "qpgpOoLAC3Ip",
        "colab_type": "code",
        "colab": {}
      },
      "source": [
        "### so you can see that the result does not on the label you assigned and the kmeans does\n",
        "### and the siluate score does not nees the original label"
      ],
      "execution_count": 77,
      "outputs": []
    },
    {
      "cell_type": "code",
      "metadata": {
        "id": "xDtzM5HrDv4U",
        "colab_type": "code",
        "colab": {
          "base_uri": "https://localhost:8080/",
          "height": 283
        },
        "outputId": "fce4a5db-216c-4df9-9983-cba593c8372d"
      },
      "source": [
        "\n",
        "plt.scatter(centroids[:,0],centroids[:,1],s=500)\n",
        "plt.scatter(df['data_x'],df['data_y'],c=df['labels'])"
      ],
      "execution_count": 81,
      "outputs": [
        {
          "output_type": "execute_result",
          "data": {
            "text/plain": [
              "<matplotlib.collections.PathCollection at 0x7ff760ec0cc0>"
            ]
          },
          "metadata": {
            "tags": []
          },
          "execution_count": 81
        },
        {
          "output_type": "display_data",
          "data": {
            "image/png": "[encoded data removed]",
            "text/plain": [
              "<Figure size 432x288 with 1 Axes>"
            ]
          },
          "metadata": {
            "tags": [],
            "needs_background": "light"
          }
        }
      ]
    },
    {
      "cell_type": "code",
      "metadata": {
        "id": "fMvd7gAqD2fi",
        "colab_type": "code",
        "colab": {}
      },
      "source": [
        "## lets done an inference\n",
        "test_data = np.array([[200,300],[234,345],[700,900]])"
      ],
      "execution_count": 91,
      "outputs": []
    },
    {
      "cell_type": "code",
      "metadata": {
        "id": "k5ox_dLEERl1",
        "colab_type": "code",
        "colab": {
          "base_uri": "https://localhost:8080/",
          "height": 35
        },
        "outputId": "216dd777-1664-4b41-ebbb-443c84f9df0f"
      },
      "source": [
        "kmeans_model.predict(test_data)"
      ],
      "execution_count": 92,
      "outputs": [
        {
          "output_type": "execute_result",
          "data": {
            "text/plain": [
              "array([1, 1, 0], dtype=int32)"
            ]
          },
          "metadata": {
            "tags": []
          },
          "execution_count": 92
        }
      ]
    },
    {
      "cell_type": "code",
      "metadata": {
        "id": "O8uGxxcCEZk1",
        "colab_type": "code",
        "colab": {
          "base_uri": "https://localhost:8080/",
          "height": 283
        },
        "outputId": "fdad3812-1fe7-482d-dc6d-95dd7f573e50"
      },
      "source": [
        "plt.scatter(test_data[:,0],test_data[:,1],s=900)\n",
        "plt.scatter(df['data_x'],df['data_y'],c=df['labels'])"
      ],
      "execution_count": 93,
      "outputs": [
        {
          "output_type": "execute_result",
          "data": {
            "text/plain": [
              "<matplotlib.collections.PathCollection at 0x7ff75e225940>"
            ]
          },
          "metadata": {
            "tags": []
          },
          "execution_count": 93
        },
        {
          "output_type": "display_data",
          "data": {
            "image/png": "[encoded data removed]",
            "text/plain": [
              "<Figure size 432x288 with 1 Axes>"
            ]
          },
          "metadata": {
            "tags": [],
            "needs_background": "light"
          }
        }
      ]
    },
    {
      "cell_type": "code",
      "metadata": {
        "id": "f6WN-Im6EffQ",
        "colab_type": "code",
        "colab": {}
      },
      "source": [
        "## exploring the iris data set\n",
        "import numpy as np\n",
        "import pandas as pd\n",
        "import matplotlib.pyplot as plt\n",
        "import sklearn\n",
        "from sklearn.datasets import load_iris"
      ],
      "execution_count": 94,
      "outputs": []
    },
    {
      "cell_type": "code",
      "metadata": {
        "id": "q2abhzSZFcWx",
        "colab_type": "code",
        "colab": {}
      },
      "source": [
        "df = load_iris()"
      ],
      "execution_count": 95,
      "outputs": []
    },
    {
      "cell_type": "code",
      "metadata": {
        "id": "NQJQHnQ0FeFV",
        "colab_type": "code",
        "colab": {
          "base_uri": "https://localhost:8080/",
          "height": 1000
        },
        "outputId": "3017694d-f93f-409f-9824-260913755799"
      },
      "source": [
        "print(df.data)\n",
        "print(df.target_names)\n",
        "print(df.target)\n"
      ],
      "execution_count": 97,
      "outputs": [
        {
          "output_type": "stream",
          "text": [
            "[[5.1 3.5 1.4 0.2]\n",
            " [4.9 3.  1.4 0.2]\n",
            " [4.7 3.2 1.3 0.2]\n",
            " [4.6 3.1 1.5 0.2]\n",
            " [5.  3.6 1.4 0.2]\n",
            " [5.4 3.9 1.7 0.4]\n",
            " [4.6 3.4 1.4 0.3]\n",
            " [5.  3.4 1.5 0.2]\n",
            " [4.4 2.9 1.4 0.2]\n",
            " [4.9 3.1 1.5 0.1]\n",
            " [5.4 3.7 1.5 0.2]\n",
            " [4.8 3.4 1.6 0.2]\n",
            " [4.8 3.  1.4 0.1]\n",
            " [4.3 3.  1.1 0.1]\n",
            " [5.8 4.  1.2 0.2]\n",
            " [5.7 4.4 1.5 0.4]\n",
            " [5.4 3.9 1.3 0.4]\n",
            " [5.1 3.5 1.4 0.3]\n",
            " [5.7 3.8 1.7 0.3]\n",
            " [5.1 3.8 1.5 0.3]\n",
            " [5.4 3.4 1.7 0.2]\n",
            " [5.1 3.7 1.5 0.4]\n",
            " [4.6 3.6 1.  0.2]\n",
            " [5.1 3.3 1.7 0.5]\n",
            " [4.8 3.4 1.9 0.2]\n",
            " [5.  3.  1.6 0.2]\n",
            " [5.  3.4 1.6 0.4]\n",
            " [5.2 3.5 1.5 0.2]\n",
            " [5.2 3.4 1.4 0.2]\n",
            " [4.7 3.2 1.6 0.2]\n",
            " [4.8 3.1 1.6 0.2]\n",
            " [5.4 3.4 1.5 0.4]\n",
            " [5.2 4.1 1.5 0.1]\n",
            " [5.5 4.2 1.4 0.2]\n",
            " [4.9 3.1 1.5 0.2]\n",
            " [5.  3.2 1.2 0.2]\n",
            " [5.5 3.5 1.3 0.2]\n",
            " [4.9 3.6 1.4 0.1]\n",
            " [4.4 3.  1.3 0.2]\n",
            " [5.1 3.4 1.5 0.2]\n",
            " [5.  3.5 1.3 0.3]\n",
            " [4.5 2.3 1.3 0.3]\n",
            " [4.4 3.2 1.3 0.2]\n",
            " [5.  3.5 1.6 0.6]\n",
            " [5.1 3.8 1.9 0.4]\n",
            " [4.8 3.  1.4 0.3]\n",
            " [5.1 3.8 1.6 0.2]\n",
            " [4.6 3.2 1.4 0.2]\n",
            " [5.3 3.7 1.5 0.2]\n",
            " [5.  3.3 1.4 0.2]\n",
            " [7.  3.2 4.7 1.4]\n",
            " [6.4 3.2 4.5 1.5]\n",
            " [6.9 3.1 4.9 1.5]\n",
            " [5.5 2.3 4.  1.3]\n",
            " [6.5 2.8 4.6 1.5]\n",
            " [5.7 2.8 4.5 1.3]\n",
            " [6.3 3.3 4.7 1.6]\n",
            " [4.9 2.4 3.3 1. ]\n",
            " [6.6 2.9 4.6 1.3]\n",
            " [5.2 2.7 3.9 1.4]\n",
            " [5.  2.  3.5 1. ]\n",
            " [5.9 3.  4.2 1.5]\n",
            " [6.  2.2 4.  1. ]\n",
            " [6.1 2.9 4.7 1.4]\n",
            " [5.6 2.9 3.6 1.3]\n",
            " [6.7 3.1 4.4 1.4]\n",
            " [5.6 3.  4.5 1.5]\n",
            " [5.8 2.7 4.1 1. ]\n",
            " [6.2 2.2 4.5 1.5]\n",
            " [5.6 2.5 3.9 1.1]\n",
            " [5.9 3.2 4.8 1.8]\n",
            " [6.1 2.8 4.  1.3]\n",
            " [6.3 2.5 4.9 1.5]\n",
            " [6.1 2.8 4.7 1.2]\n",
            " [6.4 2.9 4.3 1.3]\n",
            " [6.6 3.  4.4 1.4]\n",
            " [6.8 2.8 4.8 1.4]\n",
            " [6.7 3.  5.  1.7]\n",
            " [6.  2.9 4.5 1.5]\n",
            " [5.7 2.6 3.5 1. ]\n",
            " [5.5 2.4 3.8 1.1]\n",
            " [5.5 2.4 3.7 1. ]\n",
            " [5.8 2.7 3.9 1.2]\n",
            " [6.  2.7 5.1 1.6]\n",
            " [5.4 3.  4.5 1.5]\n",
            " [6.  3.4 4.5 1.6]\n",
            " [6.7 3.1 4.7 1.5]\n",
            " [6.3 2.3 4.4 1.3]\n",
            " [5.6 3.  4.1 1.3]\n",
            " [5.5 2.5 4.  1.3]\n",
            " [5.5 2.6 4.4 1.2]\n",
            " [6.1 3.  4.6 1.4]\n",
            " [5.8 2.6 4.  1.2]\n",
            " [5.  2.3 3.3 1. ]\n",
            " [5.6 2.7 4.2 1.3]\n",
            " [5.7 3.  4.2 1.2]\n",
            " [5.7 2.9 4.2 1.3]\n",
            " [6.2 2.9 4.3 1.3]\n",
            " [5.1 2.5 3.  1.1]\n",
            " [5.7 2.8 4.1 1.3]\n",
            " [6.3 3.3 6.  2.5]\n",
            " [5.8 2.7 5.1 1.9]\n",
            " [7.1 3.  5.9 2.1]\n",
            " [6.3 2.9 5.6 1.8]\n",
            " [6.5 3.  5.8 2.2]\n",
            " [7.6 3.  6.6 2.1]\n",
            " [4.9 2.5 4.5 1.7]\n",
            " [7.3 2.9 6.3 1.8]\n",
            " [6.7 2.5 5.8 1.8]\n",
            " [7.2 3.6 6.1 2.5]\n",
            " [6.5 3.2 5.1 2. ]\n",
            " [6.4 2.7 5.3 1.9]\n",
            " [6.8 3.  5.5 2.1]\n",
            " [5.7 2.5 5.  2. ]\n",
            " [5.8 2.8 5.1 2.4]\n",
            " [6.4 3.2 5.3 2.3]\n",
            " [6.5 3.  5.5 1.8]\n",
            " [7.7 3.8 6.7 2.2]\n",
            " [7.7 2.6 6.9 2.3]\n",
            " [6.  2.2 5.  1.5]\n",
            " [6.9 3.2 5.7 2.3]\n",
            " [5.6 2.8 4.9 2. ]\n",
            " [7.7 2.8 6.7 2. ]\n",
            " [6.3 2.7 4.9 1.8]\n",
            " [6.7 3.3 5.7 2.1]\n",
            " [7.2 3.2 6.  1.8]\n",
            " [6.2 2.8 4.8 1.8]\n",
            " [6.1 3.  4.9 1.8]\n",
            " [6.4 2.8 5.6 2.1]\n",
            " [7.2 3.  5.8 1.6]\n",
            " [7.4 2.8 6.1 1.9]\n",
            " [7.9 3.8 6.4 2. ]\n",
            " [6.4 2.8 5.6 2.2]\n",
            " [6.3 2.8 5.1 1.5]\n",
            " [6.1 2.6 5.6 1.4]\n",
            " [7.7 3.  6.1 2.3]\n",
            " [6.3 3.4 5.6 2.4]\n",
            " [6.4 3.1 5.5 1.8]\n",
            " [6.  3.  4.8 1.8]\n",
            " [6.9 3.1 5.4 2.1]\n",
            " [6.7 3.1 5.6 2.4]\n",
            " [6.9 3.1 5.1 2.3]\n",
            " [5.8 2.7 5.1 1.9]\n",
            " [6.8 3.2 5.9 2.3]\n",
            " [6.7 3.3 5.7 2.5]\n",
            " [6.7 3.  5.2 2.3]\n",
            " [6.3 2.5 5.  1.9]\n",
            " [6.5 3.  5.2 2. ]\n",
            " [6.2 3.4 5.4 2.3]\n",
            " [5.9 3.  5.1 1.8]]\n",
            "['setosa' 'versicolor' 'virginica']\n",
            "[0 0 0 0 0 0 0 0 0 0 0 0 0 0 0 0 0 0 0 0 0 0 0 0 0 0 0 0 0 0 0 0 0 0 0 0 0\n",
            " 0 0 0 0 0 0 0 0 0 0 0 0 0 1 1 1 1 1 1 1 1 1 1 1 1 1 1 1 1 1 1 1 1 1 1 1 1\n",
            " 1 1 1 1 1 1 1 1 1 1 1 1 1 1 1 1 1 1 1 1 1 1 1 1 1 1 2 2 2 2 2 2 2 2 2 2 2\n",
            " 2 2 2 2 2 2 2 2 2 2 2 2 2 2 2 2 2 2 2 2 2 2 2 2 2 2 2 2 2 2 2 2 2 2 2 2 2\n",
            " 2 2]\n"
          ],
          "name": "stdout"
        }
      ]
    },
    {
      "cell_type": "code",
      "metadata": {
        "id": "zR4lYWfWFe5W",
        "colab_type": "code",
        "colab": {}
      },
      "source": [
        "## making a pandas dataframe from the numpy\n",
        "iris = pd.DataFrame(data=df.data,columns=df.feature_names)\n",
        "iris['target'] = np.array(df.target)"
      ],
      "execution_count": 103,
      "outputs": []
    },
    {
      "cell_type": "code",
      "metadata": {
        "id": "ANo5cpK6IO9Y",
        "colab_type": "code",
        "colab": {
          "base_uri": "https://localhost:8080/",
          "height": 424
        },
        "outputId": "643b37fb-ad08-48bc-a774-95f1754967c7"
      },
      "source": [
        "iris"
      ],
      "execution_count": 104,
      "outputs": [
        {
          "output_type": "execute_result",
          "data": {
            "text/html": [
              "<div>\n",
              "<style scoped>\n",
              "    .dataframe tbody tr th:only-of-type {\n",
              "        vertical-align: middle;\n",
              "    }\n",
              "\n",
              "    .dataframe tbody tr th {\n",
              "        vertical-align: top;\n",
              "    }\n",
              "\n",
              "    .dataframe thead th {\n",
              "        text-align: right;\n",
              "    }\n",
              "</style>\n",
              "<table border=\"1\" class=\"dataframe\">\n",
              "  <thead>\n",
              "    <tr style=\"text-align: right;\">\n",
              "      <th></th>\n",
              "      <th>sepal length (cm)</th>\n",
              "      <th>sepal width (cm)</th>\n",
              "      <th>petal length (cm)</th>\n",
              "      <th>petal width (cm)</th>\n",
              "      <th>target</th>\n",
              "    </tr>\n",
              "  </thead>\n",
              "  <tbody>\n",
              "    <tr>\n",
              "      <th>0</th>\n",
              "      <td>5.1</td>\n",
              "      <td>3.5</td>\n",
              "      <td>1.4</td>\n",
              "      <td>0.2</td>\n",
              "      <td>0</td>\n",
              "    </tr>\n",
              "    <tr>\n",
              "      <th>1</th>\n",
              "      <td>4.9</td>\n",
              "      <td>3.0</td>\n",
              "      <td>1.4</td>\n",
              "      <td>0.2</td>\n",
              "      <td>0</td>\n",
              "    </tr>\n",
              "    <tr>\n",
              "      <th>2</th>\n",
              "      <td>4.7</td>\n",
              "      <td>3.2</td>\n",
              "      <td>1.3</td>\n",
              "      <td>0.2</td>\n",
              "      <td>0</td>\n",
              "    </tr>\n",
              "    <tr>\n",
              "      <th>3</th>\n",
              "      <td>4.6</td>\n",
              "      <td>3.1</td>\n",
              "      <td>1.5</td>\n",
              "      <td>0.2</td>\n",
              "      <td>0</td>\n",
              "    </tr>\n",
              "    <tr>\n",
              "      <th>4</th>\n",
              "      <td>5.0</td>\n",
              "      <td>3.6</td>\n",
              "      <td>1.4</td>\n",
              "      <td>0.2</td>\n",
              "      <td>0</td>\n",
              "    </tr>\n",
              "    <tr>\n",
              "      <th>...</th>\n",
              "      <td>...</td>\n",
              "      <td>...</td>\n",
              "      <td>...</td>\n",
              "      <td>...</td>\n",
              "      <td>...</td>\n",
              "    </tr>\n",
              "    <tr>\n",
              "      <th>145</th>\n",
              "      <td>6.7</td>\n",
              "      <td>3.0</td>\n",
              "      <td>5.2</td>\n",
              "      <td>2.3</td>\n",
              "      <td>2</td>\n",
              "    </tr>\n",
              "    <tr>\n",
              "      <th>146</th>\n",
              "      <td>6.3</td>\n",
              "      <td>2.5</td>\n",
              "      <td>5.0</td>\n",
              "      <td>1.9</td>\n",
              "      <td>2</td>\n",
              "    </tr>\n",
              "    <tr>\n",
              "      <th>147</th>\n",
              "      <td>6.5</td>\n",
              "      <td>3.0</td>\n",
              "      <td>5.2</td>\n",
              "      <td>2.0</td>\n",
              "      <td>2</td>\n",
              "    </tr>\n",
              "    <tr>\n",
              "      <th>148</th>\n",
              "      <td>6.2</td>\n",
              "      <td>3.4</td>\n",
              "      <td>5.4</td>\n",
              "      <td>2.3</td>\n",
              "      <td>2</td>\n",
              "    </tr>\n",
              "    <tr>\n",
              "      <th>149</th>\n",
              "      <td>5.9</td>\n",
              "      <td>3.0</td>\n",
              "      <td>5.1</td>\n",
              "      <td>1.8</td>\n",
              "      <td>2</td>\n",
              "    </tr>\n",
              "  </tbody>\n",
              "</table>\n",
              "<p>150 rows × 5 columns</p>\n",
              "</div>"
            ],
            "text/plain": [
              "     sepal length (cm)  sepal width (cm)  ...  petal width (cm)  target\n",
              "0                  5.1               3.5  ...               0.2       0\n",
              "1                  4.9               3.0  ...               0.2       0\n",
              "2                  4.7               3.2  ...               0.2       0\n",
              "3                  4.6               3.1  ...               0.2       0\n",
              "4                  5.0               3.6  ...               0.2       0\n",
              "..                 ...               ...  ...               ...     ...\n",
              "145                6.7               3.0  ...               2.3       2\n",
              "146                6.3               2.5  ...               1.9       2\n",
              "147                6.5               3.0  ...               2.0       2\n",
              "148                6.2               3.4  ...               2.3       2\n",
              "149                5.9               3.0  ...               1.8       2\n",
              "\n",
              "[150 rows x 5 columns]"
            ]
          },
          "metadata": {
            "tags": []
          },
          "execution_count": 104
        }
      ]
    },
    {
      "cell_type": "code",
      "metadata": {
        "id": "G_adl6a_KtxE",
        "colab_type": "code",
        "colab": {
          "base_uri": "https://localhost:8080/",
          "height": 35
        },
        "outputId": "495706ee-f6b8-4dc6-e537-5ee99a6e1e91"
      },
      "source": [
        "### now we apply the clusterig algorithm  to the iris data\n",
        "iris.shape"
      ],
      "execution_count": 105,
      "outputs": [
        {
          "output_type": "execute_result",
          "data": {
            "text/plain": [
              "(150, 5)"
            ]
          },
          "metadata": {
            "tags": []
          },
          "execution_count": 105
        }
      ]
    },
    {
      "cell_type": "code",
      "metadata": {
        "id": "YYIUcbJaLoOa",
        "colab_type": "code",
        "colab": {
          "base_uri": "https://localhost:8080/",
          "height": 71
        },
        "outputId": "e8f1f761-33a1-4d45-85fb-f6ad1c25de7f"
      },
      "source": [
        "iris.columns"
      ],
      "execution_count": 106,
      "outputs": [
        {
          "output_type": "execute_result",
          "data": {
            "text/plain": [
              "Index(['sepal length (cm)', 'sepal width (cm)', 'petal length (cm)',\n",
              "       'petal width (cm)', 'target'],\n",
              "      dtype='object')"
            ]
          },
          "metadata": {
            "tags": []
          },
          "execution_count": 106
        }
      ]
    },
    {
      "cell_type": "code",
      "metadata": {
        "id": "z0-cymy-LUkA",
        "colab_type": "code",
        "colab": {
          "base_uri": "https://localhost:8080/",
          "height": 300
        },
        "outputId": "f0f9cce1-ca7a-4d96-ceb7-c1e1edb2f171"
      },
      "source": [
        "### plotting the sepal length and sepal width of the dataset of different species\n",
        "plt.scatter(iris['sepal length (cm)'],iris['sepal width (cm)'],s=200)\n",
        "plt.xlabel('sepal length')\n",
        "plt.ylabel('sepal width')"
      ],
      "execution_count": 110,
      "outputs": [
        {
          "output_type": "execute_result",
          "data": {
            "text/plain": [
              "Text(0, 0.5, 'sepal width')"
            ]
          },
          "metadata": {
            "tags": []
          },
          "execution_count": 110
        },
        {
          "output_type": "display_data",
          "data": {
            "image/png": "[encoded data removed]",
            "text/plain": [
              "<Figure size 432x288 with 1 Axes>"
            ]
          },
          "metadata": {
            "tags": [],
            "needs_background": "light"
          }
        }
      ]
    },
    {
      "cell_type": "code",
      "metadata": {
        "id": "E2eBClR5L651",
        "colab_type": "code",
        "colab": {
          "base_uri": "https://localhost:8080/",
          "height": 297
        },
        "outputId": "1f0d1a26-348f-41b6-9bfd-e807c1e9eabb"
      },
      "source": [
        "### plotting the sepal length and sepal width of the dataset of different species\n",
        "plt.scatter(iris['petal length (cm)'],iris['petal width (cm)'],s=200)\n",
        "plt.xlabel('petal length')\n",
        "plt.ylabel('petal width')"
      ],
      "execution_count": 111,
      "outputs": [
        {
          "output_type": "execute_result",
          "data": {
            "text/plain": [
              "Text(0, 0.5, 'petal width')"
            ]
          },
          "metadata": {
            "tags": []
          },
          "execution_count": 111
        },
        {
          "output_type": "display_data",
          "data": {
            "image/png": "[encoded data removed]",
            "text/plain": [
              "<Figure size 432x288 with 1 Axes>"
            ]
          },
          "metadata": {
            "tags": [],
            "needs_background": "light"
          }
        }
      ]
    },
    {
      "cell_type": "code",
      "metadata": {
        "id": "F7yPewAEMMXR",
        "colab_type": "code",
        "colab": {}
      },
      "source": [
        "## so based on the petal width there are a obvious cluster \n",
        "## there are two different cluster one with small petal width \n",
        "## and on the high petal width"
      ],
      "execution_count": 112,
      "outputs": []
    },
    {
      "cell_type": "code",
      "metadata": {
        "id": "F6wc0sdWMpwB",
        "colab_type": "code",
        "colab": {
          "base_uri": "https://localhost:8080/",
          "height": 297
        },
        "outputId": "282f0a7c-9588-4a1a-c3d6-e4bfa2a331bf"
      },
      "source": [
        "plt.scatter(iris['sepal length (cm)'],iris['petal length (cm)'])\n",
        "plt.xlabel('sepal length')\n",
        "plt.ylabel('petal length')"
      ],
      "execution_count": 114,
      "outputs": [
        {
          "output_type": "execute_result",
          "data": {
            "text/plain": [
              "Text(0, 0.5, 'petal length')"
            ]
          },
          "metadata": {
            "tags": []
          },
          "execution_count": 114
        },
        {
          "output_type": "display_data",
          "data": {
            "image/png": "[encoded data removed]",
            "text/plain": [
              "<Figure size 432x288 with 1 Axes>"
            ]
          },
          "metadata": {
            "tags": [],
            "needs_background": "light"
          }
        }
      ]
    },
    {
      "cell_type": "code",
      "metadata": {
        "id": "1ivCb8nsM0w4",
        "colab_type": "code",
        "colab": {}
      },
      "source": [
        "## there are almost three cluster inth is point of view\n",
        "## so lets use this data and apply k means clustering in this data\n",
        "iris_2D = iris[['sepal length (cm)','petal length (cm)']]"
      ],
      "execution_count": 116,
      "outputs": []
    },
    {
      "cell_type": "code",
      "metadata": {
        "id": "Bfv-F8EPM7wc",
        "colab_type": "code",
        "colab": {
          "base_uri": "https://localhost:8080/",
          "height": 206
        },
        "outputId": "69149588-dcfe-47cb-dbc2-b06c3bb46da5"
      },
      "source": [
        "iris_2D.head()"
      ],
      "execution_count": 117,
      "outputs": [
        {
          "output_type": "execute_result",
          "data": {
            "text/html": [
              "<div>\n",
              "<style scoped>\n",
              "    .dataframe tbody tr th:only-of-type {\n",
              "        vertical-align: middle;\n",
              "    }\n",
              "\n",
              "    .dataframe tbody tr th {\n",
              "        vertical-align: top;\n",
              "    }\n",
              "\n",
              "    .dataframe thead th {\n",
              "        text-align: right;\n",
              "    }\n",
              "</style>\n",
              "<table border=\"1\" class=\"dataframe\">\n",
              "  <thead>\n",
              "    <tr style=\"text-align: right;\">\n",
              "      <th></th>\n",
              "      <th>sepal length (cm)</th>\n",
              "      <th>petal length (cm)</th>\n",
              "    </tr>\n",
              "  </thead>\n",
              "  <tbody>\n",
              "    <tr>\n",
              "      <th>0</th>\n",
              "      <td>5.1</td>\n",
              "      <td>1.4</td>\n",
              "    </tr>\n",
              "    <tr>\n",
              "      <th>1</th>\n",
              "      <td>4.9</td>\n",
              "      <td>1.4</td>\n",
              "    </tr>\n",
              "    <tr>\n",
              "      <th>2</th>\n",
              "      <td>4.7</td>\n",
              "      <td>1.3</td>\n",
              "    </tr>\n",
              "    <tr>\n",
              "      <th>3</th>\n",
              "      <td>4.6</td>\n",
              "      <td>1.5</td>\n",
              "    </tr>\n",
              "    <tr>\n",
              "      <th>4</th>\n",
              "      <td>5.0</td>\n",
              "      <td>1.4</td>\n",
              "    </tr>\n",
              "  </tbody>\n",
              "</table>\n",
              "</div>"
            ],
            "text/plain": [
              "   sepal length (cm)  petal length (cm)\n",
              "0                5.1                1.4\n",
              "1                4.9                1.4\n",
              "2                4.7                1.3\n",
              "3                4.6                1.5\n",
              "4                5.0                1.4"
            ]
          },
          "metadata": {
            "tags": []
          },
          "execution_count": 117
        }
      ]
    },
    {
      "cell_type": "code",
      "metadata": {
        "id": "8a3uYAqPNWfL",
        "colab_type": "code",
        "colab": {}
      },
      "source": [
        "iris_2D = np.array(iris_2D)"
      ],
      "execution_count": 118,
      "outputs": []
    },
    {
      "cell_type": "code",
      "metadata": {
        "id": "4scJ8M9BNg3r",
        "colab_type": "code",
        "colab": {}
      },
      "source": [
        "kmeans_one = KMeans(n_clusters=3,max_iter=10000).fit(iris_2D)"
      ],
      "execution_count": 119,
      "outputs": []
    },
    {
      "cell_type": "code",
      "metadata": {
        "id": "2APZS224NsbM",
        "colab_type": "code",
        "colab": {
          "base_uri": "https://localhost:8080/",
          "height": 144
        },
        "outputId": "31d3818f-ad93-4777-d22a-5f366483b9f7"
      },
      "source": [
        "kmeans_one.labels_"
      ],
      "execution_count": 120,
      "outputs": [
        {
          "output_type": "execute_result",
          "data": {
            "text/plain": [
              "array([2, 2, 2, 2, 2, 2, 2, 2, 2, 2, 2, 2, 2, 2, 2, 2, 2, 2, 2, 2, 2, 2,\n",
              "       2, 2, 2, 2, 2, 2, 2, 2, 2, 2, 2, 2, 2, 2, 2, 2, 2, 2, 2, 2, 2, 2,\n",
              "       2, 2, 2, 2, 2, 2, 1, 0, 1, 0, 0, 0, 0, 0, 0, 0, 0, 0, 0, 0, 0, 0,\n",
              "       0, 0, 0, 0, 0, 0, 0, 0, 0, 0, 1, 1, 0, 0, 0, 0, 0, 0, 0, 0, 0, 0,\n",
              "       0, 0, 0, 0, 0, 0, 0, 0, 0, 0, 2, 0, 1, 0, 1, 1, 1, 1, 0, 1, 1, 1,\n",
              "       1, 1, 1, 0, 0, 1, 1, 1, 1, 0, 1, 0, 1, 0, 1, 1, 0, 0, 1, 1, 1, 1,\n",
              "       1, 1, 1, 1, 1, 1, 0, 1, 1, 1, 0, 1, 1, 1, 0, 1, 1, 0], dtype=int32)"
            ]
          },
          "metadata": {
            "tags": []
          },
          "execution_count": 120
        }
      ]
    },
    {
      "cell_type": "code",
      "metadata": {
        "id": "uqkBkJ8WNvus",
        "colab_type": "code",
        "colab": {}
      },
      "source": [
        "centroids = kmeans_one.cluster_centers_"
      ],
      "execution_count": 121,
      "outputs": []
    },
    {
      "cell_type": "code",
      "metadata": {
        "id": "LtKD71DNN3YF",
        "colab_type": "code",
        "colab": {
          "base_uri": "https://localhost:8080/",
          "height": 297
        },
        "outputId": "6b738df7-4347-4b81-cb5b-4b5ca387542b"
      },
      "source": [
        "plt.scatter(centroids[:,0],centroids[:,1],s=500,marker='s')\n",
        "plt.scatter(iris['sepal length (cm)'],iris['petal length (cm)'])\n",
        "plt.xlabel('sepal length')\n",
        "plt.ylabel('petal length')"
      ],
      "execution_count": 124,
      "outputs": [
        {
          "output_type": "execute_result",
          "data": {
            "text/plain": [
              "Text(0, 0.5, 'petal length')"
            ]
          },
          "metadata": {
            "tags": []
          },
          "execution_count": 124
        },
        {
          "output_type": "display_data",
          "data": {
            "image/png": "[encoded data removed]",
            "text/plain": [
              "<Figure size 432x288 with 1 Axes>"
            ]
          },
          "metadata": {
            "tags": [],
            "needs_background": "light"
          }
        }
      ]
    },
    {
      "cell_type": "code",
      "metadata": {
        "id": "PjdNkpPpN8hI",
        "colab_type": "code",
        "colab": {
          "base_uri": "https://localhost:8080/",
          "height": 108
        },
        "outputId": "cc0549c5-a613-468c-ac91-401eb1a4d4d4"
      },
      "source": [
        "print(\"Homogenity score    : \",metrics.homogeneity_score(iris.target,kmeans_one.labels_))\n",
        "print(\"Completeness score  : \",metrics.completeness_score(iris.target,kmeans_one.labels_))\n",
        "print(\"V-measure score     : \",metrics.v_measure_score(iris.target,kmeans_one.labels_))\n",
        "print(\"Adjusted rand score : \",metrics.adjusted_rand_score(iris.target,kmeans_one.labels_))\n",
        "print(\"Siluate score       : \",metrics.silhouette_score(iris,kmeans_one.labels_))"
      ],
      "execution_count": 125,
      "outputs": [
        {
          "output_type": "stream",
          "text": [
            "Homogenity score    :  0.7033177646052958\n",
            "Completeness score  :  0.7096993707802843\n",
            "V-measure score     :  0.706494157075837\n",
            "Adjusted rand score :  0.6988627672348092\n",
            "Siluate score       :  0.5388007800309613\n"
          ],
          "name": "stdout"
        }
      ]
    },
    {
      "cell_type": "code",
      "metadata": {
        "id": "3IO7H9ZIO08D",
        "colab_type": "code",
        "colab": {}
      },
      "source": [
        "## now we will do clustering using 4 features\n",
        "iris_ = iris.drop('target',axis=1)\n",
        "kmeans_one = KMeans(n_clusters=3,max_iter=10000).fit(iris_)"
      ],
      "execution_count": 130,
      "outputs": []
    },
    {
      "cell_type": "code",
      "metadata": {
        "id": "pmYSJY7dPW7s",
        "colab_type": "code",
        "colab": {}
      },
      "source": [
        "centroids = kmeans_one.cluster_centers_"
      ],
      "execution_count": 131,
      "outputs": []
    },
    {
      "cell_type": "code",
      "metadata": {
        "id": "tWH1yIIyPaH2",
        "colab_type": "code",
        "colab": {
          "base_uri": "https://localhost:8080/",
          "height": 297
        },
        "outputId": "b0c2927e-fae1-4633-8ada-5bff7e37de0f"
      },
      "source": [
        "plt.scatter(centroids[:,0],centroids[:,1],s=500,marker='s')\n",
        "plt.scatter(iris['sepal length (cm)'],iris['petal length (cm)'])\n",
        "plt.xlabel('sepal length')\n",
        "plt.ylabel('petal length')"
      ],
      "execution_count": 132,
      "outputs": [
        {
          "output_type": "execute_result",
          "data": {
            "text/plain": [
              "Text(0, 0.5, 'petal length')"
            ]
          },
          "metadata": {
            "tags": []
          },
          "execution_count": 132
        },
        {
          "output_type": "display_data",
          "data": {
            "image/png": "[encoded data removed]",
            "text/plain": [
              "<Figure size 432x288 with 1 Axes>"
            ]
          },
          "metadata": {
            "tags": [],
            "needs_background": "light"
          }
        }
      ]
    },
    {
      "cell_type": "code",
      "metadata": {
        "id": "OzLQ4psrPcQA",
        "colab_type": "code",
        "colab": {
          "base_uri": "https://localhost:8080/",
          "height": 108
        },
        "outputId": "f316d041-c68e-4a91-f015-588d1cc98c8f"
      },
      "source": [
        "print(\"Homogenity score    : \",metrics.homogeneity_score(iris.target,kmeans_one.labels_))\n",
        "print(\"Completeness score  : \",metrics.completeness_score(iris.target,kmeans_one.labels_))\n",
        "print(\"V-measure score     : \",metrics.v_measure_score(iris.target,kmeans_one.labels_))\n",
        "print(\"Adjusted rand score : \",metrics.adjusted_rand_score(iris.target,kmeans_one.labels_))\n",
        "print(\"Siluate score       : \",metrics.silhouette_score(iris,kmeans_one.labels_))"
      ],
      "execution_count": 133,
      "outputs": [
        {
          "output_type": "stream",
          "text": [
            "Homogenity score    :  0.7514854021988338\n",
            "Completeness score  :  0.7649861514489815\n",
            "V-measure score     :  0.7581756800057784\n",
            "Adjusted rand score :  0.7302382722834697\n",
            "Siluate score       :  0.553540214427476\n"
          ],
          "name": "stdout"
        }
      ]
    },
    {
      "cell_type": "code",
      "metadata": {
        "id": "BLN19DklPgKN",
        "colab_type": "code",
        "colab": {}
      },
      "source": [
        "## using clustering with other method\n",
        "#  centroids based (k means clustering)\n",
        "#  hierarchical clustering (points are callculated by one another no centroid) \n",
        "#  these algorithm name is   (agglomerative clustering) (BIRCH clustering)\n",
        "#  Distributon based clustering (by sampling a perticular portion from the data)\n",
        "## the algo name is gausian mixtr models\n",
        "## density based  that is based on density figh density make a cluster\n",
        "### DB SCAN and mean shift clustering\n"
      ],
      "execution_count": 134,
      "outputs": []
    },
    {
      "cell_type": "code",
      "metadata": {
        "id": "ZzBGAEcxRjoS",
        "colab_type": "code",
        "colab": {}
      },
      "source": [
        "### multiple clustering"
      ],
      "execution_count": 135,
      "outputs": []
    },
    {
      "cell_type": "code",
      "metadata": {
        "id": "HMcAHO9kR7Yg",
        "colab_type": "code",
        "colab": {
          "base_uri": "https://localhost:8080/",
          "height": 206
        },
        "outputId": "b5432923-fbe8-42ec-919a-260b2e754bad"
      },
      "source": [
        "iris.head()"
      ],
      "execution_count": 136,
      "outputs": [
        {
          "output_type": "execute_result",
          "data": {
            "text/html": [
              "<div>\n",
              "<style scoped>\n",
              "    .dataframe tbody tr th:only-of-type {\n",
              "        vertical-align: middle;\n",
              "    }\n",
              "\n",
              "    .dataframe tbody tr th {\n",
              "        vertical-align: top;\n",
              "    }\n",
              "\n",
              "    .dataframe thead th {\n",
              "        text-align: right;\n",
              "    }\n",
              "</style>\n",
              "<table border=\"1\" class=\"dataframe\">\n",
              "  <thead>\n",
              "    <tr style=\"text-align: right;\">\n",
              "      <th></th>\n",
              "      <th>sepal length (cm)</th>\n",
              "      <th>sepal width (cm)</th>\n",
              "      <th>petal length (cm)</th>\n",
              "      <th>petal width (cm)</th>\n",
              "      <th>target</th>\n",
              "    </tr>\n",
              "  </thead>\n",
              "  <tbody>\n",
              "    <tr>\n",
              "      <th>0</th>\n",
              "      <td>5.1</td>\n",
              "      <td>3.5</td>\n",
              "      <td>1.4</td>\n",
              "      <td>0.2</td>\n",
              "      <td>0</td>\n",
              "    </tr>\n",
              "    <tr>\n",
              "      <th>1</th>\n",
              "      <td>4.9</td>\n",
              "      <td>3.0</td>\n",
              "      <td>1.4</td>\n",
              "      <td>0.2</td>\n",
              "      <td>0</td>\n",
              "    </tr>\n",
              "    <tr>\n",
              "      <th>2</th>\n",
              "      <td>4.7</td>\n",
              "      <td>3.2</td>\n",
              "      <td>1.3</td>\n",
              "      <td>0.2</td>\n",
              "      <td>0</td>\n",
              "    </tr>\n",
              "    <tr>\n",
              "      <th>3</th>\n",
              "      <td>4.6</td>\n",
              "      <td>3.1</td>\n",
              "      <td>1.5</td>\n",
              "      <td>0.2</td>\n",
              "      <td>0</td>\n",
              "    </tr>\n",
              "    <tr>\n",
              "      <th>4</th>\n",
              "      <td>5.0</td>\n",
              "      <td>3.6</td>\n",
              "      <td>1.4</td>\n",
              "      <td>0.2</td>\n",
              "      <td>0</td>\n",
              "    </tr>\n",
              "  </tbody>\n",
              "</table>\n",
              "</div>"
            ],
            "text/plain": [
              "   sepal length (cm)  sepal width (cm)  ...  petal width (cm)  target\n",
              "0                5.1               3.5  ...               0.2       0\n",
              "1                4.9               3.0  ...               0.2       0\n",
              "2                4.7               3.2  ...               0.2       0\n",
              "3                4.6               3.1  ...               0.2       0\n",
              "4                5.0               3.6  ...               0.2       0\n",
              "\n",
              "[5 rows x 5 columns]"
            ]
          },
          "metadata": {
            "tags": []
          },
          "execution_count": 136
        }
      ]
    },
    {
      "cell_type": "code",
      "metadata": {
        "id": "IP0Wb_0aR9PS",
        "colab_type": "code",
        "colab": {
          "base_uri": "https://localhost:8080/",
          "height": 424
        },
        "outputId": "c89cb3ee-5959-4772-f2ed-c7fc00677752"
      },
      "source": [
        "iris_labels = iris['target']\n",
        "iris_"
      ],
      "execution_count": 141,
      "outputs": [
        {
          "output_type": "execute_result",
          "data": {
            "text/html": [
              "<div>\n",
              "<style scoped>\n",
              "    .dataframe tbody tr th:only-of-type {\n",
              "        vertical-align: middle;\n",
              "    }\n",
              "\n",
              "    .dataframe tbody tr th {\n",
              "        vertical-align: top;\n",
              "    }\n",
              "\n",
              "    .dataframe thead th {\n",
              "        text-align: right;\n",
              "    }\n",
              "</style>\n",
              "<table border=\"1\" class=\"dataframe\">\n",
              "  <thead>\n",
              "    <tr style=\"text-align: right;\">\n",
              "      <th></th>\n",
              "      <th>sepal length (cm)</th>\n",
              "      <th>sepal width (cm)</th>\n",
              "      <th>petal length (cm)</th>\n",
              "      <th>petal width (cm)</th>\n",
              "    </tr>\n",
              "  </thead>\n",
              "  <tbody>\n",
              "    <tr>\n",
              "      <th>0</th>\n",
              "      <td>5.1</td>\n",
              "      <td>3.5</td>\n",
              "      <td>1.4</td>\n",
              "      <td>0.2</td>\n",
              "    </tr>\n",
              "    <tr>\n",
              "      <th>1</th>\n",
              "      <td>4.9</td>\n",
              "      <td>3.0</td>\n",
              "      <td>1.4</td>\n",
              "      <td>0.2</td>\n",
              "    </tr>\n",
              "    <tr>\n",
              "      <th>2</th>\n",
              "      <td>4.7</td>\n",
              "      <td>3.2</td>\n",
              "      <td>1.3</td>\n",
              "      <td>0.2</td>\n",
              "    </tr>\n",
              "    <tr>\n",
              "      <th>3</th>\n",
              "      <td>4.6</td>\n",
              "      <td>3.1</td>\n",
              "      <td>1.5</td>\n",
              "      <td>0.2</td>\n",
              "    </tr>\n",
              "    <tr>\n",
              "      <th>4</th>\n",
              "      <td>5.0</td>\n",
              "      <td>3.6</td>\n",
              "      <td>1.4</td>\n",
              "      <td>0.2</td>\n",
              "    </tr>\n",
              "    <tr>\n",
              "      <th>...</th>\n",
              "      <td>...</td>\n",
              "      <td>...</td>\n",
              "      <td>...</td>\n",
              "      <td>...</td>\n",
              "    </tr>\n",
              "    <tr>\n",
              "      <th>145</th>\n",
              "      <td>6.7</td>\n",
              "      <td>3.0</td>\n",
              "      <td>5.2</td>\n",
              "      <td>2.3</td>\n",
              "    </tr>\n",
              "    <tr>\n",
              "      <th>146</th>\n",
              "      <td>6.3</td>\n",
              "      <td>2.5</td>\n",
              "      <td>5.0</td>\n",
              "      <td>1.9</td>\n",
              "    </tr>\n",
              "    <tr>\n",
              "      <th>147</th>\n",
              "      <td>6.5</td>\n",
              "      <td>3.0</td>\n",
              "      <td>5.2</td>\n",
              "      <td>2.0</td>\n",
              "    </tr>\n",
              "    <tr>\n",
              "      <th>148</th>\n",
              "      <td>6.2</td>\n",
              "      <td>3.4</td>\n",
              "      <td>5.4</td>\n",
              "      <td>2.3</td>\n",
              "    </tr>\n",
              "    <tr>\n",
              "      <th>149</th>\n",
              "      <td>5.9</td>\n",
              "      <td>3.0</td>\n",
              "      <td>5.1</td>\n",
              "      <td>1.8</td>\n",
              "    </tr>\n",
              "  </tbody>\n",
              "</table>\n",
              "<p>150 rows × 4 columns</p>\n",
              "</div>"
            ],
            "text/plain": [
              "     sepal length (cm)  sepal width (cm)  petal length (cm)  petal width (cm)\n",
              "0                  5.1               3.5                1.4               0.2\n",
              "1                  4.9               3.0                1.4               0.2\n",
              "2                  4.7               3.2                1.3               0.2\n",
              "3                  4.6               3.1                1.5               0.2\n",
              "4                  5.0               3.6                1.4               0.2\n",
              "..                 ...               ...                ...               ...\n",
              "145                6.7               3.0                5.2               2.3\n",
              "146                6.3               2.5                5.0               1.9\n",
              "147                6.5               3.0                5.2               2.0\n",
              "148                6.2               3.4                5.4               2.3\n",
              "149                5.9               3.0                5.1               1.8\n",
              "\n",
              "[150 rows x 4 columns]"
            ]
          },
          "metadata": {
            "tags": []
          },
          "execution_count": 141
        }
      ]
    },
    {
      "cell_type": "code",
      "metadata": {
        "id": "4AVl_SDlSDaj",
        "colab_type": "code",
        "colab": {}
      },
      "source": [
        "def build_model(clustering_model,data,labels):\n",
        "  model = clustering_model\n",
        "  print(\"Homogenity score    : \",metrics.homogeneity_score(label,model.labels_))\n",
        "  print(\"Completeness score  : \",metrics.completeness_score(label,model.labels_))\n",
        "  print(\"V-measure score     : \",metrics.v_measure_score(label,model.labels_))\n",
        "  print(\"Adjusted rand score : \",metrics.adjusted_rand_score(label,model.labels_))\n",
        "  print(\"Siluate score       : \",metrics.silhouette_score(data,model.labels_))\n"
      ],
      "execution_count": 146,
      "outputs": []
    },
    {
      "cell_type": "code",
      "metadata": {
        "id": "WFmUwMvJSg8q",
        "colab_type": "code",
        "colab": {}
      },
      "source": [
        "### import all the clustering algorithm available\n",
        "from sklearn.cluster import *"
      ],
      "execution_count": 147,
      "outputs": []
    },
    {
      "cell_type": "code",
      "metadata": {
        "id": "dCnynIfEV0gK",
        "colab_type": "code",
        "colab": {}
      },
      "source": [
        "def k_means(data,n,max_iter=1000):\n",
        "  model = KMeans(n_clusters=n,max_iter=max_iter).fit(data)\n",
        "  return model"
      ],
      "execution_count": 148,
      "outputs": []
    },
    {
      "cell_type": "code",
      "metadata": {
        "id": "xjgP-uv1WMlh",
        "colab_type": "code",
        "colab": {
          "base_uri": "https://localhost:8080/",
          "height": 108
        },
        "outputId": "79d79655-7481-46db-a14f-e109ad5a0989"
      },
      "source": [
        "build_model(k_means(iris_,3),iris_,iris_labels)"
      ],
      "execution_count": 150,
      "outputs": [
        {
          "output_type": "stream",
          "text": [
            "Homogenity score    :  0.7514854021988338\n",
            "Completeness score  :  0.7649861514489815\n",
            "V-measure score     :  0.7581756800057784\n",
            "Adjusted rand score :  0.7302382722834697\n",
            "Siluate score       :  0.5528190123564091\n"
          ],
          "name": "stdout"
        }
      ]
    },
    {
      "cell_type": "code",
      "metadata": {
        "id": "owuiJoLpWfOJ",
        "colab_type": "code",
        "colab": {}
      },
      "source": [
        "## choosing algorithm\n",
        "\n",
        "## if the dataset is large and a lot of cluster use  \"Birch,aggoloromative algorithm\"\n",
        "## this is created using a tree beased data\n",
        "## for large dataset, it create a branch in  atree and all the leaf in  a branch is in  a same cluster\n",
        "\n",
        "## aggloromative can bo the same thig with the bottom up approach\n",
        "\n",
        "\n",
        "## id the data set is small but cluster is many so you use meanshift,affinity propagation agorithm\n",
        "## mean shift use pair wise distance\n",
        "## affinity porpagationn use graph algorithm to find the closest point\n",
        "## you dont need to set the cluster number in affinity propagatopn\n",
        "\n",
        "## if the dataset is large but you want small claster\n",
        "## then use the kmeans and DBSCAN\n",
        "## use k means when you want even type cluster\n",
        "## like if the cluster size is close\n",
        "## if not use the dbscan\n",
        "\n",
        "\n",
        "## few cluster and mediam data\n",
        "## use the Spectral algorithm\n",
        "## use distance based like knn to create the groups"
      ],
      "execution_count": 152,
      "outputs": []
    },
    {
      "cell_type": "code",
      "metadata": {
        "id": "ljc_Y2TMZha_",
        "colab_type": "code",
        "colab": {}
      },
      "source": [
        "## hierrarchical clustering\n",
        "## connectiviti based clustering\n",
        "### implement the aggloromative clustering"
      ],
      "execution_count": 153,
      "outputs": []
    },
    {
      "cell_type": "code",
      "metadata": {
        "id": "8TK62FyBbu7h",
        "colab_type": "code",
        "colab": {}
      },
      "source": [
        "def aggloromative_cluster_model(data,n):\n",
        "  model = AgglomerativeClustering(n_clusters=n).fit(data)\n",
        "  return model"
      ],
      "execution_count": 154,
      "outputs": []
    },
    {
      "cell_type": "code",
      "metadata": {
        "id": "MjU-I0huciZB",
        "colab_type": "code",
        "colab": {
          "base_uri": "https://localhost:8080/",
          "height": 108
        },
        "outputId": "e7bb6417-e8a8-46bb-9413-34c13d6fe29b"
      },
      "source": [
        "build_model(aggloromative_cluster_model(iris_,3),iris_,iris_labels)"
      ],
      "execution_count": 155,
      "outputs": [
        {
          "output_type": "stream",
          "text": [
            "Homogenity score    :  0.7608008469718723\n",
            "Completeness score  :  0.7795958005591144\n",
            "V-measure score     :  0.7700836616487869\n",
            "Adjusted rand score :  0.7311985567707745\n",
            "Siluate score       :  0.5543236611296415\n"
          ],
          "name": "stdout"
        }
      ]
    },
    {
      "cell_type": "code",
      "metadata": {
        "id": "CWGD-P6ncnvl",
        "colab_type": "code",
        "colab": {}
      },
      "source": [
        "#### using the DBscan clustering\n",
        "##eps         = the minimum distance to consider them as neighbors. if you choose to small mst of them cant create cluster.\n",
        "                ## setting too much data will creae one giant cluseter which is useless\n",
        "##min_samples = the minimum number of elements that forms a dense area. for noisy data use large number\n",
        "\n",
        "def DBscan_model(data,eps=.45,min_samples=4):\n",
        "  model = DBSCAN(eps=eps,min_samples=min_samples).fit(data)\n",
        "  return model"
      ],
      "execution_count": 158,
      "outputs": []
    },
    {
      "cell_type": "code",
      "metadata": {
        "id": "kY-9idjleFag",
        "colab_type": "code",
        "colab": {
          "base_uri": "https://localhost:8080/",
          "height": 108
        },
        "outputId": "e1447507-9f32-43f7-e3c8-a6e193236a88"
      },
      "source": [
        "build_model(DBscan_model(iris_),iris_,iris_labels)"
      ],
      "execution_count": 160,
      "outputs": [
        {
          "output_type": "stream",
          "text": [
            "Homogenity score    :  0.5773205947971476\n",
            "Completeness score  :  0.6093983666695363\n",
            "V-measure score     :  0.5929259393972258\n",
            "Adjusted rand score :  0.5084974632998323\n",
            "Siluate score       :  0.3724439898969612\n"
          ],
          "name": "stdout"
        }
      ]
    },
    {
      "cell_type": "code",
      "metadata": {
        "id": "jFcqMp45eMtm",
        "colab_type": "code",
        "colab": {}
      },
      "source": [
        ""
      ],
      "execution_count": null,
      "outputs": []
    }
  ]
}